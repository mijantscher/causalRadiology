{
 "cells": [
  {
   "cell_type": "code",
   "execution_count": 1,
   "outputs": [],
   "source": [
    "# Nice tutorial on propensity score matching (psm): https://ehsanx.github.io/psw/index.html#description"
   ],
   "metadata": {
    "collapsed": false,
    "ExecuteTime": {
     "end_time": "2023-10-28T14:46:08.417465849Z",
     "start_time": "2023-10-28T14:46:08.415699156Z"
    }
   },
   "id": "2fec526d3f7e10ea"
  },
  {
   "cell_type": "code",
   "source": [
    "# %load_ext autoreload\n",
    "%reload_ext autoreload\n",
    "%autoreload 2"
   ],
   "metadata": {
    "collapsed": false,
    "ExecuteTime": {
     "end_time": "2024-07-16T17:36:01.819079Z",
     "start_time": "2024-07-16T17:36:01.796847Z"
    }
   },
   "id": "c6e74aa6bd0cd960",
   "outputs": [],
   "execution_count": 1
  },
  {
   "cell_type": "code",
   "source": [
    "import numpy as np\n",
    "import pandas as pd\n",
    "import matplotlib.pyplot as plt\n",
    "import seaborn as sns\n",
    "import configparser\n",
    "import sqlite3\n",
    "import math\n",
    "import plotly.express as px\n",
    "from sklearn.linear_model import LogisticRegression\n",
    "from sklearn.neural_network import MLPClassifier\n",
    "\n",
    "# from streamlit_dashboard.causal_cluster import df_data\n",
    "from streamlit_dashboard.causal_cluster_helper import DataLoader, HypothesisTestHelper, FollowUpFilter\n",
    "from psm_helper import PsmHelper, OBSERVATIONAL_CLASSES\n",
    "\n",
    "import scienceplots\n",
    "\n",
    "# plt.style.use('science')\n",
    "plt.style.use('classic')\n",
    "\n",
    "sns.set()  # set the style"
   ],
   "metadata": {
    "collapsed": false,
    "ExecuteTime": {
     "end_time": "2025-02-25T08:20:18.117391Z",
     "start_time": "2025-02-25T08:20:17.972995Z"
    }
   },
   "id": "21f40eaad8b1891a",
   "outputs": [],
   "execution_count": 1
  },
  {
   "cell_type": "code",
   "source": [
    "config = configparser.ConfigParser()\n",
    "config.read('../../data/config/local_config.ini')\n",
    "conn = sqlite3.connect(config['DATABASE']['path'])"
   ],
   "metadata": {
    "collapsed": false,
    "ExecuteTime": {
     "end_time": "2024-07-16T17:36:05.156323Z",
     "start_time": "2024-07-16T17:36:05.134402Z"
    }
   },
   "id": "1c72ca2fc89d57cc",
   "outputs": [],
   "execution_count": 3
  },
  {
   "cell_type": "code",
   "source": [
    "treatment_var = \"is_clinical_question_stated\"\n",
    "patient_characteristics = [\n",
    "    \"age_intervall_0\",\n",
    "    \"age_intervall_1\",\n",
    "    \"age_intervall_2\",\n",
    "    \"M\",\n",
    "    \"F\"\n",
    "]\n",
    "\n",
    "# for icd-code disease: 486 (pneumonia)\n",
    "disease_icd = [(\"486\", \"ICD-9\")]\n",
    "\n",
    "observation_indication_history = [\n",
    "    (\"C0015967\", \"Fever\"),\n",
    "    (\"C0010200\", \"Coughing\"),\n",
    "    (\"C0013404\", \"Dyspnea\"),\n",
    "    (\"C0032285\", \"Pneumonia\"),\n",
    "    (\"C0242184\", \"Hypoxia\"),\n",
    "    (\"C0008031\", \"Chest Pain\"),\n",
    "    (\"C0239134\", \"Productive Cough\"),\n",
    "    (\"C0332271\", \"Worsening pattern\"),\n",
    "    (\"C0024117\", \"Chronic Obstructive Airway Disease\"),\n",
    "    (\"C0018802\", \"Congestive heart failure\"),\n",
    "    (\"C0032227\", \"Pleural effusion disorder\"),\n",
    "    (\"C0242379\", \"Malignant neoplasm of lung\"),\n",
    "    (\"C0019079\", \"Hemoptysis\"),\n",
    "    (\"C0085593\", \"Chills\"),\n",
    "    (\"C0034063\", \"Pulmonary Edema\"),\n",
    "    (\"C0019682\", \"HIV\"),\n",
    "    (\"C0476273\", \"Respiratory distress\"),\n",
    "    (\"C0231835\", \"Tachypnea\"),\n",
    "    (\"C1145670\", \"Respiratory Failure\"),\n",
    "    (\"C0043144\", \"Wheezing\"),\n",
    "    (\"C0034642\", \"Rales\"),\n",
    "    (\"C0004093\", \"Asthenia\"),\n",
    "    (\"C0009676\", \"Confusion\"),\n",
    "    (\"C0189477\", \"Thoracentesis\"),\n",
    "    (\"C0021107\", \"Implantation procedure\"),\n",
    "    (\"C0039231\", \"Tachycardia\"),\n",
    "    (\"C0023518\", \"Leukocytosis\"),\n",
    "    (\"C0007131\", \"Non-Small Cell Lung Carcinoma\"),\n",
    "    (\"C0008033\", \"Pleuritic pain\"),\n",
    "    (\"C0700292\", \"Hypoxemia\"),\n",
    "    (\"C0004238\", \"Atrial Fibrillation\"),\n",
    "    (\"C0000737\", \"Abdominal Pain\"),\n",
    "    (\"C0022661\", \"Kidney Failure, Chronic\"),\n",
    "    (\"C0020649\", \"Hypotension\"),\n",
    "    (\"C0026764\", \"Multiple Myeloma\"),\n",
    "    (\"C0179740\", \"Peripherally inserted central catheter (physical object)\"),\n",
    "    (\"C0029053\", \"Decreased translucency\"),\n",
    "    (\"C0013216\", \"Pharmacotherapy\"),\n",
    "    (\"C0015672\", \"Fatigue\"),\n",
    "    (\"C0349707\", \"Aspiration-action\"),\n",
    "    (\"C0032326\", \"Pneumothorax\"),\n",
    "    (\"C0008034\", \"Chest Tubes\"),\n",
    "    (\"C0021925\", \"Intubation (procedure)\"),\n",
    "    (\"C0023890\", \"Liver Cirrhosis\"),\n",
    "    (\"C4086268\", \"Exacerbation\"),\n",
    "    (\"C1860224\", \"ABLEPHARON-MACROSTOMIA SYNDROME\"),\n",
    "    (\"C0042963\", \"Vomiting\"),\n",
    "    (\"C4698386\", \"Intubated\"),\n",
    "    (\"C0585105\", \"Right lower zone pneumonia\"),\n",
    "    (\"C1261075\", \"Structure of right lower lobe of lung\"),\n",
    "    (\"C0027497\", \"Nausea\"),\n",
    "    (\"C0023530\", \"Leukopenia\"),\n",
    "    (\"C0752151\", \"Thoracic Surgery, Video-Assisted\"),\n",
    "    (\"C0013687\", \"effusion\"),\n",
    "    (\"C0020538\", \"Hypertensive disease\"),\n",
    "    (\"C0746961\", \"Oxygen saturation below reference range\"),\n",
    "    (\"C0040028\", \"Thrombocythemia, Essential\")\n",
    "]\n",
    "\n",
    "# top indication/history cuis for follow-up exams with min. 5 exams during a single hospital admission\n",
    "# observation_indication_history = [\n",
    "#     (\"C0032285\", \"Pneumonia\"),\n",
    "#     (\"C0032227\", \"Pleural effusion disorder\"),\n",
    "#     (\"C0242184\", \"Hypoxia\"),\n",
    "#     (\"C0013404\", \"Dyspnea\"),\n",
    "#     (\"C0024117\", \"Chronic Obstructive Airway Disease\"),\n",
    "#     (\"C1145670\", \"Respiratory Failure\"),\n",
    "#     (\"C0018802\", \"Congestive heart failure\"),\n",
    "#     (\"C0015967\", \"Fever\"),\n",
    "# ]\n",
    "# ------------------------------------------------------\n",
    "# disease_icd = \"7865\"  # chest pain\n",
    "# observation_indication_history = [\n",
    "#     (\"C0008031\", \"Chest Pain\"),\n",
    "#     (\"C0013404\", \"Dyspnea\"),\n",
    "#     (\"C0010200\", \"Coughing\"),\n",
    "#     (\"C0006938\", \"captopril\"),\n",
    "#     (\"C0438716\", \"Chest pressure\"),\n",
    "#     (\"C0008033\", \"Pleuritic pain\"),\n",
    "#     (\"C0020538\", \"Hypertensive disease\"),\n",
    "#     (\"C0151826\", \"Retrosternal pain\"),\n",
    "#     (\"C0030252\", \"Palpitations\"),\n",
    "#     (\"C0015967\", \"Fever\"),\n",
    "#     (\"C0032285\", \"Pneumonia\"),\n",
    "#     (\"C0232292\", \"Chest tightness\"),\n",
    "# ]\n",
    "observation_indication_history_cuis = [x[0] for x in observation_indication_history]\n",
    "observation_indication_history = observation_indication_history[:15]\n",
    "observation_indication_history_cuis = observation_indication_history_cuis[:15]"
   ],
   "metadata": {
    "collapsed": false,
    "ExecuteTime": {
     "end_time": "2024-07-16T17:36:10.907643Z",
     "start_time": "2024-07-16T17:36:10.881427Z"
    }
   },
   "id": "4bbbbf01a9f13e30",
   "outputs": [],
   "execution_count": 4
  },
  {
   "cell_type": "code",
   "source": [
    "treatment_var = \"is_clinical_question_stated\"\n",
    "patient_characteristics = [\n",
    "    \"age_intervall_0\",\n",
    "    \"age_intervall_1\",\n",
    "    \"age_intervall_2\",\n",
    "    \"M\",\n",
    "    \"F\"\n",
    "]\n",
    "\n",
    "# for icd-code disease: 486 (pneumonia)\n",
    "disease_icd = [(\"486\", \"ICD-9\"),\n",
    "               (\"J189\", \"ICD-10\")]\n",
    "\n",
    "observation_indication_history = [\n",
    "    (\"C0015967\", \"Fever\"),\n",
    "    (\"C0010200\", \"Coughing\"),\n",
    "    (\"C0013404\", \"Dyspnea\"),\n",
    "    (\"C0032285\", \"Pneumonia\"),\n",
    "    (\"C0242184\", \"Hypoxia\"),\n",
    "    (\"C0008031\", \"Chest Pain\"),\n",
    "    (\"C0032227\", \"Pleural effusion disorder\"),\n",
    "    (\"C0024117\", \"Chronic Obstructive Airway Disease\"),\n",
    "    (\"C0332271\", \"Worsening pattern\"),\n",
    "    (\"C0018802\", \"Congestive heart failure\"),\n",
    "    (\"C0239134\", \"Productive Cough\"),\n",
    "    (\"C0019079\", \"Hemoptysis\"),\n",
    "    (\"C0242379\", \"Malignant neoplasm of lung\"),\n",
    "    (\"C1145670\", \"Respiratory Failure\"),\n",
    "    (\"C0034063\", \"Pulmonary Edema\"),\n",
    "    (\"C0085593\", \"Chills\"),\n",
    "    (\"C0008034\", \"Chest Tubes\"),\n",
    "    (\"C0004093\", \"Asthenia\"),\n",
    "    (\"C0019682\", \"HIV\"),\n",
    "    (\"C0034642\", \"Rales\"),\n",
    "    (\"C0231835\", \"Tachypnea\"),\n",
    "    (\"C0023518\", \"Leukocytosis\"),\n",
    "    (\"C0476273\", \"Respiratory distress\"),\n",
    "    (\"C0189477\", \"Thoracentesis\"),\n",
    "    (\"C0021107\", \"Implantation procedure\"),\n",
    "    (\"C0700292\", \"Hypoxemia\"),\n",
    "    (\"C0009676\", \"Confusion\"),\n",
    "    (\"C0023890\", \"Liver Cirrhosis\"),\n",
    "    (\"C0039231\", \"Tachycardia\"),\n",
    "    (\"C0043144\", \"Wheezing\"),\n",
    "    (\"C0004238\", \"Atrial Fibrillation\"),\n",
    "    (\"C0022661\", \"Kidney Failure, Chronic\"),\n",
    "    (\"C0032326\", \"Pneumothorax\"),\n",
    "    (\"C0020538\", \"Hypertensive disease\"),\n",
    "    (\"C0000737\", \"Abdominal Pain\"),\n",
    "    (\"C0020649\", \"Hypotension\"),\n",
    "    (\"C4698386\", \"Intubated\"),\n",
    "    (\"C0752151\", \"Thoracic Surgery, Video-Assisted\"),\n",
    "    (\"C0008033\", \"Pleuritic pain\"),\n",
    "    (\"C0007131\", \"Non-Small Cell Lung Carcinoma\"),\n",
    "    (\"C0015672\", \"Fatigue\"),\n",
    "    (\"C0021925\", \"Intubation (procedure)\"),\n",
    "    (\"C0003232\", \"Antibiotics\"),\n",
    "    (\"C0026764\", \"Multiple Myeloma\"),\n",
    "    (\"C0029053\", \"Decreased translucency\"),\n",
    "    (\"C0349707\", \"Aspiration-action\"),\n",
    "    (\"C0013687\", \"effusion\"),\n",
    "    (\"C4086268\", \"Exacerbation\"),\n",
    "    (\"C0179740\", \"Peripherally inserted central catheter (physical object)\"),\n",
    "    (\"C0013216\", \"Pharmacotherapy\"),\n",
    "    (\"C0042963\", \"Vomiting\"),\n",
    "    (\"C0206062\", \"Lung Diseases, Interstitial\"),\n",
    "    (\"C0010068\", \"Coronary heart disease\"),\n",
    "    (\"C0279027\", \"Laser Therapy, Low-Level\"),\n",
    "    (\"C0023530\", \"Leukopenia\"),\n",
    "    (\"C0027497\", \"Nausea\")\n",
    "]\n",
    "\n",
    "observation_indication_history_cuis = [x[0] for x in observation_indication_history]\n",
    "observation_indication_history = observation_indication_history[:15]\n",
    "observation_indication_history_cuis = observation_indication_history_cuis[:15]"
   ],
   "metadata": {
    "collapsed": false,
    "ExecuteTime": {
     "end_time": "2024-07-16T17:35:45.566607Z",
     "start_time": "2024-07-16T17:35:45.561037Z"
    }
   },
   "id": "3683f67a8372ceac",
   "outputs": [],
   "execution_count": 1
  },
  {
   "cell_type": "code",
   "execution_count": 23,
   "outputs": [],
   "source": [
    "treatment_var = \"is_clinical_question_stated\"\n",
    "patient_characteristics = [\n",
    "    \"age_intervall_0\",\n",
    "    \"age_intervall_1\",\n",
    "    \"age_intervall_2\",\n",
    "    \"M\",\n",
    "    \"F\"\n",
    "]\n",
    "\n",
    "# for icd-code disease: 511 (pleurisy)\n",
    "# disease_icd = [(\"511\", \"ICD-9\")]\n",
    "disease_icd = [(\"511\", \"ICD-9\"),\n",
    "               (\"R091\", \"ICD-10\")]\n",
    "\n",
    "# drop (\"C0032326\", \"Pneumothorax\") since it is only mentioned in CQ in the history section but this is wrongly processed on our side. However, it is not a high frequency disease anymore but only high frequency CQ!!\n",
    "# (\"C0189477\", \"Thoracentesis\"): mostly follow-ups!\n",
    "# (\"C0032285\", \"Pneumonia\"): same as for pneumothorax!\n",
    "# --------------------------------------------------------------------------------------\n",
    "# after adapting the code for CQ extraction (now also derive CQ from hx section):\n",
    "#  - Only the SMD of Pneumothorax is out of range (0.2442)\n",
    "#    todo: lets have a look in the streamlit dashboard what might be the reason for that!\n",
    "\n",
    "observation_indication_history = [\n",
    "    (\"C0032227\", \"Pleural effusion disorder\"),\n",
    "    (\"C0008034\", \"Chest Tubes\"),\n",
    "    (\"C0013404\", \"Dyspnea\"),\n",
    "    (\"C0189477\", \"Thoracentesis\"),\n",
    "    (\"C0013687\", \"effusion\"),\n",
    "    (\"C0752151\", \"Thoracic Surgery, Video-Assisted\"),\n",
    "    (\"C0189557\", \"Pleurodesis\"),\n",
    "    # (\"C0032326\", \"Pneumothorax\"),\n",
    "    (\"C0007778\", \"Cerebral Decortication\"),\n",
    "    (\"C4054178\", \"Pigtail Drain\"),\n",
    "    (\"C0023890\", \"Liver Cirrhosis\"),\n",
    "    (\"C0021107\", \"Implantation procedure\"),\n",
    "    (\"C0020312\", \"Hydrothorax\"),\n",
    "    (\"C0039989\", \"Thoracoscopy\"),\n",
    "    (\"C0008031\", \"Chest Pain\"),\n",
    "    (\"C0242184\", \"Hypoxia\"),\n",
    "    # (\"C0032285\", \"Pneumonia\"),\n",
    "    (\"C0242379\", \"Malignant neoplasm of lung\"),\n",
    "    (\"C0012621\", \"Body Fluid Discharge\"),\n",
    "    (\"C0278488\", \"Carcinoma breast stage IV\"),\n",
    "    (\"C0039991\", \"Thoracotomy\"),\n",
    "    (\"C0010200\", \"Coughing\"),\n",
    "    (\"C0015967\", \"Fever\"),\n",
    "    (\"C0080032\", \"Pleural Effusion, Malignant\"),\n",
    "    (\"C0332271\", \"Worsening pattern\"),\n",
    "    (\"C0019123\", \"Hemothorax\"),\n",
    "    (\"C0018802\", \"Congestive heart failure\"),\n",
    "    (\"C5237755\", \"Recurrent Large Pleural Effusion\"),\n",
    "    (\"C0020303\", \"Hydropneumothorax\"),\n",
    "    (\"C0006142\", \"Malignant neoplasm of breast\"),\n",
    "    (\"C0189476\", \"Insertion of pleural tube drain\"),\n",
    "    (\"C0007131\", \"Non-Small Cell Lung Carcinoma\"),\n",
    "    (\"C0019196\", \"Hepatitis C\"),\n",
    "    (\"C0010055\", \"Coronary Artery Bypass Surgery\"),\n",
    "    (\"C0014009\", \"Empyema\"),\n",
    "    (\"C0153676\", \"Secondary malignant neoplasm of lung\"),\n",
    "    (\"C0008033\", \"Pleuritic pain\"),\n",
    "    (\"C0176531\", \"Biopsy of pleura (procedure)\"),\n",
    "    (\"C1145670\", \"Respiratory Failure\"),\n",
    "    (\"C0879203\", \"Pigtail Catheters\"),\n",
    "    (\"C0023891\", \"Liver Cirrhosis, Alcoholic\"),\n",
    "    (\"C0034063\", \"Pulmonary Edema\"),\n",
    "    (\"C0278883\", \"Metastatic melanoma\"),\n",
    "    (\"C0024117\", \"Chronic Obstructive Airway Disease\"),\n",
    "    (\"C0035234\", \"Respiratory Sounds\"),\n",
    "    (\"C0231835\", \"Tachypnea\"),\n",
    "    (\"C0010068\", \"Coronary heart disease\"),\n",
    "    (\"C0030899\", \"pentoxifylline\"),\n",
    "    (\"C0018944\", \"Hematoma\"),\n",
    "    (\"C0019682\", \"HIV\"),\n",
    "    (\"C0225778\", \"Pleural fluid\"),\n",
    "    (\"C0022661\", \"Kidney Failure, Chronic\"),\n",
    "    (\"C0007134\", \"Renal Cell Carcinoma\"),\n",
    "]\n",
    "observation_indication_history_cuis = [x[0] for x in observation_indication_history]\n",
    "observation_indication_history = observation_indication_history[:15]\n",
    "observation_indication_history_cuis = observation_indication_history_cuis[:15]"
   ],
   "metadata": {
    "collapsed": false,
    "ExecuteTime": {
     "end_time": "2024-01-11T11:15:00.302115018Z",
     "start_time": "2024-01-11T11:15:00.247291376Z"
    }
   },
   "id": "9479ee469610ed0c"
  },
  {
   "cell_type": "code",
   "execution_count": 48,
   "outputs": [],
   "source": [
    "treatment_var = \"is_clinical_question_stated\"\n",
    "patient_characteristics = [\n",
    "    \"age_intervall_0\",\n",
    "    \"age_intervall_1\",\n",
    "    \"age_intervall_2\",\n",
    "    \"M\",\n",
    "    \"F\"\n",
    "]\n",
    "\n",
    "# for icd-code disease: 428 (Heart failure)\n",
    "disease_icd = [(\"428\", \"ICD-9\")]\n",
    "\n",
    "# drop (\"C0032285\", \"Pneumonia\") since it is only mentioned in CQ in the history section but this is wrongly processed on our side. However, it is not a high frequency disease anymore but only high frequency CQ!!\n",
    "# drop (\"C0034063\", \"Pulmonary Edema\") party manually observed as CQ or as follow-up (e.g. interval change, ...). But here, wrongly automatically classified as indication/history!!\n",
    "\n",
    "observation_indication_history = [\n",
    "    (\"C0013404\", \"Dyspnea\"),\n",
    "    (\"C0018802\", \"Congestive heart failure\"),\n",
    "    (\"C0242184\", \"Hypoxia\"),\n",
    "    (\"C0010200\", \"Coughing\"),\n",
    "    # (\"C0032285\", \"Pneumonia\"),\n",
    "    (\"C0032227\", \"Pleural effusion disorder\"),\n",
    "    (\"C0008031\", \"Chest Pain\"),\n",
    "    (\"C0024117\", \"Chronic Obstructive Airway Disease\"),\n",
    "    # (\"C0034063\", \"Pulmonary Edema\"),\n",
    "    (\"C0332271\", \"Worsening pattern\"),\n",
    "    (\"C0018801\", \"Heart failure\"),\n",
    "    (\"C0021107\", \"Implantation procedure\"),\n",
    "    (\"C0015967\", \"Fever\"),\n",
    "    (\"C0020725\", \"Type II Mucolipidosis\"),\n",
    "    (\"C0264716\", \"Chronic heart failure\"),\n",
    "    (\"C0004238\", \"Atrial Fibrillation\"),\n",
    "    (\"C0010068\", \"Coronary heart disease\"),\n",
    "    (\"C0013604\", \"Edema\"),\n",
    "    (\"C0020538\", \"Hypertensive disease\"),\n",
    "    (\"C0013687\", \"effusion\"),\n",
    "    (\"C0003507\", \"Aortic Valve Stenosis\"),\n",
    "    (\"C0189477\", \"Thoracentesis\"),\n",
    "    (\"C0022661\", \"Kidney Failure, Chronic\"),\n",
    "    (\"C0476273\", \"Respiratory distress\"),\n",
    "    (\"C0034642\", \"Rales\"),\n",
    "    (\"C0010055\", \"Coronary Artery Bypass Surgery\"),\n",
    "    (\"C0546817\", \"Fluid overload\"),\n",
    "    (\"C0239340\", \"Edema of lower extremity\"),\n",
    "    (\"C0012797\", \"Diuresis\"),\n",
    "    (\"C0043094\", \"Weight Gain\"),\n",
    "    (\"C0008034\", \"Chest Tubes\"),\n",
    "    (\"C0030163\", \"Artificial cardiac pacemaker\"),\n",
    "    (\"C0032326\", \"Pneumothorax\"),\n",
    "    (\"C0020542\", \"Pulmonary Hypertension\"),\n",
    "    (\"C0036980\", \"Shock, Cardiogenic\"),\n",
    "    (\"C0004093\", \"Asthenia\"),\n",
    "    (\"C0700292\", \"Hypoxemia\"),\n",
    "    (\"C0085619\", \"Orthopnea\"),\n",
    "    (\"C0023518\", \"Leukocytosis\"),\n",
    "    (\"C0043144\", \"Wheezing\"),\n",
    "    (\"C0878544\", \"Cardiomyopathies\"),\n",
    "    (\"C1145670\", \"Respiratory Failure\"),\n",
    "    (\"C0231807\", \"Dyspnea on exertion\"),\n",
    "    (\"C0020649\", \"Hypotension\"),\n",
    "    (\"C0179790\", \"Pulmonary artery flotation catheter\"),\n",
    "    (\"C0239134\", \"Productive Cough\"),\n",
    "    (\"C0010054\", \"Coronary Arteriosclerosis\"),\n",
    "    (\"C0179740\", \"Peripherally inserted central catheter (physical object)\"),\n",
    "    (\"C1561643\", \"Chronic Kidney Diseases\"),\n",
    "    (\"C0020488\", \"Hypernatremia\"),\n",
    "    (\"C0015672\", \"Fatigue\"),\n",
    "    (\"C0021925\", \"Intubation (procedure)\"),\n",
    "    (\"C0086296\", \"film (photographic)\"),\n",
    "    (\"C4698386\", \"Intubated\"),\n",
    "    (\"C1135196\", \"Heart Failure, Diastolic\"),\n",
    "    (\"C0581394\", \"Swelling of lower limb\")\n",
    "]\n",
    "observation_indication_history_cuis = [x[0] for x in observation_indication_history]\n",
    "observation_indication_history = observation_indication_history[:15]\n",
    "observation_indication_history_cuis = observation_indication_history_cuis[:15]"
   ],
   "metadata": {
    "collapsed": false
   },
   "id": "209b79a1052f0361"
  },
  {
   "cell_type": "code",
   "execution_count": 38,
   "outputs": [],
   "source": [
    "treatment_var = \"is_clinical_question_stated\"\n",
    "patient_characteristics = [\n",
    "    \"age_intervall_0\",\n",
    "    \"age_intervall_1\",\n",
    "    \"age_intervall_2\",\n",
    "    \"M\",\n",
    "    \"F\"\n",
    "]\n",
    "\n",
    "# for icd-code disease: 428, I50 (Heart failure)\n",
    "disease_icd = [(\"428\", \"ICD-9\"),\n",
    "               (\"I50\", \"ICD-10\")]\n",
    "\n",
    "# drop (\"C0032285\", \"Pneumonia\") since it is only mentioned in CQ in the history section but this is wrongly processed on our side. However, it is not a high frequency disease anymore but only high frequency CQ!!\n",
    "# drop (\"C0034063\", \"Pulmonary Edema\") party manually observed as CQ or as follow-up (e.g. interval change, ...). But here, wrongly automatically classified as indication/history!!\n",
    "\n",
    "observation_indication_history = [\n",
    "    (\"C0013404\", \"Dyspnea\"),\n",
    "    (\"C0018802\", \"Congestive heart failure\"),\n",
    "    (\"C0242184\", \"Hypoxia\"),\n",
    "    (\"C0010200\", \"Coughing\"),\n",
    "    (\"C0032227\", \"Pleural effusion disorder\"),\n",
    "    (\"C0008031\", \"Chest Pain\"),\n",
    "    (\"C0024117\", \"Chronic Obstructive Airway Disease\"),\n",
    "    # (\"C0032285\", \"Pneumonia\"),\n",
    "    (\"C0018801\", \"Heart failure\"),\n",
    "    # (\"C0034063\", \"Pulmonary Edema\"),\n",
    "    (\"C0332271\", \"Worsening pattern\"),\n",
    "    (\"C0010068\", \"Coronary heart disease\"),\n",
    "    (\"C0004238\", \"Atrial Fibrillation\"),\n",
    "    (\"C0021107\", \"Implantation procedure\"),\n",
    "    (\"C0020725\", \"Type II Mucolipidosis\"),\n",
    "    (\"C0020538\", \"Hypertensive disease\"),\n",
    "    (\"C0015967\", \"Fever\"),\n",
    "    (\"C0013604\", \"Edema\"),\n",
    "    (\"C0003507\", \"Aortic Valve Stenosis\"),\n",
    "    (\"C0264716\", \"Chronic heart failure\"),\n",
    "    (\"C0010055\", \"Coronary Artery Bypass Surgery\"),\n",
    "    (\"C0022661\", \"Kidney Failure, Chronic\"),\n",
    "    (\"C0013687\", \"effusion\"),\n",
    "    (\"C0036980\", \"Shock, Cardiogenic\"),\n",
    "    (\"C0043094\", \"Weight Gain\"),\n",
    "    (\"C0034642\", \"Rales\"),\n",
    "    (\"C0189477\", \"Thoracentesis\"),\n",
    "    (\"C0476273\", \"Respiratory distress\"),\n",
    "    (\"C0231807\", \"Dyspnea on exertion\"),\n",
    "    (\"C0546817\", \"Fluid overload\"),\n",
    "    (\"C0012797\", \"Diuresis\"),\n",
    "    (\"C0239340\", \"Edema of lower extremity\"),\n",
    "    (\"C0878544\", \"Cardiomyopathies\"),\n",
    "    (\"C0700292\", \"Hypoxemia\"),\n",
    "    (\"C0008034\", \"Chest Tubes\"),\n",
    "    (\"C1145670\", \"Respiratory Failure\"),\n",
    "    (\"C0030163\", \"Artificial cardiac pacemaker\"),\n",
    "    (\"C0004093\", \"Asthenia\"),\n",
    "    (\"C0020649\", \"Hypotension\"),\n",
    "    (\"C0023518\", \"Leukocytosis\"),\n",
    "    (\"C0085619\", \"Orthopnea\"),\n",
    "    (\"C0020542\", \"Pulmonary Hypertension\"),\n",
    "    (\"C0015672\", \"Fatigue\"),\n",
    "    (\"C0179790\", \"Pulmonary artery flotation catheter\"),\n",
    "    (\"C0239134\", \"Productive Cough\"),\n",
    "    (\"C0019829\", \"Hodgkin Disease\"),\n",
    "    (\"C0032326\", \"Pneumothorax\"),\n",
    "    (\"C0004096\", \"Asthma\"),\n",
    "    (\"C0043144\", \"Wheezing\"),\n",
    "    (\"C1561643\", \"Chronic Kidney Diseases\"),\n",
    "    (\"C4698386\", \"Intubated\"),\n",
    "    (\"C0179740\", \"Peripherally inserted central catheter (physical object)\"),\n",
    "    (\"C1135196\", \"Heart Failure, Diastolic\"),\n",
    "    (\"C0020488\", \"Hypernatremia\"),\n",
    "    (\"C0021925\", \"Intubation (procedure)\"),\n",
    "    (\"C0010054\", \"Coronary Arteriosclerosis\"),\n",
    "]\n",
    "observation_indication_history_cuis = [x[0] for x in observation_indication_history]\n",
    "observation_indication_history = observation_indication_history[:15]\n",
    "observation_indication_history_cuis = observation_indication_history_cuis[:15]"
   ],
   "metadata": {
    "collapsed": false,
    "ExecuteTime": {
     "end_time": "2024-01-11T11:27:25.278786453Z",
     "start_time": "2024-01-11T11:27:25.237570208Z"
    }
   },
   "id": "cc8068b5a438c927"
  },
  {
   "cell_type": "code",
   "execution_count": 54,
   "outputs": [],
   "source": [
    "treatment_var = \"is_clinical_question_stated\"\n",
    "patient_characteristics = [\n",
    "    \"age_intervall_0\",\n",
    "    \"age_intervall_1\",\n",
    "    \"age_intervall_2\",\n",
    "    \"M\",\n",
    "    \"F\"\n",
    "]\n",
    "\n",
    "# for icd-code disease: 807, S22 (Rip fracture)\n",
    "disease_icd = [(\"807\", \"ICD-9\"),\n",
    "               (\"S22\", \"ICD-10\")]\n",
    "\n",
    "\n",
    "observation_indication_history = [\n",
    "    (\"C0035522\", \"Rib Fractures\"),\n",
    "    (\"C0032326\", \"Pneumothorax\"),\n",
    "    (\"C0008034\", \"Chest Tubes\"),\n",
    "    (\"C1421211\", \"GFUS gene\"), # most mentioned by 'fx' which means fracture\n",
    "    (\"C0030899\", \"pentoxifylline\"), # not a drug but mostly referred to 'ptx' which stands for pneumothorax\n",
    "    (\"C0019123\", \"Hemothorax\"),\n",
    "    (\"C0043251\", \"Wounds and Injuries\"),\n",
    "    (\"C0013404\", \"Dyspnea\"),\n",
    "    (\"C0242184\", \"Hypoxia\"),\n",
    "    (\"C0008031\", \"Chest Pain\"),\n",
    "    (\"C0026771\", \"Multiple Trauma\"),\n",
    "    (\"C0032227\", \"Pleural effusion disorder\"),\n",
    "    (\"C0085639\", \"Falls\"),\n",
    "    (\"C0021107\", \"Implantation procedure\"),\n",
    "    (\"C0238436\", \"Fracture of sternum\"),\n",
    "    (\"C0000932\", \"Traffic accidents\"),\n",
    "    (\"C0032285\", \"Pneumonia\"),\n",
    "    (\"C4698386\", \"Intubated\"),\n",
    "    (\"C0019077\", \"Hemopneumothorax\"),\n",
    "    (\"C0030193\", \"Pain\"),\n",
    "    (\"C0016658\", \"Fracture\")\n",
    "]\n",
    "observation_indication_history_cuis = [x[0] for x in observation_indication_history]\n",
    "# observation_indication_history = observation_indication_history[:15]\n",
    "# observation_indication_history_cuis = observation_indication_history_cuis[:15]"
   ],
   "metadata": {
    "collapsed": false,
    "ExecuteTime": {
     "end_time": "2024-01-11T13:11:18.996788651Z",
     "start_time": "2024-01-11T13:11:18.947210275Z"
    }
   },
   "id": "19b78d29f46470d5"
  },
  {
   "metadata": {
    "ExecuteTime": {
     "end_time": "2024-04-24T11:15:33.033719Z",
     "start_time": "2024-04-24T11:15:33.004043Z"
    }
   },
   "cell_type": "code",
   "source": [
    "treatment_var = \"is_clinical_question_stated\"\n",
    "patient_characteristics = [\n",
    "    \"age_intervall_0\",\n",
    "    \"age_intervall_1\",\n",
    "    \"age_intervall_2\",\n",
    "    \"M\",\n",
    "    \"F\"\n",
    "]\n",
    "\n",
    "# for icd-code disease: 427.9, I49.9 (Cardiac dysrhythmias)\n",
    "# for icd-code disease: 427.9, I49.9 (Cardiac dysrhythmias)\n",
    "disease_icd = [(\"427\", \"ICD-9\"),\n",
    "               (\"I49\", \"ICD-10\")]\n",
    "# disease_icd = [(\"490\", \"ICD-9\"),(\"491\", \"ICD-9\"),(\"492\", \"ICD-9\"),(\"493\", \"ICD-9\"),(\"494\", \"ICD-9\"),(\"495\", \"ICD-9\"),(\"496\", \"ICD-9\")]\n",
    "\n",
    "\n",
    "observation_indication_history = [\n",
    "    (\"C0035522\", \"Rib Fractures\"),\n",
    "    (\"C0032326\", \"Pneumothorax\"),\n",
    "    (\"C0008034\", \"Chest Tubes\"),\n",
    "    (\"C1421211\", \"GFUS gene\"), # most mentioned by 'fx' which means fracture\n",
    "    (\"C0030899\", \"pentoxifylline\"), # not a drug but mostly referred to 'ptx' which stands for pneumothorax\n",
    "    (\"C0019123\", \"Hemothorax\"),\n",
    "    (\"C0043251\", \"Wounds and Injuries\"),\n",
    "    (\"C0013404\", \"Dyspnea\"),\n",
    "    (\"C0242184\", \"Hypoxia\"),\n",
    "    (\"C0008031\", \"Chest Pain\"),\n",
    "    (\"C0026771\", \"Multiple Trauma\"),\n",
    "    (\"C0032227\", \"Pleural effusion disorder\"),\n",
    "    (\"C0085639\", \"Falls\"),\n",
    "    (\"C0021107\", \"Implantation procedure\"),\n",
    "    (\"C0238436\", \"Fracture of sternum\"),\n",
    "    (\"C0000932\", \"Traffic accidents\"),\n",
    "    (\"C0032285\", \"Pneumonia\"),\n",
    "    (\"C4698386\", \"Intubated\"),\n",
    "    (\"C0019077\", \"Hemopneumothorax\"),\n",
    "    (\"C0030193\", \"Pain\"),\n",
    "    (\"C0016658\", \"Fracture\")\n",
    "]\n",
    "observation_indication_history_cuis = [x[0] for x in observation_indication_history]\n",
    "# observation_indication_history = observation_indication_history[:15]\n",
    "# observation_indication_history_cuis = observation_indication_history_cuis[:15]"
   ],
   "id": "d23afbfca42c5f88",
   "outputs": [],
   "execution_count": 28
  },
  {
   "metadata": {},
   "cell_type": "code",
   "outputs": [],
   "execution_count": null,
   "source": [
    "treatment_var = \"is_clinical_question_stated\"\n",
    "patient_characteristics = [\n",
    "    \"age_intervall_0\",\n",
    "    \"age_intervall_1\",\n",
    "    \"age_intervall_2\",\n",
    "    \"M\",\n",
    "    \"F\"\n",
    "]\n",
    "\n",
    "# for icd-code disease: 427.9, I49.9 (Cardiac dysrhythmias)\n",
    "# for icd-code disease: 427.9, I49.9 (Cardiac dysrhythmias)\n",
    "disease_icd = [(\"427\", \"ICD-9\"),\n",
    "               (\"I49\", \"ICD-10\")]\n",
    "# disease_icd = [(\"490\", \"ICD-9\"),(\"491\", \"ICD-9\"),(\"492\", \"ICD-9\"),(\"493\", \"ICD-9\"),(\"494\", \"ICD-9\"),(\"495\", \"ICD-9\"),(\"496\", \"ICD-9\")]\n",
    "\n",
    "\n",
    "observation_indication_history = [\n",
    "    (\"C0035522\", \"Rib Fractures\"),\n",
    "    (\"C0032326\", \"Pneumothorax\"),\n",
    "    (\"C0008034\", \"Chest Tubes\"),\n",
    "    (\"C1421211\", \"GFUS gene\"), # most mentioned by 'fx' which means fracture\n",
    "    (\"C0030899\", \"pentoxifylline\"), # not a drug but mostly referred to 'ptx' which stands for pneumothorax\n",
    "    (\"C0019123\", \"Hemothorax\"),\n",
    "    (\"C0043251\", \"Wounds and Injuries\"),\n",
    "    (\"C0013404\", \"Dyspnea\"),\n",
    "    (\"C0242184\", \"Hypoxia\"),\n",
    "    (\"C0008031\", \"Chest Pain\"),\n",
    "    (\"C0026771\", \"Multiple Trauma\"),\n",
    "    (\"C0032227\", \"Pleural effusion disorder\"),\n",
    "    (\"C0085639\", \"Falls\"),\n",
    "    (\"C0021107\", \"Implantation procedure\"),\n",
    "    (\"C0238436\", \"Fracture of sternum\"),\n",
    "    (\"C0000932\", \"Traffic accidents\"),\n",
    "    (\"C0032285\", \"Pneumonia\"),\n",
    "    (\"C4698386\", \"Intubated\"),\n",
    "    (\"C0019077\", \"Hemopneumothorax\"),\n",
    "    (\"C0030193\", \"Pain\"),\n",
    "    (\"C0016658\", \"Fracture\")\n",
    "]\n",
    "observation_indication_history_cuis = [x[0] for x in observation_indication_history]\n",
    "# observation_indication_history = observation_indication_history[:15]\n",
    "# observation_indication_history_cuis = observation_indication_history_cuis[:15]"
   ],
   "id": "f12e229c504d87e6"
  },
  {
   "metadata": {
    "ExecuteTime": {
     "end_time": "2024-05-24T08:46:04.450179Z",
     "start_time": "2024-05-24T08:46:04.403124Z"
    }
   },
   "cell_type": "code",
   "source": [
    "treatment_var = \"is_clinical_question_stated\"\n",
    "patient_characteristics = [\n",
    "    \"age_intervall_0\",\n",
    "    \"age_intervall_1\",\n",
    "    \"age_intervall_2\",\n",
    "    \"M\",\n",
    "    \"F\"\n",
    "]\n",
    "# streamlit query for \"ICD-Code input\": ^490|^491|^492|^493|^494|^495|^496|^497|^J40|^J41|^J42|^J43|^J44|^J45|^J46|^J47\n",
    "# for icd-code disease: Chronic obstructive pulmonary disease and bronchiectasis\n",
    "disease_icd = [(\"490\", \"ICD-9\"),\n",
    "               (\"491\", \"ICD-9\"),\n",
    "               (\"492\", \"ICD-9\"),\n",
    "               (\"493\", \"ICD-9\"),\n",
    "               (\"494\", \"ICD-9\"),\n",
    "               (\"495\", \"ICD-9\"),\n",
    "               (\"496\", \"ICD-9\"),\n",
    "               (\"J40\", \"ICD-10\"),\n",
    "               (\"J41\", \"ICD-10\"),\n",
    "               (\"J42\", \"ICD-10\"),\n",
    "               (\"J43\", \"ICD-10\"),\n",
    "               (\"J44\", \"ICD-10\"),\n",
    "               (\"J45\", \"ICD-10\"),\n",
    "               (\"J46\", \"ICD-10\"),\n",
    "               (\"J47\", \"ICD-10\")]\n",
    "\n",
    "title = \"COPD and bronchiectasis(490-497 and J40-J47)\"\n",
    "file_name = \"copd_and_bronchiectasis(490-497 and J40-J47)\"\n",
    "\n",
    "observation_indication_history = [\n",
    "    (\"C0013404\", \"Dyspnea\"),\n",
    "    (\"C0024117\", \"Chronic Obstructive Airway Disease\"),\n",
    "    (\"C0010200\", \"Coughing\"),\n",
    "    (\"C0004096\", \"Asthma\"),\n",
    "    (\"C4086268\", \"Exacerbation\"),\n",
    "    (\"C0242184\", \"Hypoxia\"),\n",
    "    (\"C0015967\", \"Fever\"),\n",
    "    # (\"C0032285\", \"Pneumonia\"),\n",
    "    (\"C0043144\", \"Wheezing\"),\n",
    "    (\"C0008031\", \"Chest Pain\"),\n",
    "    # (\"C0349588\", \"Short stature\"),  # should be \"shortness of breath\" as by exploratory analysis\n",
    "    (\"C0239134\", \"Productive Cough\"),\n",
    "    (\"C0018802\", \"Congestive heart failure\"),\n",
    "    (\"C0332271\", \"Worsening pattern\"),\n",
    "    (\"C0476273\", \"Respiratory distress\"),\n",
    "    (\"C0349790\", \"Exacerbation of asthma\"),\n",
    "    # (\"C0032326\", \"Pneumothorax\"),\n",
    "    # (\"C0015264\", \"Exertion\"),  # maybe keep this\n",
    "    # (\"C0600500\", \"Peptide Nucleic Acids\"),  # should be the abbreviation of \"pneumonia\" and not \"Peptide Nucleic Acids\"\n",
    "    (\"C1145670\", \"Respiratory Failure\"),\n",
    "    (\"C0008034\", \"Chest Tubes\"),\n",
    "    # (\"C0225386\", \"Breath\"),  # should be \"shortness of breath\"\n",
    "    (\"C0231835\", \"Tachypnea\"),\n",
    "    (\"C0021925\", \"Intubation (procedure)\"),\n",
    "    (\"C0020538\", \"Hypertensive disease\"),\n",
    "    (\"C0242379\", \"Malignant neoplasm of lung\"),\n",
    "    (\"C0021107\", \"Implantation procedure\"),\n",
    "    (\"C0019079\", \"Hemoptysis\"),\n",
    "    (\"C0034642\", \"Rales\"),\n",
    "    (\"C0085593\", \"Chills\"),\n",
    "    (\"C0038056\", \"Sputum\"),\n",
    "    (\"C4698386\", \"Intubated\"),\n",
    "    (\"C0349707\", \"Aspiration-action\"),\n",
    "    (\"C0010068\", \"Coronary heart disease\"),\n",
    "    (\"C0023518\", \"Leukocytosis\"),\n",
    "    (\"C0006267\", \"Bronchiectasis\"),\n",
    "    (\"C0039231\", \"Tachycardia\"),\n",
    "    (\"C0034063\", \"Pulmonary Edema\"),\n",
    "    (\"C0019682\", \"HIV\"),\n",
    "    (\"C0035234\", \"Respiratory Sounds\"),\n",
    "    (\"C0030054\", \"oxygen\"),\n",
    "    (\"C1514873\", \"Requirement\"),\n",
    "    (\"C0455544\", \"H/O: asthma\"),\n",
    "    (\"C0004238\", \"Atrial Fibrillation\"),\n",
    "    (\"C0700292\", \"Hypoxemia\"),\n",
    "    (\"C0242104\", \"Sputum production\"),\n",
    "    (\"C0008033\", \"Pleuritic pain\"),\n",
    "    (\"C0032227\", \"Pleural effusion disorder\"),\n",
    "    (\"C0175730\", \"biomedical tube device\"),\n",
    "    (\"C0264558\", \"Tension Pneumothorax\"),\n",
    "    (\"C0746961\", \"Oxygen saturation below reference range\"),\n",
    "    (\"C1517205\", \"Flare\"),\n",
    "    (\"C0232292\", \"Chest tightness\"),\n",
    "    (\"C0036202\", \"Sarcoidosis\"),\n",
    "    (\"C0278060\", \"Mental state\"),\n",
    "    (\"C0001623\", \"Adrenal gland hypofunction\"),\n",
    "    (\"C0035508\", \"Rhonchi\"),\n",
    "    (\"C4528581\", \"Endobronchial Stent Placement\"),\n",
    "    (\"C0013604\", \"Edema\"),\n",
    "    (\"C0004093\", \"Asthenia\"),\n",
    "    (\"C0020440\", \"Hypercapnia\"),\n",
    "    (\"C0231807\", \"Dyspnea on exertion\"),\n",
    "    (\"C0850149\", \"Dry cough\"),\n",
    "    (\"C0562483\", \"Persistent cough\")\n",
    "]\n",
    "observation_indication_history_cuis = [x[0] for x in observation_indication_history]\n",
    "observation_indication_history = observation_indication_history[:15]\n",
    "observation_indication_history_cuis = observation_indication_history_cuis[:15]"
   ],
   "id": "4bb9d187db5ceb01",
   "outputs": [],
   "execution_count": 5
  },
  {
   "cell_type": "code",
   "source": [
    "%%time\n",
    "# load psm data\n",
    "df_data_orig = DataLoader.load_data(conn, OBSERVATIONAL_CLASSES)"
   ],
   "metadata": {
    "collapsed": false,
    "ExecuteTime": {
     "end_time": "2024-07-16T17:36:37.047040Z",
     "start_time": "2024-07-16T17:36:17.645969Z"
    }
   },
   "id": "24f4442364340375",
   "outputs": [
    {
     "name": "stdout",
     "output_type": "stream",
     "text": [
      "load_data()\n",
      "select t1.*, t4.gender, t4.anchor_age, t4.anchor_year, t2.icd_code, t3.indic_filtered, t3.indication_cuis, t3.clinical_question, t3.clinical_q_cuis, t3.hist_finished, t3.history_cuis, t3.comparison, t3.comparison_cuis from streamlit_timeline_data t1 left join diagnoses_icd t2 on t1.hadm_id = t2.hadm_id left join referral_information_v2 t3 on t1.study_id = t3.study left join patients t4 on t1.subject_id = t4.subject_id where t2.seq_num <= 1;\n",
      "CPU times: user 15.3 s, sys: 4.06 s, total: 19.4 s\n",
      "Wall time: 19.4 s\n"
     ]
    }
   ],
   "execution_count": 5
  },
  {
   "cell_type": "code",
   "source": [
    "df_data = df_data_orig.copy(deep=True)"
   ],
   "metadata": {
    "collapsed": false,
    "ExecuteTime": {
     "end_time": "2024-07-16T17:36:39.596618Z",
     "start_time": "2024-07-16T17:36:39.374843Z"
    }
   },
   "id": "a69b1e816cd030d8",
   "outputs": [],
   "execution_count": 6
  },
  {
   "cell_type": "code",
   "source": [
    "df_lookup_data = pd.read_sql(\"select * from referral_information_cui_lookup\", conn)\n",
    "\n",
    "NR_BINS_HIST = 100\n",
    "psm_helper_tmp = PsmHelper(data=df_data,\n",
    "                           patient_characteristics=None,\n",
    "                           custom_confounders=[],\n",
    "                           indication_cuis=None,\n",
    "                           treatment_var=treatment_var,\n",
    "                           spec_cq_cui=None)\n",
    "psm_helper_tmp.filter_by_disease_icd_code(disease_icd)\n",
    "df_cluster_1 = psm_helper_tmp.data_filtered\n",
    "df_exploded_cluster_1 = df_cluster_1.explode(\"indication_history_cuis\")\n",
    "df_referral_stats_cluster_1 = df_exploded_cluster_1[\"indication_history_cuis\"].value_counts().iloc[:NR_BINS_HIST]\n",
    "df_hist_lookup_cluster_1 = pd.merge(df_referral_stats_cluster_1, df_lookup_data, how=\"left\", left_index=True,\n",
    "                                    right_on=\"CUI\")\n",
    "df_hist_lookup_cluster_1 = df_hist_lookup_cluster_1.reset_index(drop=True)\n",
    "df_hist_lookup_cluster_1.rename(columns={\"indication_history_cuis\": \"count\"}, inplace=True)\n",
    "df_hist_lookup_cluster_1[[\"CUI\", \"Name\", \"count\"]]"
   ],
   "metadata": {
    "collapsed": false,
    "ExecuteTime": {
     "end_time": "2024-05-24T08:46:29.815493Z",
     "start_time": "2024-05-24T08:46:29.660501Z"
    }
   },
   "id": "98e75f8971039ca1",
   "outputs": [
    {
     "data": {
      "text/plain": [
       "         CUI                                Name  count\n",
       "0    no_note                                 NaN   2786\n",
       "1   C0013404                             Dyspnea   1183\n",
       "2   C0043210                               Woman    989\n",
       "3   C0024117  Chronic Obstructive Airway Disease    537\n",
       "4   C0010200                            Coughing    525\n",
       "..       ...                                 ...    ...\n",
       "95  C1272706                            Interval      8\n",
       "96  C0850149                           Dry cough      8\n",
       "97  C5200924                             Failure      7\n",
       "98  C0948187                      Tracheomalacia      7\n",
       "99  C0030899                      pentoxifylline      7\n",
       "\n",
       "[100 rows x 3 columns]"
      ],
      "text/html": [
       "<div>\n",
       "<style scoped>\n",
       "    .dataframe tbody tr th:only-of-type {\n",
       "        vertical-align: middle;\n",
       "    }\n",
       "\n",
       "    .dataframe tbody tr th {\n",
       "        vertical-align: top;\n",
       "    }\n",
       "\n",
       "    .dataframe thead th {\n",
       "        text-align: right;\n",
       "    }\n",
       "</style>\n",
       "<table border=\"1\" class=\"dataframe\">\n",
       "  <thead>\n",
       "    <tr style=\"text-align: right;\">\n",
       "      <th></th>\n",
       "      <th>CUI</th>\n",
       "      <th>Name</th>\n",
       "      <th>count</th>\n",
       "    </tr>\n",
       "  </thead>\n",
       "  <tbody>\n",
       "    <tr>\n",
       "      <th>0</th>\n",
       "      <td>no_note</td>\n",
       "      <td>NaN</td>\n",
       "      <td>2786</td>\n",
       "    </tr>\n",
       "    <tr>\n",
       "      <th>1</th>\n",
       "      <td>C0013404</td>\n",
       "      <td>Dyspnea</td>\n",
       "      <td>1183</td>\n",
       "    </tr>\n",
       "    <tr>\n",
       "      <th>2</th>\n",
       "      <td>C0043210</td>\n",
       "      <td>Woman</td>\n",
       "      <td>989</td>\n",
       "    </tr>\n",
       "    <tr>\n",
       "      <th>3</th>\n",
       "      <td>C0024117</td>\n",
       "      <td>Chronic Obstructive Airway Disease</td>\n",
       "      <td>537</td>\n",
       "    </tr>\n",
       "    <tr>\n",
       "      <th>4</th>\n",
       "      <td>C0010200</td>\n",
       "      <td>Coughing</td>\n",
       "      <td>525</td>\n",
       "    </tr>\n",
       "    <tr>\n",
       "      <th>...</th>\n",
       "      <td>...</td>\n",
       "      <td>...</td>\n",
       "      <td>...</td>\n",
       "    </tr>\n",
       "    <tr>\n",
       "      <th>95</th>\n",
       "      <td>C1272706</td>\n",
       "      <td>Interval</td>\n",
       "      <td>8</td>\n",
       "    </tr>\n",
       "    <tr>\n",
       "      <th>96</th>\n",
       "      <td>C0850149</td>\n",
       "      <td>Dry cough</td>\n",
       "      <td>8</td>\n",
       "    </tr>\n",
       "    <tr>\n",
       "      <th>97</th>\n",
       "      <td>C5200924</td>\n",
       "      <td>Failure</td>\n",
       "      <td>7</td>\n",
       "    </tr>\n",
       "    <tr>\n",
       "      <th>98</th>\n",
       "      <td>C0948187</td>\n",
       "      <td>Tracheomalacia</td>\n",
       "      <td>7</td>\n",
       "    </tr>\n",
       "    <tr>\n",
       "      <th>99</th>\n",
       "      <td>C0030899</td>\n",
       "      <td>pentoxifylline</td>\n",
       "      <td>7</td>\n",
       "    </tr>\n",
       "  </tbody>\n",
       "</table>\n",
       "<p>100 rows × 3 columns</p>\n",
       "</div>"
      ]
     },
     "execution_count": 8,
     "metadata": {},
     "output_type": "execute_result"
    }
   ],
   "execution_count": 8
  },
  {
   "cell_type": "code",
   "source": [
    "# follow-up filter\n",
    "follow_up_filter: FollowUpFilter = {\"UNIQUE_HADM_ID\": True,\n",
    "                                    \"MIN_EXAMS_DURING_UNIQUE_HADM_ID\": 5}\n",
    "df_data = DataLoader.filter_follow_up_examinations(df_data, follow_up_filter)"
   ],
   "metadata": {
    "collapsed": false,
    "ExecuteTime": {
     "end_time": "2024-07-16T17:36:44.426048Z",
     "start_time": "2024-07-16T17:36:44.191083Z"
    }
   },
   "id": "bf38be556727bc61",
   "outputs": [
    {
     "name": "stdout",
     "output_type": "stream",
     "text": [
      "follow-up filter applied\n"
     ]
    }
   ],
   "execution_count": 7
  },
  {
   "cell_type": "code",
   "source": [
    "# follow-up filter\n",
    "follow_up_filter: FollowUpFilter = {\"UNIQUE_HADM_ID\": True,\n",
    "                                    \"MIN_EXAMS_DURING_UNIQUE_HADM_ID\": 1000}\n",
    "# init psm helper\n",
    "psm_helper = PsmHelper(data=df_data,\n",
    "                       patient_characteristics=patient_characteristics,\n",
    "                       custom_confounders=[],\n",
    "                       indication_cuis=observation_indication_history_cuis,\n",
    "                       treatment_var=treatment_var,\n",
    "                       spec_cq_cui=None,\n",
    "                       # follow_up_filter=None)\n",
    "                       follow_up_filter=follow_up_filter)\n",
    "psm_helper.generate_psm_data(icd_code=disease_icd,\n",
    "                             apply_cond_filter=False)  # if filter == True: only keep entries with at least one entry from observation_indication_history !!"
   ],
   "metadata": {
    "collapsed": false,
    "ExecuteTime": {
     "end_time": "2024-07-16T17:36:53.497394Z",
     "start_time": "2024-07-16T17:36:53.323010Z"
    }
   },
   "id": "b064f8bd5383b1a4",
   "outputs": [
    {
     "name": "stdout",
     "output_type": "stream",
     "text": [
      "follow-up filter applied\n"
     ]
    },
    {
     "ename": "KeyError",
     "evalue": "\"['C0239134', 'C0085593'] not in index\"",
     "output_type": "error",
     "traceback": [
      "\u001B[0;31m---------------------------------------------------------------------------\u001B[0m",
      "\u001B[0;31mKeyError\u001B[0m                                  Traceback (most recent call last)",
      "Cell \u001B[0;32mIn[9], line 13\u001B[0m\n\u001B[1;32m      4\u001B[0m \u001B[38;5;66;03m# init psm helper\u001B[39;00m\n\u001B[1;32m      5\u001B[0m psm_helper \u001B[38;5;241m=\u001B[39m PsmHelper(data\u001B[38;5;241m=\u001B[39mdf_data,\n\u001B[1;32m      6\u001B[0m                        patient_characteristics\u001B[38;5;241m=\u001B[39mpatient_characteristics,\n\u001B[1;32m      7\u001B[0m                        custom_confounders\u001B[38;5;241m=\u001B[39m[],\n\u001B[0;32m   (...)\u001B[0m\n\u001B[1;32m     11\u001B[0m                        \u001B[38;5;66;03m# follow_up_filter=None)\u001B[39;00m\n\u001B[1;32m     12\u001B[0m                        follow_up_filter\u001B[38;5;241m=\u001B[39mfollow_up_filter)\n\u001B[0;32m---> 13\u001B[0m \u001B[43mpsm_helper\u001B[49m\u001B[38;5;241;43m.\u001B[39;49m\u001B[43mgenerate_psm_data\u001B[49m\u001B[43m(\u001B[49m\u001B[43micd_code\u001B[49m\u001B[38;5;241;43m=\u001B[39;49m\u001B[43mdisease_icd\u001B[49m\u001B[43m,\u001B[49m\n\u001B[1;32m     14\u001B[0m \u001B[43m                             \u001B[49m\u001B[43mapply_cond_filter\u001B[49m\u001B[38;5;241;43m=\u001B[39;49m\u001B[38;5;28;43;01mFalse\u001B[39;49;00m\u001B[43m)\u001B[49m  \u001B[38;5;66;03m# if filter == True: only keep entries with at least one entry from observation_indication_history !!\u001B[39;00m\n",
      "File \u001B[0;32m~/PycharmProjects/mimiciv/src/propensity_score_matching/psm_helper.py:276\u001B[0m, in \u001B[0;36mPsmHelper.generate_psm_data\u001B[0;34m(self, icd_code, apply_cond_filter)\u001B[0m\n\u001B[1;32m    274\u001B[0m \u001B[38;5;28;01mif\u001B[39;00m \u001B[38;5;28mself\u001B[39m\u001B[38;5;241m.\u001B[39mfollow_up_filter \u001B[38;5;129;01mis\u001B[39;00m \u001B[38;5;129;01mnot\u001B[39;00m \u001B[38;5;28;01mNone\u001B[39;00m:\n\u001B[1;32m    275\u001B[0m     \u001B[38;5;28mself\u001B[39m\u001B[38;5;241m.\u001B[39mfilter_follow_up_examinations()\n\u001B[0;32m--> 276\u001B[0m \u001B[38;5;28;43mself\u001B[39;49m\u001B[38;5;241;43m.\u001B[39;49m\u001B[43mindication_cuis_to_dummies\u001B[49m\u001B[43m(\u001B[49m\u001B[43mapply_cond_filter\u001B[49m\u001B[43m)\u001B[49m\n\u001B[1;32m    277\u001B[0m \u001B[38;5;28mprint\u001B[39m(\u001B[38;5;28mself\u001B[39m\u001B[38;5;241m.\u001B[39mdata_filtered\u001B[38;5;241m.\u001B[39mshape)\n\u001B[1;32m    278\u001B[0m \u001B[38;5;28mself\u001B[39m\u001B[38;5;241m.\u001B[39mpatient_characteristics_to_dummies()\n",
      "File \u001B[0;32m~/PycharmProjects/mimiciv/src/propensity_score_matching/psm_helper.py:118\u001B[0m, in \u001B[0;36mPsmHelper.indication_cuis_to_dummies\u001B[0;34m(self, apply_cond_filter)\u001B[0m\n\u001B[1;32m    113\u001B[0m     columns_to_keep \u001B[38;5;241m=\u001B[39m ([\u001B[38;5;124m\"\u001B[39m\u001B[38;5;124mspec_cq_stated\u001B[39m\u001B[38;5;124m\"\u001B[39m] \u001B[38;5;241m+\u001B[39m \u001B[38;5;28mself\u001B[39m\u001B[38;5;241m.\u001B[39mcustom_confounders \u001B[38;5;241m+\u001B[39m \u001B[38;5;28mself\u001B[39m\u001B[38;5;241m.\u001B[39mindication_history_cuis \u001B[38;5;241m+\u001B[39m\n\u001B[1;32m    114\u001B[0m                        [col \u001B[38;5;28;01mfor\u001B[39;00m col \u001B[38;5;129;01min\u001B[39;00m\n\u001B[1;32m    115\u001B[0m                         \u001B[38;5;28mself\u001B[39m\u001B[38;5;241m.\u001B[39mdata_filtered\u001B[38;5;241m.\u001B[39mcolumns \u001B[38;5;28;01mif\u001B[39;00m\n\u001B[1;32m    116\u001B[0m                         \u001B[38;5;124m'\u001B[39m\u001B[38;5;124m_is_stated\u001B[39m\u001B[38;5;124m'\u001B[39m \u001B[38;5;129;01min\u001B[39;00m col])\n\u001B[1;32m    117\u001B[0m \u001B[38;5;28mself\u001B[39m\u001B[38;5;241m.\u001B[39mdata_psm \u001B[38;5;241m=\u001B[39m pd\u001B[38;5;241m.\u001B[39mconcat([\u001B[38;5;28mself\u001B[39m\u001B[38;5;241m.\u001B[39mdata_filtered, tt], axis\u001B[38;5;241m=\u001B[39m\u001B[38;5;241m1\u001B[39m)\n\u001B[0;32m--> 118\u001B[0m \u001B[38;5;28mself\u001B[39m\u001B[38;5;241m.\u001B[39mdata_psm \u001B[38;5;241m=\u001B[39m \u001B[38;5;28;43mself\u001B[39;49m\u001B[38;5;241;43m.\u001B[39;49m\u001B[43mdata_psm\u001B[49m\u001B[43m[\u001B[49m\u001B[43mcolumns_to_keep\u001B[49m\u001B[43m]\u001B[49m\n\u001B[1;32m    119\u001B[0m \u001B[38;5;28;01mif\u001B[39;00m apply_cond_filter:\n\u001B[1;32m    120\u001B[0m     \u001B[38;5;28mself\u001B[39m\u001B[38;5;241m.\u001B[39mdata_psm \u001B[38;5;241m=\u001B[39m \u001B[38;5;28mself\u001B[39m\u001B[38;5;241m.\u001B[39mdata_psm[\u001B[38;5;28mself\u001B[39m\u001B[38;5;241m.\u001B[39mdata_psm[\u001B[38;5;124m\"\u001B[39m\u001B[38;5;124mis_min_one_indication_history_cuis_in_top_k\u001B[39m\u001B[38;5;124m\"\u001B[39m] \u001B[38;5;241m==\u001B[39m \u001B[38;5;241m1\u001B[39m]\n",
      "File \u001B[0;32m~/PycharmProjects/mimiciv/venv/lib/python3.10/site-packages/pandas/core/frame.py:3813\u001B[0m, in \u001B[0;36mDataFrame.__getitem__\u001B[0;34m(self, key)\u001B[0m\n\u001B[1;32m   3811\u001B[0m     \u001B[38;5;28;01mif\u001B[39;00m is_iterator(key):\n\u001B[1;32m   3812\u001B[0m         key \u001B[38;5;241m=\u001B[39m \u001B[38;5;28mlist\u001B[39m(key)\n\u001B[0;32m-> 3813\u001B[0m     indexer \u001B[38;5;241m=\u001B[39m \u001B[38;5;28;43mself\u001B[39;49m\u001B[38;5;241;43m.\u001B[39;49m\u001B[43mcolumns\u001B[49m\u001B[38;5;241;43m.\u001B[39;49m\u001B[43m_get_indexer_strict\u001B[49m\u001B[43m(\u001B[49m\u001B[43mkey\u001B[49m\u001B[43m,\u001B[49m\u001B[43m \u001B[49m\u001B[38;5;124;43m\"\u001B[39;49m\u001B[38;5;124;43mcolumns\u001B[39;49m\u001B[38;5;124;43m\"\u001B[39;49m\u001B[43m)\u001B[49m[\u001B[38;5;241m1\u001B[39m]\n\u001B[1;32m   3815\u001B[0m \u001B[38;5;66;03m# take() does not accept boolean indexers\u001B[39;00m\n\u001B[1;32m   3816\u001B[0m \u001B[38;5;28;01mif\u001B[39;00m \u001B[38;5;28mgetattr\u001B[39m(indexer, \u001B[38;5;124m\"\u001B[39m\u001B[38;5;124mdtype\u001B[39m\u001B[38;5;124m\"\u001B[39m, \u001B[38;5;28;01mNone\u001B[39;00m) \u001B[38;5;241m==\u001B[39m \u001B[38;5;28mbool\u001B[39m:\n",
      "File \u001B[0;32m~/PycharmProjects/mimiciv/venv/lib/python3.10/site-packages/pandas/core/indexes/base.py:6070\u001B[0m, in \u001B[0;36mIndex._get_indexer_strict\u001B[0;34m(self, key, axis_name)\u001B[0m\n\u001B[1;32m   6067\u001B[0m \u001B[38;5;28;01melse\u001B[39;00m:\n\u001B[1;32m   6068\u001B[0m     keyarr, indexer, new_indexer \u001B[38;5;241m=\u001B[39m \u001B[38;5;28mself\u001B[39m\u001B[38;5;241m.\u001B[39m_reindex_non_unique(keyarr)\n\u001B[0;32m-> 6070\u001B[0m \u001B[38;5;28;43mself\u001B[39;49m\u001B[38;5;241;43m.\u001B[39;49m\u001B[43m_raise_if_missing\u001B[49m\u001B[43m(\u001B[49m\u001B[43mkeyarr\u001B[49m\u001B[43m,\u001B[49m\u001B[43m \u001B[49m\u001B[43mindexer\u001B[49m\u001B[43m,\u001B[49m\u001B[43m \u001B[49m\u001B[43maxis_name\u001B[49m\u001B[43m)\u001B[49m\n\u001B[1;32m   6072\u001B[0m keyarr \u001B[38;5;241m=\u001B[39m \u001B[38;5;28mself\u001B[39m\u001B[38;5;241m.\u001B[39mtake(indexer)\n\u001B[1;32m   6073\u001B[0m \u001B[38;5;28;01mif\u001B[39;00m \u001B[38;5;28misinstance\u001B[39m(key, Index):\n\u001B[1;32m   6074\u001B[0m     \u001B[38;5;66;03m# GH 42790 - Preserve name from an Index\u001B[39;00m\n",
      "File \u001B[0;32m~/PycharmProjects/mimiciv/venv/lib/python3.10/site-packages/pandas/core/indexes/base.py:6133\u001B[0m, in \u001B[0;36mIndex._raise_if_missing\u001B[0;34m(self, key, indexer, axis_name)\u001B[0m\n\u001B[1;32m   6130\u001B[0m     \u001B[38;5;28;01mraise\u001B[39;00m \u001B[38;5;167;01mKeyError\u001B[39;00m(\u001B[38;5;124mf\u001B[39m\u001B[38;5;124m\"\u001B[39m\u001B[38;5;124mNone of [\u001B[39m\u001B[38;5;132;01m{\u001B[39;00mkey\u001B[38;5;132;01m}\u001B[39;00m\u001B[38;5;124m] are in the [\u001B[39m\u001B[38;5;132;01m{\u001B[39;00maxis_name\u001B[38;5;132;01m}\u001B[39;00m\u001B[38;5;124m]\u001B[39m\u001B[38;5;124m\"\u001B[39m)\n\u001B[1;32m   6132\u001B[0m not_found \u001B[38;5;241m=\u001B[39m \u001B[38;5;28mlist\u001B[39m(ensure_index(key)[missing_mask\u001B[38;5;241m.\u001B[39mnonzero()[\u001B[38;5;241m0\u001B[39m]]\u001B[38;5;241m.\u001B[39munique())\n\u001B[0;32m-> 6133\u001B[0m \u001B[38;5;28;01mraise\u001B[39;00m \u001B[38;5;167;01mKeyError\u001B[39;00m(\u001B[38;5;124mf\u001B[39m\u001B[38;5;124m\"\u001B[39m\u001B[38;5;132;01m{\u001B[39;00mnot_found\u001B[38;5;132;01m}\u001B[39;00m\u001B[38;5;124m not in index\u001B[39m\u001B[38;5;124m\"\u001B[39m)\n",
      "\u001B[0;31mKeyError\u001B[0m: \"['C0239134', 'C0085593'] not in index\""
     ]
    }
   ],
   "execution_count": 9
  },
  {
   "cell_type": "code",
   "source": [
    "psm_helper.data_psm"
   ],
   "metadata": {
    "collapsed": false,
    "ExecuteTime": {
     "end_time": "2024-05-24T09:58:27.185541Z",
     "start_time": "2024-05-24T09:58:27.155200Z"
    }
   },
   "id": "46195088c5b4676f",
   "outputs": [
    {
     "data": {
      "text/plain": [
       "      level_0  index  is_clinical_question_stated  C0013404  C0024117  \\\n",
       "0           0      0                            1         0         0   \n",
       "1           1      1                            0         1         0   \n",
       "2           2      2                            0         1         0   \n",
       "3           3      3                            1         0         1   \n",
       "4           4      4                            1         1         1   \n",
       "...       ...    ...                          ...       ...       ...   \n",
       "2781     2781   2781                            0         0         0   \n",
       "2782     2782   2782                            0         1         0   \n",
       "2783     2783   2783                            0         0         0   \n",
       "2784     2784   2784                            0         0         0   \n",
       "2785     2785   2785                            0         1         1   \n",
       "\n",
       "      C0010200  C0004096  C4086268  C0242184  C0015967  ...  \\\n",
       "0            1         0         0         0         0  ...   \n",
       "1            1         1         0         0         0  ...   \n",
       "2            0         0         0         0         0  ...   \n",
       "3            0         0         0         0         0  ...   \n",
       "4            0         1         0         0         0  ...   \n",
       "...        ...       ...       ...       ...       ...  ...   \n",
       "2781         0         0         0         1         0  ...   \n",
       "2782         1         0         0         0         0  ...   \n",
       "2783         0         0         0         0         0  ...   \n",
       "2784         1         0         0         0         0  ...   \n",
       "2785         0         0         0         0         0  ...   \n",
       "\n",
       "      Pleural_Effusion_is_stated  Pleural_Other_is_stated  \\\n",
       "0                              0                        0   \n",
       "1                              0                        0   \n",
       "2                              0                        0   \n",
       "3                              0                        0   \n",
       "4                              1                        0   \n",
       "...                          ...                      ...   \n",
       "2781                           0                        0   \n",
       "2782                           0                        0   \n",
       "2783                           0                        0   \n",
       "2784                           0                        0   \n",
       "2785                           0                        0   \n",
       "\n",
       "      Pneumonia_is_stated  Pneumothorax_is_stated  Support_Devices_is_stated  \\\n",
       "0                       0                       0                          0   \n",
       "1                       0                       0                          0   \n",
       "2                       1                       0                          0   \n",
       "3                       1                       0                          0   \n",
       "4                       0                       1                          0   \n",
       "...                   ...                     ...                        ...   \n",
       "2781                    0                       0                          0   \n",
       "2782                    0                       0                          0   \n",
       "2783                    0                       0                          0   \n",
       "2784                    0                       0                          0   \n",
       "2785                    0                       0                          1   \n",
       "\n",
       "      F  M  age_intervall_0  age_intervall_1  age_intervall_2  \n",
       "0     0  1                0                0                1  \n",
       "1     1  0                0                1                0  \n",
       "2     0  1                0                0                1  \n",
       "3     0  1                0                0                1  \n",
       "4     0  1                0                0                1  \n",
       "...  .. ..              ...              ...              ...  \n",
       "2781  1  0                0                0                1  \n",
       "2782  1  0                0                0                1  \n",
       "2783  0  1                0                0                1  \n",
       "2784  1  0                0                0                1  \n",
       "2785  1  0                0                0                1  \n",
       "\n",
       "[2786 rows x 37 columns]"
      ],
      "text/html": [
       "<div>\n",
       "<style scoped>\n",
       "    .dataframe tbody tr th:only-of-type {\n",
       "        vertical-align: middle;\n",
       "    }\n",
       "\n",
       "    .dataframe tbody tr th {\n",
       "        vertical-align: top;\n",
       "    }\n",
       "\n",
       "    .dataframe thead th {\n",
       "        text-align: right;\n",
       "    }\n",
       "</style>\n",
       "<table border=\"1\" class=\"dataframe\">\n",
       "  <thead>\n",
       "    <tr style=\"text-align: right;\">\n",
       "      <th></th>\n",
       "      <th>level_0</th>\n",
       "      <th>index</th>\n",
       "      <th>is_clinical_question_stated</th>\n",
       "      <th>C0013404</th>\n",
       "      <th>C0024117</th>\n",
       "      <th>C0010200</th>\n",
       "      <th>C0004096</th>\n",
       "      <th>C4086268</th>\n",
       "      <th>C0242184</th>\n",
       "      <th>C0015967</th>\n",
       "      <th>...</th>\n",
       "      <th>Pleural_Effusion_is_stated</th>\n",
       "      <th>Pleural_Other_is_stated</th>\n",
       "      <th>Pneumonia_is_stated</th>\n",
       "      <th>Pneumothorax_is_stated</th>\n",
       "      <th>Support_Devices_is_stated</th>\n",
       "      <th>F</th>\n",
       "      <th>M</th>\n",
       "      <th>age_intervall_0</th>\n",
       "      <th>age_intervall_1</th>\n",
       "      <th>age_intervall_2</th>\n",
       "    </tr>\n",
       "  </thead>\n",
       "  <tbody>\n",
       "    <tr>\n",
       "      <th>0</th>\n",
       "      <td>0</td>\n",
       "      <td>0</td>\n",
       "      <td>1</td>\n",
       "      <td>0</td>\n",
       "      <td>0</td>\n",
       "      <td>1</td>\n",
       "      <td>0</td>\n",
       "      <td>0</td>\n",
       "      <td>0</td>\n",
       "      <td>0</td>\n",
       "      <td>...</td>\n",
       "      <td>0</td>\n",
       "      <td>0</td>\n",
       "      <td>0</td>\n",
       "      <td>0</td>\n",
       "      <td>0</td>\n",
       "      <td>0</td>\n",
       "      <td>1</td>\n",
       "      <td>0</td>\n",
       "      <td>0</td>\n",
       "      <td>1</td>\n",
       "    </tr>\n",
       "    <tr>\n",
       "      <th>1</th>\n",
       "      <td>1</td>\n",
       "      <td>1</td>\n",
       "      <td>0</td>\n",
       "      <td>1</td>\n",
       "      <td>0</td>\n",
       "      <td>1</td>\n",
       "      <td>1</td>\n",
       "      <td>0</td>\n",
       "      <td>0</td>\n",
       "      <td>0</td>\n",
       "      <td>...</td>\n",
       "      <td>0</td>\n",
       "      <td>0</td>\n",
       "      <td>0</td>\n",
       "      <td>0</td>\n",
       "      <td>0</td>\n",
       "      <td>1</td>\n",
       "      <td>0</td>\n",
       "      <td>0</td>\n",
       "      <td>1</td>\n",
       "      <td>0</td>\n",
       "    </tr>\n",
       "    <tr>\n",
       "      <th>2</th>\n",
       "      <td>2</td>\n",
       "      <td>2</td>\n",
       "      <td>0</td>\n",
       "      <td>1</td>\n",
       "      <td>0</td>\n",
       "      <td>0</td>\n",
       "      <td>0</td>\n",
       "      <td>0</td>\n",
       "      <td>0</td>\n",
       "      <td>0</td>\n",
       "      <td>...</td>\n",
       "      <td>0</td>\n",
       "      <td>0</td>\n",
       "      <td>1</td>\n",
       "      <td>0</td>\n",
       "      <td>0</td>\n",
       "      <td>0</td>\n",
       "      <td>1</td>\n",
       "      <td>0</td>\n",
       "      <td>0</td>\n",
       "      <td>1</td>\n",
       "    </tr>\n",
       "    <tr>\n",
       "      <th>3</th>\n",
       "      <td>3</td>\n",
       "      <td>3</td>\n",
       "      <td>1</td>\n",
       "      <td>0</td>\n",
       "      <td>1</td>\n",
       "      <td>0</td>\n",
       "      <td>0</td>\n",
       "      <td>0</td>\n",
       "      <td>0</td>\n",
       "      <td>0</td>\n",
       "      <td>...</td>\n",
       "      <td>0</td>\n",
       "      <td>0</td>\n",
       "      <td>1</td>\n",
       "      <td>0</td>\n",
       "      <td>0</td>\n",
       "      <td>0</td>\n",
       "      <td>1</td>\n",
       "      <td>0</td>\n",
       "      <td>0</td>\n",
       "      <td>1</td>\n",
       "    </tr>\n",
       "    <tr>\n",
       "      <th>4</th>\n",
       "      <td>4</td>\n",
       "      <td>4</td>\n",
       "      <td>1</td>\n",
       "      <td>1</td>\n",
       "      <td>1</td>\n",
       "      <td>0</td>\n",
       "      <td>1</td>\n",
       "      <td>0</td>\n",
       "      <td>0</td>\n",
       "      <td>0</td>\n",
       "      <td>...</td>\n",
       "      <td>1</td>\n",
       "      <td>0</td>\n",
       "      <td>0</td>\n",
       "      <td>1</td>\n",
       "      <td>0</td>\n",
       "      <td>0</td>\n",
       "      <td>1</td>\n",
       "      <td>0</td>\n",
       "      <td>0</td>\n",
       "      <td>1</td>\n",
       "    </tr>\n",
       "    <tr>\n",
       "      <th>...</th>\n",
       "      <td>...</td>\n",
       "      <td>...</td>\n",
       "      <td>...</td>\n",
       "      <td>...</td>\n",
       "      <td>...</td>\n",
       "      <td>...</td>\n",
       "      <td>...</td>\n",
       "      <td>...</td>\n",
       "      <td>...</td>\n",
       "      <td>...</td>\n",
       "      <td>...</td>\n",
       "      <td>...</td>\n",
       "      <td>...</td>\n",
       "      <td>...</td>\n",
       "      <td>...</td>\n",
       "      <td>...</td>\n",
       "      <td>...</td>\n",
       "      <td>...</td>\n",
       "      <td>...</td>\n",
       "      <td>...</td>\n",
       "      <td>...</td>\n",
       "    </tr>\n",
       "    <tr>\n",
       "      <th>2781</th>\n",
       "      <td>2781</td>\n",
       "      <td>2781</td>\n",
       "      <td>0</td>\n",
       "      <td>0</td>\n",
       "      <td>0</td>\n",
       "      <td>0</td>\n",
       "      <td>0</td>\n",
       "      <td>0</td>\n",
       "      <td>1</td>\n",
       "      <td>0</td>\n",
       "      <td>...</td>\n",
       "      <td>0</td>\n",
       "      <td>0</td>\n",
       "      <td>0</td>\n",
       "      <td>0</td>\n",
       "      <td>0</td>\n",
       "      <td>1</td>\n",
       "      <td>0</td>\n",
       "      <td>0</td>\n",
       "      <td>0</td>\n",
       "      <td>1</td>\n",
       "    </tr>\n",
       "    <tr>\n",
       "      <th>2782</th>\n",
       "      <td>2782</td>\n",
       "      <td>2782</td>\n",
       "      <td>0</td>\n",
       "      <td>1</td>\n",
       "      <td>0</td>\n",
       "      <td>1</td>\n",
       "      <td>0</td>\n",
       "      <td>0</td>\n",
       "      <td>0</td>\n",
       "      <td>0</td>\n",
       "      <td>...</td>\n",
       "      <td>0</td>\n",
       "      <td>0</td>\n",
       "      <td>0</td>\n",
       "      <td>0</td>\n",
       "      <td>0</td>\n",
       "      <td>1</td>\n",
       "      <td>0</td>\n",
       "      <td>0</td>\n",
       "      <td>0</td>\n",
       "      <td>1</td>\n",
       "    </tr>\n",
       "    <tr>\n",
       "      <th>2783</th>\n",
       "      <td>2783</td>\n",
       "      <td>2783</td>\n",
       "      <td>0</td>\n",
       "      <td>0</td>\n",
       "      <td>0</td>\n",
       "      <td>0</td>\n",
       "      <td>0</td>\n",
       "      <td>0</td>\n",
       "      <td>0</td>\n",
       "      <td>0</td>\n",
       "      <td>...</td>\n",
       "      <td>0</td>\n",
       "      <td>0</td>\n",
       "      <td>0</td>\n",
       "      <td>0</td>\n",
       "      <td>0</td>\n",
       "      <td>0</td>\n",
       "      <td>1</td>\n",
       "      <td>0</td>\n",
       "      <td>0</td>\n",
       "      <td>1</td>\n",
       "    </tr>\n",
       "    <tr>\n",
       "      <th>2784</th>\n",
       "      <td>2784</td>\n",
       "      <td>2784</td>\n",
       "      <td>0</td>\n",
       "      <td>0</td>\n",
       "      <td>0</td>\n",
       "      <td>1</td>\n",
       "      <td>0</td>\n",
       "      <td>0</td>\n",
       "      <td>0</td>\n",
       "      <td>0</td>\n",
       "      <td>...</td>\n",
       "      <td>0</td>\n",
       "      <td>0</td>\n",
       "      <td>0</td>\n",
       "      <td>0</td>\n",
       "      <td>0</td>\n",
       "      <td>1</td>\n",
       "      <td>0</td>\n",
       "      <td>0</td>\n",
       "      <td>0</td>\n",
       "      <td>1</td>\n",
       "    </tr>\n",
       "    <tr>\n",
       "      <th>2785</th>\n",
       "      <td>2785</td>\n",
       "      <td>2785</td>\n",
       "      <td>0</td>\n",
       "      <td>1</td>\n",
       "      <td>1</td>\n",
       "      <td>0</td>\n",
       "      <td>0</td>\n",
       "      <td>0</td>\n",
       "      <td>0</td>\n",
       "      <td>0</td>\n",
       "      <td>...</td>\n",
       "      <td>0</td>\n",
       "      <td>0</td>\n",
       "      <td>0</td>\n",
       "      <td>0</td>\n",
       "      <td>1</td>\n",
       "      <td>1</td>\n",
       "      <td>0</td>\n",
       "      <td>0</td>\n",
       "      <td>0</td>\n",
       "      <td>1</td>\n",
       "    </tr>\n",
       "  </tbody>\n",
       "</table>\n",
       "<p>2786 rows × 37 columns</p>\n",
       "</div>"
      ]
     },
     "execution_count": 49,
     "metadata": {},
     "output_type": "execute_result"
    }
   ],
   "execution_count": 49
  },
  {
   "cell_type": "code",
   "source": [
    "%%time\n",
    "psm_helper.psmpy_prop_score_log_reg()\n",
    "# a matching ration of 1:n only works if there are at least >n*samples_minor_category in the major category!!\n",
    "psm_helper.psmpy_knn(matcher=\"propensity_score\", replacement=False, caliper=None, how_many=1)\n",
    "test_stats = psm_helper.psmpy_chi2_test_results()\n",
    "test_stats.sort_values(by=\"p_value\", ascending=True, inplace=True)\n",
    "test_stats[[\"pathology\", \"chi2\", \"p_value\", \"is_significant\"]]"
   ],
   "metadata": {
    "collapsed": false,
    "ExecuteTime": {
     "end_time": "2024-05-24T09:58:33.016428Z",
     "start_time": "2024-05-24T09:58:28.439091Z"
    }
   },
   "id": "25c15d36681022a3",
   "outputs": [
    {
     "name": "stdout",
     "output_type": "stream",
     "text": [
      "Index(['index', 'is_clinical_question_stated', 'C0013404', 'C0024117',\n",
      "       'C0010200', 'C0004096', 'C4086268', 'C0242184', 'C0015967', 'C0043144',\n",
      "       'C0008031', 'C0239134', 'C0018802', 'C0332271', 'C0476273', 'C0349790',\n",
      "       'C1145670', 'age_intervall_0', 'age_intervall_1', 'age_intervall_2',\n",
      "       'M', 'F'],\n",
      "      dtype='object')\n",
      "knn_matched_one_one(matcher=matcher, replacement=replacement, caliper=caliper)\n",
      "CPU times: user 6.1 s, sys: 833 ms, total: 6.93 s\n",
      "Wall time: 4.55 s\n"
     ]
    },
    {
     "name": "stderr",
     "output_type": "stream",
     "text": [
      "/home/mijantscher/PycharmProjects/mimiciv/helper/psmpy/psmpy.py:529: UserWarning: Some values do not have a match. These are dropped for purposes of establishing a matched dataframe, and subsequent calculations and plots (effect size). If you do not wish this to be the case please set drop_unmatched=False\n",
      "  warnings.warn('Some values do not have a match. These are dropped for purposes of establishing a matched dataframe, and subsequent calculations and plots (effect size). If you do not wish this to be the case please set drop_unmatched=False')\n"
     ]
    },
    {
     "data": {
      "text/plain": [
       "                     pathology       chi2   p_value  is_significant\n",
       "1                 Cardiomegaly  18.925722  0.000014            True\n",
       "11                   Pneumonia  15.610760  0.000078            True\n",
       "3                        Edema  12.738760  0.000358            True\n",
       "0                  Atelectasis   6.812229  0.009054            True\n",
       "13             Support_Devices   3.952569  0.046800            True\n",
       "12                Pneumothorax   2.890211  0.089119           False\n",
       "7                 Lung_Opacity   2.158439  0.141789           False\n",
       "9             Pleural_Effusion   1.105927  0.292969           False\n",
       "10               Pleural_Other   1.105326  0.293100           False\n",
       "5                     Fracture   0.947543  0.330345           False\n",
       "6                  Lung_Lesion   0.233553  0.628901           False\n",
       "2                Consolidation   0.061037  0.804864           False\n",
       "8                   No_Finding   0.001715  0.966971           False\n",
       "4   Enlarged_Cardiomediastinum   0.000000  1.000000           False"
      ],
      "text/html": [
       "<div>\n",
       "<style scoped>\n",
       "    .dataframe tbody tr th:only-of-type {\n",
       "        vertical-align: middle;\n",
       "    }\n",
       "\n",
       "    .dataframe tbody tr th {\n",
       "        vertical-align: top;\n",
       "    }\n",
       "\n",
       "    .dataframe thead th {\n",
       "        text-align: right;\n",
       "    }\n",
       "</style>\n",
       "<table border=\"1\" class=\"dataframe\">\n",
       "  <thead>\n",
       "    <tr style=\"text-align: right;\">\n",
       "      <th></th>\n",
       "      <th>pathology</th>\n",
       "      <th>chi2</th>\n",
       "      <th>p_value</th>\n",
       "      <th>is_significant</th>\n",
       "    </tr>\n",
       "  </thead>\n",
       "  <tbody>\n",
       "    <tr>\n",
       "      <th>1</th>\n",
       "      <td>Cardiomegaly</td>\n",
       "      <td>18.925722</td>\n",
       "      <td>0.000014</td>\n",
       "      <td>True</td>\n",
       "    </tr>\n",
       "    <tr>\n",
       "      <th>11</th>\n",
       "      <td>Pneumonia</td>\n",
       "      <td>15.610760</td>\n",
       "      <td>0.000078</td>\n",
       "      <td>True</td>\n",
       "    </tr>\n",
       "    <tr>\n",
       "      <th>3</th>\n",
       "      <td>Edema</td>\n",
       "      <td>12.738760</td>\n",
       "      <td>0.000358</td>\n",
       "      <td>True</td>\n",
       "    </tr>\n",
       "    <tr>\n",
       "      <th>0</th>\n",
       "      <td>Atelectasis</td>\n",
       "      <td>6.812229</td>\n",
       "      <td>0.009054</td>\n",
       "      <td>True</td>\n",
       "    </tr>\n",
       "    <tr>\n",
       "      <th>13</th>\n",
       "      <td>Support_Devices</td>\n",
       "      <td>3.952569</td>\n",
       "      <td>0.046800</td>\n",
       "      <td>True</td>\n",
       "    </tr>\n",
       "    <tr>\n",
       "      <th>12</th>\n",
       "      <td>Pneumothorax</td>\n",
       "      <td>2.890211</td>\n",
       "      <td>0.089119</td>\n",
       "      <td>False</td>\n",
       "    </tr>\n",
       "    <tr>\n",
       "      <th>7</th>\n",
       "      <td>Lung_Opacity</td>\n",
       "      <td>2.158439</td>\n",
       "      <td>0.141789</td>\n",
       "      <td>False</td>\n",
       "    </tr>\n",
       "    <tr>\n",
       "      <th>9</th>\n",
       "      <td>Pleural_Effusion</td>\n",
       "      <td>1.105927</td>\n",
       "      <td>0.292969</td>\n",
       "      <td>False</td>\n",
       "    </tr>\n",
       "    <tr>\n",
       "      <th>10</th>\n",
       "      <td>Pleural_Other</td>\n",
       "      <td>1.105326</td>\n",
       "      <td>0.293100</td>\n",
       "      <td>False</td>\n",
       "    </tr>\n",
       "    <tr>\n",
       "      <th>5</th>\n",
       "      <td>Fracture</td>\n",
       "      <td>0.947543</td>\n",
       "      <td>0.330345</td>\n",
       "      <td>False</td>\n",
       "    </tr>\n",
       "    <tr>\n",
       "      <th>6</th>\n",
       "      <td>Lung_Lesion</td>\n",
       "      <td>0.233553</td>\n",
       "      <td>0.628901</td>\n",
       "      <td>False</td>\n",
       "    </tr>\n",
       "    <tr>\n",
       "      <th>2</th>\n",
       "      <td>Consolidation</td>\n",
       "      <td>0.061037</td>\n",
       "      <td>0.804864</td>\n",
       "      <td>False</td>\n",
       "    </tr>\n",
       "    <tr>\n",
       "      <th>8</th>\n",
       "      <td>No_Finding</td>\n",
       "      <td>0.001715</td>\n",
       "      <td>0.966971</td>\n",
       "      <td>False</td>\n",
       "    </tr>\n",
       "    <tr>\n",
       "      <th>4</th>\n",
       "      <td>Enlarged_Cardiomediastinum</td>\n",
       "      <td>0.000000</td>\n",
       "      <td>1.000000</td>\n",
       "      <td>False</td>\n",
       "    </tr>\n",
       "  </tbody>\n",
       "</table>\n",
       "</div>"
      ]
     },
     "execution_count": 50,
     "metadata": {},
     "output_type": "execute_result"
    }
   ],
   "execution_count": 50
  },
  {
   "cell_type": "code",
   "source": [
    "# follow-up filter\n",
    "follow_up_filter: FollowUpFilter = {\"UNIQUE_HADM_ID\": True,\n",
    "                                    \"MIN_EXAMS_DURING_UNIQUE_HADM_ID\": 1000}\n",
    "\n",
    "# init psm helper\n",
    "psm_helper_nn = PsmHelper(data=df_data,\n",
    "                          patient_characteristics=patient_characteristics,\n",
    "                          custom_confounders=[],\n",
    "                          indication_cuis=observation_indication_history_cuis,\n",
    "                          treatment_var=treatment_var,\n",
    "                          spec_cq_cui=None,\n",
    "                          follow_up_filter=None)\n",
    "                          # follow_up_filter=follow_up_filter)\n",
    "psm_helper_nn.generate_psm_data(icd_code=disease_icd,\n",
    "                                apply_cond_filter=False)  # if filter == True: only keep entries with at least one entry from observation_indication_history !!"
   ],
   "metadata": {
    "collapsed": false,
    "ExecuteTime": {
     "end_time": "2024-05-24T09:58:35.714041Z",
     "start_time": "2024-05-24T09:58:35.435003Z"
    }
   },
   "id": "8ab3e0f3f118f10d",
   "outputs": [
    {
     "name": "stdout",
     "output_type": "stream",
     "text": [
      "(2786, 63)\n"
     ]
    }
   ],
   "execution_count": 51
  },
  {
   "cell_type": "code",
   "source": [
    "%%time\n",
    "# for pneumonia, the best settings are (5, 2) and (5, 4)\n",
    "model = MLPClassifier(hidden_layer_sizes=(5,4), activation=\"identity\", solver='lbfgs', random_state=42)\n",
    "psm_helper_nn.psmpy_prop_score_nn(model=model)\n",
    "psm_helper_nn.psmpy_knn(matcher=\"propensity_score\", replacement=False, caliper=None)\n",
    "test_stats_nn = psm_helper_nn.psmpy_chi2_test_results()\n",
    "test_stats_nn.sort_values(by=\"p_value\", ascending=True, inplace=True)\n",
    "test_stats_nn[[\"pathology\", \"chi2\", \"p_value\", \"is_significant\"]]"
   ],
   "metadata": {
    "collapsed": false,
    "ExecuteTime": {
     "end_time": "2024-05-24T09:58:46.113312Z",
     "start_time": "2024-05-24T09:58:41.183429Z"
    }
   },
   "id": "2503a283be8dd77c",
   "outputs": [
    {
     "name": "stdout",
     "output_type": "stream",
     "text": [
      "knn_matched_one_one(matcher=matcher, replacement=replacement, caliper=caliper)\n",
      "CPU times: user 6.38 s, sys: 1.56 s, total: 7.94 s\n",
      "Wall time: 4.9 s\n"
     ]
    },
    {
     "name": "stderr",
     "output_type": "stream",
     "text": [
      "/home/mijantscher/PycharmProjects/mimiciv/helper/psmpy/psmpy.py:529: UserWarning: Some values do not have a match. These are dropped for purposes of establishing a matched dataframe, and subsequent calculations and plots (effect size). If you do not wish this to be the case please set drop_unmatched=False\n",
      "  warnings.warn('Some values do not have a match. These are dropped for purposes of establishing a matched dataframe, and subsequent calculations and plots (effect size). If you do not wish this to be the case please set drop_unmatched=False')\n"
     ]
    },
    {
     "data": {
      "text/plain": [
       "                     pathology       chi2   p_value  is_significant\n",
       "1                 Cardiomegaly  17.712571  0.000026            True\n",
       "11                   Pneumonia  15.283903  0.000093            True\n",
       "3                        Edema  12.091369  0.000507            True\n",
       "0                  Atelectasis   7.949590  0.004810            True\n",
       "13             Support_Devices   3.952569  0.046800            True\n",
       "7                 Lung_Opacity   1.901354  0.167927           False\n",
       "12                Pneumothorax   1.814692  0.177946           False\n",
       "5                     Fracture   1.572444  0.209852           False\n",
       "10               Pleural_Other   0.745310  0.387965           False\n",
       "6                  Lung_Lesion   0.465702  0.494971           False\n",
       "9             Pleural_Effusion   0.366172  0.545098           False\n",
       "4   Enlarged_Cardiomediastinum   0.120173  0.728847           False\n",
       "8                   No_Finding   0.027393  0.868543           False\n",
       "2                Consolidation   0.003849  0.950533           False"
      ],
      "text/html": [
       "<div>\n",
       "<style scoped>\n",
       "    .dataframe tbody tr th:only-of-type {\n",
       "        vertical-align: middle;\n",
       "    }\n",
       "\n",
       "    .dataframe tbody tr th {\n",
       "        vertical-align: top;\n",
       "    }\n",
       "\n",
       "    .dataframe thead th {\n",
       "        text-align: right;\n",
       "    }\n",
       "</style>\n",
       "<table border=\"1\" class=\"dataframe\">\n",
       "  <thead>\n",
       "    <tr style=\"text-align: right;\">\n",
       "      <th></th>\n",
       "      <th>pathology</th>\n",
       "      <th>chi2</th>\n",
       "      <th>p_value</th>\n",
       "      <th>is_significant</th>\n",
       "    </tr>\n",
       "  </thead>\n",
       "  <tbody>\n",
       "    <tr>\n",
       "      <th>1</th>\n",
       "      <td>Cardiomegaly</td>\n",
       "      <td>17.712571</td>\n",
       "      <td>0.000026</td>\n",
       "      <td>True</td>\n",
       "    </tr>\n",
       "    <tr>\n",
       "      <th>11</th>\n",
       "      <td>Pneumonia</td>\n",
       "      <td>15.283903</td>\n",
       "      <td>0.000093</td>\n",
       "      <td>True</td>\n",
       "    </tr>\n",
       "    <tr>\n",
       "      <th>3</th>\n",
       "      <td>Edema</td>\n",
       "      <td>12.091369</td>\n",
       "      <td>0.000507</td>\n",
       "      <td>True</td>\n",
       "    </tr>\n",
       "    <tr>\n",
       "      <th>0</th>\n",
       "      <td>Atelectasis</td>\n",
       "      <td>7.949590</td>\n",
       "      <td>0.004810</td>\n",
       "      <td>True</td>\n",
       "    </tr>\n",
       "    <tr>\n",
       "      <th>13</th>\n",
       "      <td>Support_Devices</td>\n",
       "      <td>3.952569</td>\n",
       "      <td>0.046800</td>\n",
       "      <td>True</td>\n",
       "    </tr>\n",
       "    <tr>\n",
       "      <th>7</th>\n",
       "      <td>Lung_Opacity</td>\n",
       "      <td>1.901354</td>\n",
       "      <td>0.167927</td>\n",
       "      <td>False</td>\n",
       "    </tr>\n",
       "    <tr>\n",
       "      <th>12</th>\n",
       "      <td>Pneumothorax</td>\n",
       "      <td>1.814692</td>\n",
       "      <td>0.177946</td>\n",
       "      <td>False</td>\n",
       "    </tr>\n",
       "    <tr>\n",
       "      <th>5</th>\n",
       "      <td>Fracture</td>\n",
       "      <td>1.572444</td>\n",
       "      <td>0.209852</td>\n",
       "      <td>False</td>\n",
       "    </tr>\n",
       "    <tr>\n",
       "      <th>10</th>\n",
       "      <td>Pleural_Other</td>\n",
       "      <td>0.745310</td>\n",
       "      <td>0.387965</td>\n",
       "      <td>False</td>\n",
       "    </tr>\n",
       "    <tr>\n",
       "      <th>6</th>\n",
       "      <td>Lung_Lesion</td>\n",
       "      <td>0.465702</td>\n",
       "      <td>0.494971</td>\n",
       "      <td>False</td>\n",
       "    </tr>\n",
       "    <tr>\n",
       "      <th>9</th>\n",
       "      <td>Pleural_Effusion</td>\n",
       "      <td>0.366172</td>\n",
       "      <td>0.545098</td>\n",
       "      <td>False</td>\n",
       "    </tr>\n",
       "    <tr>\n",
       "      <th>4</th>\n",
       "      <td>Enlarged_Cardiomediastinum</td>\n",
       "      <td>0.120173</td>\n",
       "      <td>0.728847</td>\n",
       "      <td>False</td>\n",
       "    </tr>\n",
       "    <tr>\n",
       "      <th>8</th>\n",
       "      <td>No_Finding</td>\n",
       "      <td>0.027393</td>\n",
       "      <td>0.868543</td>\n",
       "      <td>False</td>\n",
       "    </tr>\n",
       "    <tr>\n",
       "      <th>2</th>\n",
       "      <td>Consolidation</td>\n",
       "      <td>0.003849</td>\n",
       "      <td>0.950533</td>\n",
       "      <td>False</td>\n",
       "    </tr>\n",
       "  </tbody>\n",
       "</table>\n",
       "</div>"
      ]
     },
     "execution_count": 52,
     "metadata": {},
     "output_type": "execute_result"
    }
   ],
   "execution_count": 52
  },
  {
   "cell_type": "code",
   "source": [
    "%%capture\n",
    "\n",
    "hyperparams = {\n",
    "    \"hidden_layer_size\": [(5,2), (10,2), (15,2), (20,2), (5,3), (10,3), (15,3), (20,3),(5,4), (10,4), (15,4), (20,4),(5,6), (10,6), (15,6), (20,6)],\n",
    "    \"activation\": [\"identity\", \"logistic\", \"tanh\", \"relu\"],\n",
    "}\n",
    "test_stats = {\"act_fct\": [],\n",
    "              \"hls\": [],\n",
    "              \"max\": [],\n",
    "              \"min\": [],\n",
    "              \"mean\": [],\n",
    "              \"median\": [],\n",
    "              \"25perc\": [],\n",
    "              \"75perc\": []}\n",
    "\n",
    "for activation_fct in hyperparams[\"activation\"]:\n",
    "    for h_layer_size in hyperparams[\"hidden_layer_size\"]:\n",
    "        model = MLPClassifier(activation=activation_fct, hidden_layer_sizes=h_layer_size, solver='lbfgs', random_state=42)\n",
    "        psm_helper_nn.psmpy_prop_score_nn(model=model)\n",
    "        psm_helper_nn.psmpy_knn(matcher=\"propensity_score\", replacement=False, caliper=None, how_many=1)\n",
    "        tmp_test_stats = psm_helper_nn.psm_stats_table_nn_hyperparam_search()\n",
    "        test_stats[\"act_fct\"].append(activation_fct)\n",
    "        test_stats[\"hls\"].append(h_layer_size)\n",
    "        t_describe = tmp_test_stats.describe()\n",
    "        test_stats[\"max\"].append(t_describe[\"max\"])\n",
    "        test_stats[\"min\"].append(t_describe[\"min\"])\n",
    "        test_stats[\"mean\"].append(t_describe[\"mean\"])\n",
    "        test_stats[\"median\"].append(t_describe[\"50%\"])\n",
    "        test_stats[\"25perc\"].append(t_describe[\"25%\"])\n",
    "        test_stats[\"75perc\"].append(t_describe[\"75%\"])\n",
    "        # test_stats_nn = psm_helper_nn.psmpy_chi2_test_results()\n",
    "        # test_stats_nn.sort_values(by=\"p_value\", ascending=True, inplace=True)\n",
    "        # test_stats_nn[[\"pathology\", \"chi2\", \"p_value\", \"is_significant\"]]"
   ],
   "metadata": {
    "collapsed": false,
    "ExecuteTime": {
     "end_time": "2024-05-24T09:12:47.971948Z",
     "start_time": "2024-05-24T09:08:04.439144Z"
    }
   },
   "id": "e5314b092f415452",
   "outputs": [],
   "execution_count": 24
  },
  {
   "cell_type": "code",
   "source": [
    "pd.DataFrame(test_stats)"
   ],
   "metadata": {
    "collapsed": false,
    "ExecuteTime": {
     "end_time": "2024-05-24T09:23:41.424074Z",
     "start_time": "2024-05-24T09:23:41.391906Z"
    }
   },
   "id": "d6b35907589abdd2",
   "outputs": [
    {
     "data": {
      "text/plain": [
       "     act_fct      hls     max     min      mean  median  25perc  75perc\n",
       "0   identity   (5, 2)  0.1179  0.0071  0.034633  0.0277  0.0166  0.0429\n",
       "1   identity  (10, 2)  0.1179  0.0036  0.034043  0.0277  0.0151  0.0464\n",
       "2   identity  (15, 2)  0.1179  0.0040  0.033819  0.0277  0.0112  0.0429\n",
       "3   identity  (20, 2)  0.1179  0.0001  0.033290  0.0277  0.0113  0.0429\n",
       "4   identity   (5, 3)  0.1179  0.0002  0.033481  0.0249  0.0112  0.0429\n",
       "..       ...      ...     ...     ...       ...     ...     ...     ...\n",
       "59      relu  (20, 4)  0.2888  0.0170  0.096381  0.0902  0.0533  0.1294\n",
       "60      relu   (5, 6)  0.1619  0.0001  0.048643  0.0397  0.0253  0.0630\n",
       "61      relu  (10, 6)  0.2507  0.0149  0.077457  0.0592  0.0449  0.1129\n",
       "62      relu  (15, 6)  0.2681  0.0001  0.085162  0.0890  0.0449  0.1023\n",
       "63      relu  (20, 6)  0.3026  0.0170  0.088786  0.0597  0.0396  0.1251\n",
       "\n",
       "[64 rows x 8 columns]"
      ],
      "text/html": [
       "<div>\n",
       "<style scoped>\n",
       "    .dataframe tbody tr th:only-of-type {\n",
       "        vertical-align: middle;\n",
       "    }\n",
       "\n",
       "    .dataframe tbody tr th {\n",
       "        vertical-align: top;\n",
       "    }\n",
       "\n",
       "    .dataframe thead th {\n",
       "        text-align: right;\n",
       "    }\n",
       "</style>\n",
       "<table border=\"1\" class=\"dataframe\">\n",
       "  <thead>\n",
       "    <tr style=\"text-align: right;\">\n",
       "      <th></th>\n",
       "      <th>act_fct</th>\n",
       "      <th>hls</th>\n",
       "      <th>max</th>\n",
       "      <th>min</th>\n",
       "      <th>mean</th>\n",
       "      <th>median</th>\n",
       "      <th>25perc</th>\n",
       "      <th>75perc</th>\n",
       "    </tr>\n",
       "  </thead>\n",
       "  <tbody>\n",
       "    <tr>\n",
       "      <th>0</th>\n",
       "      <td>identity</td>\n",
       "      <td>(5, 2)</td>\n",
       "      <td>0.1179</td>\n",
       "      <td>0.0071</td>\n",
       "      <td>0.034633</td>\n",
       "      <td>0.0277</td>\n",
       "      <td>0.0166</td>\n",
       "      <td>0.0429</td>\n",
       "    </tr>\n",
       "    <tr>\n",
       "      <th>1</th>\n",
       "      <td>identity</td>\n",
       "      <td>(10, 2)</td>\n",
       "      <td>0.1179</td>\n",
       "      <td>0.0036</td>\n",
       "      <td>0.034043</td>\n",
       "      <td>0.0277</td>\n",
       "      <td>0.0151</td>\n",
       "      <td>0.0464</td>\n",
       "    </tr>\n",
       "    <tr>\n",
       "      <th>2</th>\n",
       "      <td>identity</td>\n",
       "      <td>(15, 2)</td>\n",
       "      <td>0.1179</td>\n",
       "      <td>0.0040</td>\n",
       "      <td>0.033819</td>\n",
       "      <td>0.0277</td>\n",
       "      <td>0.0112</td>\n",
       "      <td>0.0429</td>\n",
       "    </tr>\n",
       "    <tr>\n",
       "      <th>3</th>\n",
       "      <td>identity</td>\n",
       "      <td>(20, 2)</td>\n",
       "      <td>0.1179</td>\n",
       "      <td>0.0001</td>\n",
       "      <td>0.033290</td>\n",
       "      <td>0.0277</td>\n",
       "      <td>0.0113</td>\n",
       "      <td>0.0429</td>\n",
       "    </tr>\n",
       "    <tr>\n",
       "      <th>4</th>\n",
       "      <td>identity</td>\n",
       "      <td>(5, 3)</td>\n",
       "      <td>0.1179</td>\n",
       "      <td>0.0002</td>\n",
       "      <td>0.033481</td>\n",
       "      <td>0.0249</td>\n",
       "      <td>0.0112</td>\n",
       "      <td>0.0429</td>\n",
       "    </tr>\n",
       "    <tr>\n",
       "      <th>...</th>\n",
       "      <td>...</td>\n",
       "      <td>...</td>\n",
       "      <td>...</td>\n",
       "      <td>...</td>\n",
       "      <td>...</td>\n",
       "      <td>...</td>\n",
       "      <td>...</td>\n",
       "      <td>...</td>\n",
       "    </tr>\n",
       "    <tr>\n",
       "      <th>59</th>\n",
       "      <td>relu</td>\n",
       "      <td>(20, 4)</td>\n",
       "      <td>0.2888</td>\n",
       "      <td>0.0170</td>\n",
       "      <td>0.096381</td>\n",
       "      <td>0.0902</td>\n",
       "      <td>0.0533</td>\n",
       "      <td>0.1294</td>\n",
       "    </tr>\n",
       "    <tr>\n",
       "      <th>60</th>\n",
       "      <td>relu</td>\n",
       "      <td>(5, 6)</td>\n",
       "      <td>0.1619</td>\n",
       "      <td>0.0001</td>\n",
       "      <td>0.048643</td>\n",
       "      <td>0.0397</td>\n",
       "      <td>0.0253</td>\n",
       "      <td>0.0630</td>\n",
       "    </tr>\n",
       "    <tr>\n",
       "      <th>61</th>\n",
       "      <td>relu</td>\n",
       "      <td>(10, 6)</td>\n",
       "      <td>0.2507</td>\n",
       "      <td>0.0149</td>\n",
       "      <td>0.077457</td>\n",
       "      <td>0.0592</td>\n",
       "      <td>0.0449</td>\n",
       "      <td>0.1129</td>\n",
       "    </tr>\n",
       "    <tr>\n",
       "      <th>62</th>\n",
       "      <td>relu</td>\n",
       "      <td>(15, 6)</td>\n",
       "      <td>0.2681</td>\n",
       "      <td>0.0001</td>\n",
       "      <td>0.085162</td>\n",
       "      <td>0.0890</td>\n",
       "      <td>0.0449</td>\n",
       "      <td>0.1023</td>\n",
       "    </tr>\n",
       "    <tr>\n",
       "      <th>63</th>\n",
       "      <td>relu</td>\n",
       "      <td>(20, 6)</td>\n",
       "      <td>0.3026</td>\n",
       "      <td>0.0170</td>\n",
       "      <td>0.088786</td>\n",
       "      <td>0.0597</td>\n",
       "      <td>0.0396</td>\n",
       "      <td>0.1251</td>\n",
       "    </tr>\n",
       "  </tbody>\n",
       "</table>\n",
       "<p>64 rows × 8 columns</p>\n",
       "</div>"
      ]
     },
     "execution_count": 25,
     "metadata": {},
     "output_type": "execute_result"
    }
   ],
   "execution_count": 25
  },
  {
   "cell_type": "markdown",
   "source": [
    "## Calculate basic stats to verify the psm approach"
   ],
   "metadata": {
    "collapsed": false
   },
   "id": "1bf5fcefb93062a3"
  },
  {
   "cell_type": "code",
   "source": [
    "# logistic regression estimation plot\n",
    "# title = \"Pneumonia(486-J18.9)\"\n",
    "# file_name = \"pneumonia(486-J189)\"\n",
    "title = \"COPD and bronchiectasis(490-497 and J40-J47)\"\n",
    "file_name = \"COPDandBronchlectasis\"\n",
    "psm_helper.psm.plot_match(Title=title, matched_entity='propensity_score',\n",
    "                          Xlabel='propensity score', names=[\"CQ stated\", \"CQ not stated\"], save=True, file_name=f\"{file_name}_lr\")"
   ],
   "metadata": {
    "collapsed": false,
    "ExecuteTime": {
     "end_time": "2024-05-24T09:59:11.778141Z",
     "start_time": "2024-05-24T09:59:11.595371Z"
    }
   },
   "id": "cca359f9b129028f",
   "outputs": [
    {
     "data": {
      "text/plain": [
       "<Figure size 640x480 with 1 Axes>"
      ],
      "image/png": "[encoded data removed]"
     },
     "metadata": {},
     "output_type": "display_data"
    }
   ],
   "execution_count": 53
  },
  {
   "cell_type": "code",
   "source": [
    "# neural network estimation plot\n",
    "psm_helper_nn.psm.plot_match(Title=title, matched_entity='propensity_score', Xlabel='propensity score',\n",
    "                             names=[\"CQ stated\", \"CQ not stated\"], save=True, file_name=f\"{file_name}_nn\")"
   ],
   "metadata": {
    "collapsed": false,
    "ExecuteTime": {
     "end_time": "2024-05-24T09:59:15.949090Z",
     "start_time": "2024-05-24T09:59:15.757479Z"
    }
   },
   "id": "536108ac847a351a",
   "outputs": [
    {
     "data": {
      "text/plain": [
       "<Figure size 640x480 with 1 Axes>"
      ],
      "image/png": "[encoded data removed]"
     },
     "metadata": {},
     "output_type": "display_data"
    }
   ],
   "execution_count": 54
  },
  {
   "cell_type": "code",
   "source": [
    "# title = \"Pneumonia(486-J18.9)\"\n",
    "# file_name = \"pneumonia(486-J189)\"\n",
    "\n",
    "title = \"COPD and bronchiectasis(490-497 and J40-J47)\"\n",
    "file_name = \"COPDandBronchlectasis\"\n",
    "\n",
    "fig, axes = plt.subplots(nrows=1, ncols=2, figsize=(20, 10))\n",
    "psm_helper.psm.plot_match_subplots(Title=title, matched_entity='propensity_score',\n",
    "                          Xlabel='propensity score', names=[\"CQ stated\", \"CQ not stated\"], axes=axes, idx=0)\n",
    "psm_helper_nn.psm.plot_match_subplots(Title=title, matched_entity='propensity_score', Xlabel='propensity score',\n",
    "                             names=[\"CQ stated\", \"CQ not stated\"], axes=axes, idx=1)\n",
    "fig.suptitle(title, fontsize=40)\n",
    "fig.tight_layout()\n",
    "plt.savefig(f'./plots_ps/{file_name}.pdf', dpi=250)"
   ],
   "metadata": {
    "collapsed": false,
    "ExecuteTime": {
     "end_time": "2024-05-24T09:59:20.869703Z",
     "start_time": "2024-05-24T09:59:20.489701Z"
    }
   },
   "id": "899a046395d18028",
   "outputs": [
    {
     "data": {
      "text/plain": [
       "<Figure size 1600x800 with 2 Axes>"
      ],
      "image/png": "[encoded data removed]"
     },
     "metadata": {},
     "output_type": "display_data"
    }
   ],
   "execution_count": 55
  },
  {
   "cell_type": "code",
   "source": [
    "psm_helper.psm_stats_table()"
   ],
   "metadata": {
    "collapsed": false,
    "ExecuteTime": {
     "end_time": "2024-05-24T10:00:41.113315Z",
     "start_time": "2024-05-24T10:00:41.040296Z"
    }
   },
   "id": "ad29b3a24b68ad58",
   "outputs": [
    {
     "name": "stdout",
     "output_type": "stream",
     "text": [
      "['C0013404', 'C0024117', 'C0010200', 'C0004096', 'C4086268', 'C0242184', 'C0015967', 'C0043144', 'C0008031', 'C0239134', 'C0018802', 'C0332271', 'C0476273', 'C0349790', 'C1145670', 'age_intervall_0', 'age_intervall_1', 'age_intervall_2', 'M', 'F']\n",
      "                            is_clinical_question_stated  C0013404            \\\n",
      "                                                  count      mean       std   \n",
      "is_clinical_question_stated                                                   \n",
      "0                                                  1265  0.483004  0.499909   \n",
      "1                                                  1264  0.448576  0.497545   \n",
      "\n",
      "                             C0024117            C0010200            C0004096  \\\n",
      "                                 mean       std      mean       std      mean   \n",
      "is_clinical_question_stated                                                     \n",
      "0                            0.156522  0.363493  0.223715  0.416898  0.091700   \n",
      "1                            0.171677  0.377249  0.188291  0.391099  0.085443   \n",
      "\n",
      "                                       C4086268  ... age_intervall_0  \\\n",
      "                                  std      mean  ...            mean   \n",
      "is_clinical_question_stated                      ...                   \n",
      "0                            0.288716  0.046640  ...        0.037945   \n",
      "1                            0.279650  0.041139  ...        0.037975   \n",
      "\n",
      "                                      age_intervall_1            \\\n",
      "                                  std            mean       std   \n",
      "is_clinical_question_stated                                       \n",
      "0                            0.191138        0.307510  0.461645   \n",
      "1                            0.191211        0.310127  0.462728   \n",
      "\n",
      "                            age_intervall_2                   M            \\\n",
      "                                       mean       std      mean       std   \n",
      "is_clinical_question_stated                                                 \n",
      "0                                  0.654545  0.475704  0.393676  0.488758   \n",
      "1                                  0.651899  0.476557  0.381329  0.485905   \n",
      "\n",
      "                                    F            \n",
      "                                 mean       std  \n",
      "is_clinical_question_stated                      \n",
      "0                            0.606324  0.488758  \n",
      "1                            0.618671  0.485905  \n",
      "\n",
      "[2 rows x 41 columns]\n",
      "                            is_clinical_question_stated  C0013404            \\\n",
      "                                                  count      mean       std   \n",
      "is_clinical_question_stated                                                   \n",
      "0                                                  1265  0.483004  0.499909   \n",
      "1                                                  1521  0.376068  0.484557   \n",
      "\n",
      "                             C0024117            C0010200            C0004096  \\\n",
      "                                 mean       std      mean       std      mean   \n",
      "is_clinical_question_stated                                                     \n",
      "0                            0.156522  0.363493  0.223715  0.416898  0.091700   \n",
      "1                            0.222880  0.416315  0.159106  0.365895  0.071663   \n",
      "\n",
      "                                       C4086268  ... age_intervall_0  \\\n",
      "                                  std      mean  ...            mean   \n",
      "is_clinical_question_stated                      ...                   \n",
      "0                            0.288716  0.046640  ...        0.037945   \n",
      "1                            0.258015  0.074951  ...        0.043393   \n",
      "\n",
      "                                      age_intervall_1            \\\n",
      "                                  std            mean       std   \n",
      "is_clinical_question_stated                                       \n",
      "0                            0.191138        0.307510  0.461645   \n",
      "1                            0.203806        0.291913  0.454792   \n",
      "\n",
      "                            age_intervall_2                   M            \\\n",
      "                                       mean       std      mean       std   \n",
      "is_clinical_question_stated                                                 \n",
      "0                                  0.654545  0.475704  0.393676  0.488758   \n",
      "1                                  0.664694  0.472252  0.413544  0.492631   \n",
      "\n",
      "                                    F            \n",
      "                                 mean       std  \n",
      "is_clinical_question_stated                      \n",
      "0                            0.606324  0.488758  \n",
      "1                            0.586456  0.492631  \n",
      "\n",
      "[2 rows x 41 columns]\n",
      "(Original) Treatment group:  (1521, 63)\n",
      "(Original) Control group  :  (1265, 63)\n",
      "(Matched)  Treatment group:  (1264, 25)\n",
      "(Matched)  Control group  :  (1265, 25)\n",
      "(Origin) SMD\n",
      "           features     smd\n",
      "0          C0013404  0.2173\n",
      "1          C0024117  0.1699\n",
      "2          C0010200  0.1648\n",
      "3          C0004096  0.0732\n",
      "4          C4086268  0.1187\n",
      "5          C0242184  0.0005\n",
      "6          C0015967  0.0477\n",
      "7          C0043144  0.0453\n",
      "8          C0008031  0.0742\n",
      "9          C0239134  0.0628\n",
      "10         C0018802  0.0353\n",
      "11         C0332271  0.0436\n",
      "12         C0476273  0.0367\n",
      "13         C0349790  0.0607\n",
      "14         C1145670  0.0167\n",
      "15  age_intervall_0  0.0276\n",
      "16  age_intervall_1  0.0340\n",
      "17  age_intervall_2  0.0214\n",
      "18                M  0.0405\n",
      "19                F  0.0405\n",
      "(Matched) SMD\n",
      "           features     smd\n",
      "0          C0013404  0.0691\n",
      "1          C0024117  0.0409\n",
      "2          C0010200  0.0877\n",
      "3          C0004096  0.0220\n",
      "4          C4086268  0.0269\n",
      "5          C0242184  0.0239\n",
      "6          C0015967  0.0200\n",
      "7          C0043144  0.0175\n",
      "8          C0008031  0.0383\n",
      "9          C0239134  0.0278\n",
      "10         C0018802  0.0139\n",
      "11         C0332271  0.0272\n",
      "12         C0476273  0.0106\n",
      "13         C0349790  0.0131\n",
      "14         C1145670  0.0158\n",
      "15  age_intervall_0  0.0002\n",
      "16  age_intervall_1  0.0057\n",
      "17  age_intervall_2  0.0056\n",
      "18                M  0.0253\n",
      "19                F  0.0253\n",
      "(Original) SMD describe\n",
      "count    20.000000\n",
      "mean      0.066570\n",
      "std       0.057102\n",
      "min       0.000500\n",
      "25%       0.034975\n",
      "50%       0.044450\n",
      "75%       0.073450\n",
      "max       0.217300\n",
      "Name: smd, dtype: float64\n",
      "(Matched)  SMD describe\n",
      "count    20.000000\n",
      "mean      0.025840\n",
      "std       0.020926\n",
      "min       0.000200\n",
      "25%       0.013700\n",
      "50%       0.022950\n",
      "75%       0.027350\n",
      "max       0.087700\n",
      "Name: smd, dtype: float64\n"
     ]
    }
   ],
   "execution_count": 58
  },
  {
   "cell_type": "code",
   "source": [
    "psm_helper_nn.psm_stats_table()"
   ],
   "metadata": {
    "collapsed": false,
    "ExecuteTime": {
     "end_time": "2024-05-24T10:00:42.026316Z",
     "start_time": "2024-05-24T10:00:41.948227Z"
    }
   },
   "id": "755122543e86c6ae",
   "outputs": [
    {
     "name": "stdout",
     "output_type": "stream",
     "text": [
      "['C0013404', 'C0024117', 'C0010200', 'C0004096', 'C4086268', 'C0242184', 'C0015967', 'C0043144', 'C0008031', 'C0239134', 'C0018802', 'C0332271', 'C0476273', 'C0349790', 'C1145670', 'age_intervall_0', 'age_intervall_1', 'age_intervall_2', 'M', 'F']\n",
      "                            is_clinical_question_stated  C0013404            \\\n",
      "                                                  count      mean       std   \n",
      "is_clinical_question_stated                                                   \n",
      "0                                                  1265  0.483004  0.499909   \n",
      "1                                                  1264  0.446994  0.497379   \n",
      "\n",
      "                             C0024117            C0010200            C0004096  \\\n",
      "                                 mean       std      mean       std      mean   \n",
      "is_clinical_question_stated                                                     \n",
      "0                            0.156522  0.363493  0.223715  0.416898  0.091700   \n",
      "1                            0.170095  0.375865  0.189082  0.391729  0.085443   \n",
      "\n",
      "                                       C4086268  ... age_intervall_0  \\\n",
      "                                  std      mean  ...            mean   \n",
      "is_clinical_question_stated                      ...                   \n",
      "0                            0.288716  0.046640  ...        0.037945   \n",
      "1                            0.279650  0.040348  ...        0.041139   \n",
      "\n",
      "                                      age_intervall_1            \\\n",
      "                                  std            mean       std   \n",
      "is_clinical_question_stated                                       \n",
      "0                            0.191138        0.307510  0.461645   \n",
      "1                            0.198691        0.307753  0.461747   \n",
      "\n",
      "                            age_intervall_2                   M            \\\n",
      "                                       mean       std      mean       std   \n",
      "is_clinical_question_stated                                                 \n",
      "0                                  0.654545  0.475704  0.393676  0.488758   \n",
      "1                                  0.651108  0.476809  0.381329  0.485905   \n",
      "\n",
      "                                    F            \n",
      "                                 mean       std  \n",
      "is_clinical_question_stated                      \n",
      "0                            0.606324  0.488758  \n",
      "1                            0.618671  0.485905  \n",
      "\n",
      "[2 rows x 41 columns]\n",
      "                            is_clinical_question_stated  C0013404            \\\n",
      "                                                  count      mean       std   \n",
      "is_clinical_question_stated                                                   \n",
      "0                                                  1265  0.483004  0.499909   \n",
      "1                                                  1521  0.376068  0.484557   \n",
      "\n",
      "                             C0024117            C0010200            C0004096  \\\n",
      "                                 mean       std      mean       std      mean   \n",
      "is_clinical_question_stated                                                     \n",
      "0                            0.156522  0.363493  0.223715  0.416898  0.091700   \n",
      "1                            0.222880  0.416315  0.159106  0.365895  0.071663   \n",
      "\n",
      "                                       C4086268  ... age_intervall_0  \\\n",
      "                                  std      mean  ...            mean   \n",
      "is_clinical_question_stated                      ...                   \n",
      "0                            0.288716  0.046640  ...        0.037945   \n",
      "1                            0.258015  0.074951  ...        0.043393   \n",
      "\n",
      "                                      age_intervall_1            \\\n",
      "                                  std            mean       std   \n",
      "is_clinical_question_stated                                       \n",
      "0                            0.191138        0.307510  0.461645   \n",
      "1                            0.203806        0.291913  0.454792   \n",
      "\n",
      "                            age_intervall_2                   M            \\\n",
      "                                       mean       std      mean       std   \n",
      "is_clinical_question_stated                                                 \n",
      "0                                  0.654545  0.475704  0.393676  0.488758   \n",
      "1                                  0.664694  0.472252  0.413544  0.492631   \n",
      "\n",
      "                                    F            \n",
      "                                 mean       std  \n",
      "is_clinical_question_stated                      \n",
      "0                            0.606324  0.488758  \n",
      "1                            0.586456  0.492631  \n",
      "\n",
      "[2 rows x 41 columns]\n",
      "(Original) Treatment group:  (1521, 63)\n",
      "(Original) Control group  :  (1265, 63)\n",
      "(Matched)  Treatment group:  (1264, 25)\n",
      "(Matched)  Control group  :  (1265, 25)\n",
      "(Origin) SMD\n",
      "           features     smd\n",
      "0          C0013404  0.2173\n",
      "1          C0024117  0.1699\n",
      "2          C0010200  0.1648\n",
      "3          C0004096  0.0732\n",
      "4          C4086268  0.1187\n",
      "5          C0242184  0.0005\n",
      "6          C0015967  0.0477\n",
      "7          C0043144  0.0453\n",
      "8          C0008031  0.0742\n",
      "9          C0239134  0.0628\n",
      "10         C0018802  0.0353\n",
      "11         C0332271  0.0436\n",
      "12         C0476273  0.0367\n",
      "13         C0349790  0.0607\n",
      "14         C1145670  0.0167\n",
      "15  age_intervall_0  0.0276\n",
      "16  age_intervall_1  0.0340\n",
      "17  age_intervall_2  0.0214\n",
      "18                M  0.0405\n",
      "19                F  0.0405\n",
      "(Matched) SMD\n",
      "           features     smd\n",
      "0          C0013404  0.0722\n",
      "1          C0024117  0.0367\n",
      "2          C0010200  0.0857\n",
      "3          C0004096  0.0220\n",
      "4          C4086268  0.0309\n",
      "5          C0242184  0.0205\n",
      "6          C0015967  0.0200\n",
      "7          C0043144  0.0139\n",
      "8          C0008031  0.0383\n",
      "9          C0239134  0.0278\n",
      "10         C0018802  0.0094\n",
      "11         C0332271  0.0167\n",
      "12         C0476273  0.0106\n",
      "13         C0349790  0.0067\n",
      "14         C1145670  0.0081\n",
      "15  age_intervall_0  0.0164\n",
      "16  age_intervall_1  0.0005\n",
      "17  age_intervall_2  0.0072\n",
      "18                M  0.0253\n",
      "19                F  0.0253\n",
      "(Original) SMD describe\n",
      "count    20.000000\n",
      "mean      0.066570\n",
      "std       0.057102\n",
      "min       0.000500\n",
      "25%       0.034975\n",
      "50%       0.044450\n",
      "75%       0.073450\n",
      "max       0.217300\n",
      "Name: smd, dtype: float64\n",
      "(Matched)  SMD describe\n",
      "count    20.000000\n",
      "mean      0.024710\n",
      "std       0.021245\n",
      "min       0.000500\n",
      "25%       0.010300\n",
      "50%       0.020250\n",
      "75%       0.028575\n",
      "max       0.085700\n",
      "Name: smd, dtype: float64\n"
     ]
    }
   ],
   "execution_count": 59
  },
  {
   "cell_type": "code",
   "execution_count": 32,
   "outputs": [
    {
     "data": {
      "text/plain": "<Figure size 1000x800 with 1 Axes>",
      "image/png": "[encoded data removed]"
     },
     "metadata": {},
     "output_type": "display_data"
    }
   ],
   "source": [
    "psm_helper.psm.effect_size_plot(save=False)"
   ],
   "metadata": {
    "collapsed": false,
    "ExecuteTime": {
     "end_time": "2023-10-27T10:53:33.721561158Z",
     "start_time": "2023-10-27T10:53:33.364727142Z"
    }
   },
   "id": "8f337c35f3f038d6"
  },
  {
   "cell_type": "markdown",
   "source": [
    "## Causal effect estimates"
   ],
   "metadata": {
    "collapsed": false
   },
   "id": "69eaac39422c0689"
  },
  {
   "cell_type": "code",
   "execution_count": 19,
   "outputs": [
    {
     "name": "stdout",
     "output_type": "stream",
     "text": [
      "Cardiomegaly-Treatment:  0.2572298325722983\n",
      "Cardiomegaly-Control  :  0.1917808219178082\n",
      "Atelectasis-Treatment :  0.2579908675799087\n",
      "Atelectasis-Control   :  0.273972602739726\n",
      "Pleural_Other-Treatment :  0.0136986301369863\n",
      "Pleural_Other-Control   :  0.0182648401826484\n",
      "Pneumonia-Treatment :  0.5882800608828006\n",
      "Pneumonia-Control   :  0.65220700152207\n",
      "Pneumothorax-Treatment :  0.1796042617960426\n",
      "Pneumothorax-Control   :  0.12557077625570776\n"
     ]
    }
   ],
   "source": [
    "print(\"Cardiomegaly-Treatment: \", psm_helper.df_matched_treatment[\"Cardiomegaly_is_stated\"].mean())\n",
    "print(\"Cardiomegaly-Control  : \", psm_helper.df_matched_control[\"Cardiomegaly_is_stated\"].mean())\n",
    "\n",
    "print(\"Atelectasis-Treatment : \", psm_helper.df_matched_treatment[\"Atelectasis_is_stated\"].mean())\n",
    "print(\"Atelectasis-Control   : \", psm_helper.df_matched_control[\"Atelectasis_is_stated\"].mean())\n",
    "\n",
    "print(\"Pleural_Other-Treatment : \", psm_helper.df_matched_treatment[\"Pleural_Other_is_stated\"].mean())\n",
    "print(\"Pleural_Other-Control   : \", psm_helper.df_matched_control[\"Pleural_Other_is_stated\"].mean())\n",
    "\n",
    "print(\"Pneumonia-Treatment : \", psm_helper.df_matched_treatment[\"Pneumonia_is_stated\"].mean())\n",
    "print(\"Pneumonia-Control   : \", psm_helper.df_matched_control[\"Pneumonia_is_stated\"].mean())\n",
    "\n",
    "print(\"Pneumothorax-Treatment : \", psm_helper.df_matched_treatment[\"Pneumothorax_is_stated\"].mean())\n",
    "print(\"Pneumothorax-Control   : \", psm_helper.df_matched_control[\"Pneumothorax_is_stated\"].mean())\n",
    "# psm_helper.df_matched_control"
   ],
   "metadata": {
    "collapsed": false,
    "ExecuteTime": {
     "end_time": "2024-01-05T17:26:07.603216643Z",
     "start_time": "2024-01-05T17:26:07.558864535Z"
    }
   },
   "id": "a7a25b7fd74a168e"
  },
  {
   "cell_type": "markdown",
   "source": [
    "## Sensitivity Analysis"
   ],
   "metadata": {
    "collapsed": false
   },
   "id": "e6f8bac995993094"
  },
  {
   "cell_type": "code",
   "execution_count": 26,
   "outputs": [
    {
     "name": "stdout",
     "output_type": "stream",
     "text": [
      "( 0 )  Estimation for:  ['C0035522']\n",
      "knn_matched_one_one(matcher=matcher, replacement=replacement, caliper=caliper)\n",
      "( 1 )  Estimation for:  ['C0035522', 'C0032326']\n",
      "knn_matched_one_one(matcher=matcher, replacement=replacement, caliper=caliper)\n",
      "( 2 )  Estimation for:  ['C0035522', 'C0032326', 'C0008034']\n",
      "knn_matched_one_one(matcher=matcher, replacement=replacement, caliper=caliper)\n",
      "( 3 )  Estimation for:  ['C0035522', 'C0032326', 'C0008034', 'C1421211']\n",
      "knn_matched_one_one(matcher=matcher, replacement=replacement, caliper=caliper)\n",
      "( 4 )  Estimation for:  ['C0035522', 'C0032326', 'C0008034', 'C1421211', 'C0030899']\n",
      "knn_matched_one_one(matcher=matcher, replacement=replacement, caliper=caliper)\n",
      "( 5 )  Estimation for:  ['C0035522', 'C0032326', 'C0008034', 'C1421211', 'C0030899', 'C0019123']\n",
      "knn_matched_one_one(matcher=matcher, replacement=replacement, caliper=caliper)\n",
      "( 6 )  Estimation for:  ['C0035522', 'C0032326', 'C0008034', 'C1421211', 'C0030899', 'C0019123', 'C0043251']\n",
      "knn_matched_one_one(matcher=matcher, replacement=replacement, caliper=caliper)\n",
      "( 7 )  Estimation for:  ['C0035522', 'C0032326', 'C0008034', 'C1421211', 'C0030899', 'C0019123', 'C0043251', 'C0013404']\n",
      "knn_matched_one_one(matcher=matcher, replacement=replacement, caliper=caliper)\n",
      "( 8 )  Estimation for:  ['C0035522', 'C0032326', 'C0008034', 'C1421211', 'C0030899', 'C0019123', 'C0043251', 'C0013404', 'C0242184']\n",
      "knn_matched_one_one(matcher=matcher, replacement=replacement, caliper=caliper)\n",
      "( 9 )  Estimation for:  ['C0035522', 'C0032326', 'C0008034', 'C1421211', 'C0030899', 'C0019123', 'C0043251', 'C0013404', 'C0242184', 'C0008031']\n",
      "knn_matched_one_one(matcher=matcher, replacement=replacement, caliper=caliper)\n",
      "( 10 )  Estimation for:  ['C0035522', 'C0032326', 'C0008034', 'C1421211', 'C0030899', 'C0019123', 'C0043251', 'C0013404', 'C0242184', 'C0008031', 'C0026771']\n",
      "knn_matched_one_one(matcher=matcher, replacement=replacement, caliper=caliper)\n",
      "( 11 )  Estimation for:  ['C0035522', 'C0032326', 'C0008034', 'C1421211', 'C0030899', 'C0019123', 'C0043251', 'C0013404', 'C0242184', 'C0008031', 'C0026771', 'C0032227']\n",
      "knn_matched_one_one(matcher=matcher, replacement=replacement, caliper=caliper)\n",
      "( 12 )  Estimation for:  ['C0035522', 'C0032326', 'C0008034', 'C1421211', 'C0030899', 'C0019123', 'C0043251', 'C0013404', 'C0242184', 'C0008031', 'C0026771', 'C0032227', 'C0085639']\n",
      "knn_matched_one_one(matcher=matcher, replacement=replacement, caliper=caliper)\n",
      "( 13 )  Estimation for:  ['C0035522', 'C0032326', 'C0008034', 'C1421211', 'C0030899', 'C0019123', 'C0043251', 'C0013404', 'C0242184', 'C0008031', 'C0026771', 'C0032227', 'C0085639', 'C0021107']\n",
      "knn_matched_one_one(matcher=matcher, replacement=replacement, caliper=caliper)\n",
      "( 14 )  Estimation for:  ['C0035522', 'C0032326', 'C0008034', 'C1421211', 'C0030899', 'C0019123', 'C0043251', 'C0013404', 'C0242184', 'C0008031', 'C0026771', 'C0032227', 'C0085639', 'C0021107', 'C0238436']\n",
      "knn_matched_one_one(matcher=matcher, replacement=replacement, caliper=caliper)\n",
      "( 15 )  Estimation for:  ['C0035522', 'C0032326', 'C0008034', 'C1421211', 'C0030899', 'C0019123', 'C0043251', 'C0013404', 'C0242184', 'C0008031', 'C0026771', 'C0032227', 'C0085639', 'C0021107', 'C0238436', 'C0000932']\n",
      "knn_matched_one_one(matcher=matcher, replacement=replacement, caliper=caliper)\n",
      "( 16 )  Estimation for:  ['C0035522', 'C0032326', 'C0008034', 'C1421211', 'C0030899', 'C0019123', 'C0043251', 'C0013404', 'C0242184', 'C0008031', 'C0026771', 'C0032227', 'C0085639', 'C0021107', 'C0238436', 'C0000932', 'C0032285']\n",
      "knn_matched_one_one(matcher=matcher, replacement=replacement, caliper=caliper)\n",
      "( 17 )  Estimation for:  ['C0035522', 'C0032326', 'C0008034', 'C1421211', 'C0030899', 'C0019123', 'C0043251', 'C0013404', 'C0242184', 'C0008031', 'C0026771', 'C0032227', 'C0085639', 'C0021107', 'C0238436', 'C0000932', 'C0032285', 'C4698386']\n",
      "knn_matched_one_one(matcher=matcher, replacement=replacement, caliper=caliper)\n",
      "( 18 )  Estimation for:  ['C0035522', 'C0032326', 'C0008034', 'C1421211', 'C0030899', 'C0019123', 'C0043251', 'C0013404', 'C0242184', 'C0008031', 'C0026771', 'C0032227', 'C0085639', 'C0021107', 'C0238436', 'C0000932', 'C0032285', 'C4698386', 'C0019077']\n",
      "knn_matched_one_one(matcher=matcher, replacement=replacement, caliper=caliper)\n",
      "( 19 )  Estimation for:  ['C0035522', 'C0032326', 'C0008034', 'C1421211', 'C0030899', 'C0019123', 'C0043251', 'C0013404', 'C0242184', 'C0008031', 'C0026771', 'C0032227', 'C0085639', 'C0021107', 'C0238436', 'C0000932', 'C0032285', 'C4698386', 'C0019077', 'C0030193']\n",
      "knn_matched_one_one(matcher=matcher, replacement=replacement, caliper=caliper)\n",
      "( 20 )  Estimation for:  ['C0035522', 'C0032326', 'C0008034', 'C1421211', 'C0030899', 'C0019123', 'C0043251', 'C0013404', 'C0242184', 'C0008031', 'C0026771', 'C0032227', 'C0085639', 'C0021107', 'C0238436', 'C0000932', 'C0032285', 'C4698386', 'C0019077', 'C0030193', 'C0016658']\n",
      "knn_matched_one_one(matcher=matcher, replacement=replacement, caliper=caliper)\n",
      "CPU times: user 32.1 s, sys: 12.6 s, total: 44.7 s\n",
      "Wall time: 8.53 s\n"
     ]
    }
   ],
   "source": [
    "%%time\n",
    "# test_stats_dict = dict.fromkeys(OBSERVATIONAL_CLASSES, [])\n",
    "test_stats_dict = {\n",
    "    \"run_id\": [],\n",
    "    \"pathology\": [],\n",
    "    \"chi2\": [],\n",
    "    \"p_value\": [],\n",
    "    \"is_significant\": []\n",
    "}\n",
    "\n",
    "for run_id, symptoms in enumerate(observation_indication_history):\n",
    "    symptoms_list = observation_indication_history_cuis[0:(run_id + 1)]\n",
    "    print(\"(\", run_id, \")\", \" Estimation for: \", symptoms_list)\n",
    "\n",
    "    psm_helper = PsmHelper(data=df_data,\n",
    "                           patient_characteristics=patient_characteristics,\n",
    "                           custom_confounders=[],\n",
    "                           indication_cuis=observation_indication_history_cuis[0:(run_id + 1)],\n",
    "                           treatment_var=treatment_var,\n",
    "                           spec_cq_cui=None)\n",
    "    psm_helper.generate_psm_data(icd_code=disease_icd,\n",
    "                                 apply_cond_filter=False)\n",
    "    psm_helper.psmpy_prop_score_log_reg()\n",
    "    psm_helper.psmpy_knn(matcher=\"propensity_score\",\n",
    "                         replacement=False)\n",
    "    test_stats = psm_helper.psmpy_chi2_test_results()\n",
    "\n",
    "    for idx, row in test_stats.iterrows():\n",
    "        test_stats_dict[\"run_id\"].append(run_id)\n",
    "        test_stats_dict[\"pathology\"].append(row[\"pathology\"])\n",
    "        test_stats_dict[\"chi2\"].append(row[\"chi2\"])\n",
    "        test_stats_dict[\"p_value\"].append(row[\"p_value\"])\n",
    "        test_stats_dict[\"is_significant\"].append(row[\"is_significant\"])"
   ],
   "metadata": {
    "collapsed": false,
    "ExecuteTime": {
     "end_time": "2024-01-05T20:48:40.092817184Z",
     "start_time": "2024-01-05T20:48:31.556250049Z"
    }
   },
   "id": "b787d97e128c3540"
  },
  {
   "cell_type": "code",
   "execution_count": 27,
   "outputs": [
    {
     "data": {
      "text/plain": "     run_id                   pathology       chi2   p_value  is_significant\n0         0                 Atelectasis   0.184915  0.667183           False\n1         0                Cardiomegaly  13.768217  0.000207            True\n2         0               Consolidation   0.429601  0.512185           False\n3         0                       Edema   0.097948  0.754306           False\n4         0  Enlarged_Cardiomediastinum   0.264604  0.606975           False\n..      ...                         ...        ...       ...             ...\n289      20            Pleural_Effusion   0.183167  0.668666           False\n290      20               Pleural_Other   0.000000  1.000000           False\n291      20                   Pneumonia   0.134135  0.714183           False\n292      20                Pneumothorax   0.066569  0.796399           False\n293      20             Support_Devices   6.021058  0.014136            True\n\n[294 rows x 5 columns]",
      "text/html": "<div>\n<style scoped>\n    .dataframe tbody tr th:only-of-type {\n        vertical-align: middle;\n    }\n\n    .dataframe tbody tr th {\n        vertical-align: top;\n    }\n\n    .dataframe thead th {\n        text-align: right;\n    }\n</style>\n<table border=\"1\" class=\"dataframe\">\n  <thead>\n    <tr style=\"text-align: right;\">\n      <th></th>\n      <th>run_id</th>\n      <th>pathology</th>\n      <th>chi2</th>\n      <th>p_value</th>\n      <th>is_significant</th>\n    </tr>\n  </thead>\n  <tbody>\n    <tr>\n      <th>0</th>\n      <td>0</td>\n      <td>Atelectasis</td>\n      <td>0.184915</td>\n      <td>0.667183</td>\n      <td>False</td>\n    </tr>\n    <tr>\n      <th>1</th>\n      <td>0</td>\n      <td>Cardiomegaly</td>\n      <td>13.768217</td>\n      <td>0.000207</td>\n      <td>True</td>\n    </tr>\n    <tr>\n      <th>2</th>\n      <td>0</td>\n      <td>Consolidation</td>\n      <td>0.429601</td>\n      <td>0.512185</td>\n      <td>False</td>\n    </tr>\n    <tr>\n      <th>3</th>\n      <td>0</td>\n      <td>Edema</td>\n      <td>0.097948</td>\n      <td>0.754306</td>\n      <td>False</td>\n    </tr>\n    <tr>\n      <th>4</th>\n      <td>0</td>\n      <td>Enlarged_Cardiomediastinum</td>\n      <td>0.264604</td>\n      <td>0.606975</td>\n      <td>False</td>\n    </tr>\n    <tr>\n      <th>...</th>\n      <td>...</td>\n      <td>...</td>\n      <td>...</td>\n      <td>...</td>\n      <td>...</td>\n    </tr>\n    <tr>\n      <th>289</th>\n      <td>20</td>\n      <td>Pleural_Effusion</td>\n      <td>0.183167</td>\n      <td>0.668666</td>\n      <td>False</td>\n    </tr>\n    <tr>\n      <th>290</th>\n      <td>20</td>\n      <td>Pleural_Other</td>\n      <td>0.000000</td>\n      <td>1.000000</td>\n      <td>False</td>\n    </tr>\n    <tr>\n      <th>291</th>\n      <td>20</td>\n      <td>Pneumonia</td>\n      <td>0.134135</td>\n      <td>0.714183</td>\n      <td>False</td>\n    </tr>\n    <tr>\n      <th>292</th>\n      <td>20</td>\n      <td>Pneumothorax</td>\n      <td>0.066569</td>\n      <td>0.796399</td>\n      <td>False</td>\n    </tr>\n    <tr>\n      <th>293</th>\n      <td>20</td>\n      <td>Support_Devices</td>\n      <td>6.021058</td>\n      <td>0.014136</td>\n      <td>True</td>\n    </tr>\n  </tbody>\n</table>\n<p>294 rows × 5 columns</p>\n</div>"
     },
     "execution_count": 27,
     "metadata": {},
     "output_type": "execute_result"
    }
   ],
   "source": [
    "df_test_stats = pd.DataFrame(test_stats_dict)\n",
    "df_test_stats"
   ],
   "metadata": {
    "collapsed": false,
    "ExecuteTime": {
     "end_time": "2024-01-05T20:48:46.599670129Z",
     "start_time": "2024-01-05T20:48:46.540965943Z"
    }
   },
   "id": "665d5b86ce164e82"
  },
  {
   "cell_type": "code",
   "execution_count": 28,
   "outputs": [
    {
     "data": {
      "text/plain": "pathology  Atelectasis  Cardiomegaly  Consolidation     Edema  \\\nrun_id                                                          \n0             0.667183      0.000207       0.512185  0.754306   \n1             0.931076      0.000207       0.512185  0.677430   \n2             1.000000      0.000103       0.697848  0.834204   \n3             1.000000      0.000559       0.797026  1.000000   \n4             0.492251      0.000072       0.797026  0.356633   \n5             0.931278      0.000404       0.697848  0.916379   \n6             0.440049      0.000207       0.602399  0.307150   \n7             0.796134      0.000008       0.512185  0.307150   \n8             0.667183      0.000147       0.428506  1.000000   \n9             0.730666      0.000103       0.697848  0.535191   \n10            0.931278      0.000072       0.602399  0.677430   \n11            0.796134      0.000290       0.797026  0.411183   \n12            0.728756      0.000207       0.697848  0.470754   \n13            0.862561      0.000207       0.512185  0.535191   \n14            1.000000      0.000404       0.797026  0.411183   \n15            0.664412      0.000404       1.000000  0.188095   \n16            0.931076      0.000404       0.900667  0.307150   \n17            1.000000      0.001429       1.000000  0.604217   \n18            1.000000      0.000559       1.000000  0.307150   \n19            1.000000      0.000769       0.623444  0.470754   \n20            0.728756      0.000559       1.000000  0.223062   \n\npathology  Enlarged_Cardiomediastinum  Fracture  Lung_Lesion  Lung_Opacity  \\\nrun_id                                                                       \n0                            0.606975  0.262253     0.338416      0.260413   \n1                            0.892846  0.195175     0.338416      0.221888   \n2                            1.000000  0.068442     0.338416      0.350124   \n3                            1.000000  0.045612     0.338416      0.456418   \n4                            1.000000  0.014510     0.338416      0.781892   \n5                            0.786134  0.005042     0.542487      1.000000   \n6                            0.522797  0.056077     0.338416      0.577812   \n7                            1.000000  0.045612     0.178878      0.515371   \n8                            0.895706  0.045612     0.338416      0.577812   \n9                            0.794496  0.036828     0.178878      0.350124   \n10                           0.581852  0.018527     0.338416      0.221888   \n11                           0.892846  0.068442     0.338416      0.221888   \n12                           1.000000  0.011275     0.338416      0.187496   \n13                           1.000000  0.029513     0.338416      0.350124   \n14                           1.000000  0.029513     0.178878      0.187496   \n15                           1.000000  0.002830     0.178878      0.187496   \n16                           0.786134  0.014510     0.178878      0.221888   \n17                           1.000000  0.029513     0.178878      0.456418   \n18                           0.895706  0.011275     0.178878      0.711555   \n19                           1.000000  0.023473     0.178878      0.643357   \n20                           0.794496  0.006647     0.178878      0.260413   \n\npathology  No_Finding  Pleural_Effusion  Pleural_Other  Pneumonia  \\\nrun_id                                                              \n0            0.801751          0.232788       0.542487   0.470877   \n1            0.708066          0.494161       0.261627   0.402615   \n2            1.000000          0.201280       0.749651   0.341226   \n3            1.000000          0.442017       1.000000   0.714183   \n4            0.897034          0.306010       1.000000   0.545852   \n5            0.897034          0.494161       1.000000   0.402615   \n6            0.506528          0.347859       1.000000   1.000000   \n7            0.694125          0.347859       1.000000   0.901774   \n8            1.000000          0.494161       1.000000   1.000000   \n9            0.794496          0.347859       1.000000   0.899511   \n10           0.897034          0.147848       1.000000   1.000000   \n11           0.897034          0.267668       1.000000   1.000000   \n12           0.899511          0.393213       0.749651   1.000000   \n13           1.000000          0.442017       0.749651   0.627158   \n14           0.506528          0.393213       1.000000   0.901774   \n15           0.897034          0.668666       0.542487   0.627158   \n16           1.000000          0.347859       0.542487   0.545852   \n17           1.000000          0.393213       1.000000   0.627158   \n18           1.000000          0.442017       0.749651   0.286675   \n19           0.794496          0.442017       1.000000   0.470877   \n20           0.899511          0.668666       1.000000   0.714183   \n\npathology  Pneumothorax  Support_Devices  \nrun_id                                    \n0              0.260108         0.131659  \n1              0.489950         0.155438  \n2              0.298947         0.052376  \n3              0.489950         0.042762  \n4              0.863999         0.014136  \n5              0.730666         0.034698  \n6              0.387447         0.006752  \n7              0.730666         0.006752  \n8              0.863519         0.008692  \n9              0.797342         0.006752  \n10             0.863519         0.001301  \n11             0.730666         0.014136  \n12             1.000000         0.011119  \n13             0.797342         0.027981  \n14             0.796399         0.027981  \n15             0.796399         0.027981  \n16             1.000000         0.017860  \n17             0.931550         0.034698  \n18             0.668992         0.017860  \n19             0.931712         0.022424  \n20             0.796399         0.014136  ",
      "text/html": "<div>\n<style scoped>\n    .dataframe tbody tr th:only-of-type {\n        vertical-align: middle;\n    }\n\n    .dataframe tbody tr th {\n        vertical-align: top;\n    }\n\n    .dataframe thead th {\n        text-align: right;\n    }\n</style>\n<table border=\"1\" class=\"dataframe\">\n  <thead>\n    <tr style=\"text-align: right;\">\n      <th>pathology</th>\n      <th>Atelectasis</th>\n      <th>Cardiomegaly</th>\n      <th>Consolidation</th>\n      <th>Edema</th>\n      <th>Enlarged_Cardiomediastinum</th>\n      <th>Fracture</th>\n      <th>Lung_Lesion</th>\n      <th>Lung_Opacity</th>\n      <th>No_Finding</th>\n      <th>Pleural_Effusion</th>\n      <th>Pleural_Other</th>\n      <th>Pneumonia</th>\n      <th>Pneumothorax</th>\n      <th>Support_Devices</th>\n    </tr>\n    <tr>\n      <th>run_id</th>\n      <th></th>\n      <th></th>\n      <th></th>\n      <th></th>\n      <th></th>\n      <th></th>\n      <th></th>\n      <th></th>\n      <th></th>\n      <th></th>\n      <th></th>\n      <th></th>\n      <th></th>\n      <th></th>\n    </tr>\n  </thead>\n  <tbody>\n    <tr>\n      <th>0</th>\n      <td>0.667183</td>\n      <td>0.000207</td>\n      <td>0.512185</td>\n      <td>0.754306</td>\n      <td>0.606975</td>\n      <td>0.262253</td>\n      <td>0.338416</td>\n      <td>0.260413</td>\n      <td>0.801751</td>\n      <td>0.232788</td>\n      <td>0.542487</td>\n      <td>0.470877</td>\n      <td>0.260108</td>\n      <td>0.131659</td>\n    </tr>\n    <tr>\n      <th>1</th>\n      <td>0.931076</td>\n      <td>0.000207</td>\n      <td>0.512185</td>\n      <td>0.677430</td>\n      <td>0.892846</td>\n      <td>0.195175</td>\n      <td>0.338416</td>\n      <td>0.221888</td>\n      <td>0.708066</td>\n      <td>0.494161</td>\n      <td>0.261627</td>\n      <td>0.402615</td>\n      <td>0.489950</td>\n      <td>0.155438</td>\n    </tr>\n    <tr>\n      <th>2</th>\n      <td>1.000000</td>\n      <td>0.000103</td>\n      <td>0.697848</td>\n      <td>0.834204</td>\n      <td>1.000000</td>\n      <td>0.068442</td>\n      <td>0.338416</td>\n      <td>0.350124</td>\n      <td>1.000000</td>\n      <td>0.201280</td>\n      <td>0.749651</td>\n      <td>0.341226</td>\n      <td>0.298947</td>\n      <td>0.052376</td>\n    </tr>\n    <tr>\n      <th>3</th>\n      <td>1.000000</td>\n      <td>0.000559</td>\n      <td>0.797026</td>\n      <td>1.000000</td>\n      <td>1.000000</td>\n      <td>0.045612</td>\n      <td>0.338416</td>\n      <td>0.456418</td>\n      <td>1.000000</td>\n      <td>0.442017</td>\n      <td>1.000000</td>\n      <td>0.714183</td>\n      <td>0.489950</td>\n      <td>0.042762</td>\n    </tr>\n    <tr>\n      <th>4</th>\n      <td>0.492251</td>\n      <td>0.000072</td>\n      <td>0.797026</td>\n      <td>0.356633</td>\n      <td>1.000000</td>\n      <td>0.014510</td>\n      <td>0.338416</td>\n      <td>0.781892</td>\n      <td>0.897034</td>\n      <td>0.306010</td>\n      <td>1.000000</td>\n      <td>0.545852</td>\n      <td>0.863999</td>\n      <td>0.014136</td>\n    </tr>\n    <tr>\n      <th>5</th>\n      <td>0.931278</td>\n      <td>0.000404</td>\n      <td>0.697848</td>\n      <td>0.916379</td>\n      <td>0.786134</td>\n      <td>0.005042</td>\n      <td>0.542487</td>\n      <td>1.000000</td>\n      <td>0.897034</td>\n      <td>0.494161</td>\n      <td>1.000000</td>\n      <td>0.402615</td>\n      <td>0.730666</td>\n      <td>0.034698</td>\n    </tr>\n    <tr>\n      <th>6</th>\n      <td>0.440049</td>\n      <td>0.000207</td>\n      <td>0.602399</td>\n      <td>0.307150</td>\n      <td>0.522797</td>\n      <td>0.056077</td>\n      <td>0.338416</td>\n      <td>0.577812</td>\n      <td>0.506528</td>\n      <td>0.347859</td>\n      <td>1.000000</td>\n      <td>1.000000</td>\n      <td>0.387447</td>\n      <td>0.006752</td>\n    </tr>\n    <tr>\n      <th>7</th>\n      <td>0.796134</td>\n      <td>0.000008</td>\n      <td>0.512185</td>\n      <td>0.307150</td>\n      <td>1.000000</td>\n      <td>0.045612</td>\n      <td>0.178878</td>\n      <td>0.515371</td>\n      <td>0.694125</td>\n      <td>0.347859</td>\n      <td>1.000000</td>\n      <td>0.901774</td>\n      <td>0.730666</td>\n      <td>0.006752</td>\n    </tr>\n    <tr>\n      <th>8</th>\n      <td>0.667183</td>\n      <td>0.000147</td>\n      <td>0.428506</td>\n      <td>1.000000</td>\n      <td>0.895706</td>\n      <td>0.045612</td>\n      <td>0.338416</td>\n      <td>0.577812</td>\n      <td>1.000000</td>\n      <td>0.494161</td>\n      <td>1.000000</td>\n      <td>1.000000</td>\n      <td>0.863519</td>\n      <td>0.008692</td>\n    </tr>\n    <tr>\n      <th>9</th>\n      <td>0.730666</td>\n      <td>0.000103</td>\n      <td>0.697848</td>\n      <td>0.535191</td>\n      <td>0.794496</td>\n      <td>0.036828</td>\n      <td>0.178878</td>\n      <td>0.350124</td>\n      <td>0.794496</td>\n      <td>0.347859</td>\n      <td>1.000000</td>\n      <td>0.899511</td>\n      <td>0.797342</td>\n      <td>0.006752</td>\n    </tr>\n    <tr>\n      <th>10</th>\n      <td>0.931278</td>\n      <td>0.000072</td>\n      <td>0.602399</td>\n      <td>0.677430</td>\n      <td>0.581852</td>\n      <td>0.018527</td>\n      <td>0.338416</td>\n      <td>0.221888</td>\n      <td>0.897034</td>\n      <td>0.147848</td>\n      <td>1.000000</td>\n      <td>1.000000</td>\n      <td>0.863519</td>\n      <td>0.001301</td>\n    </tr>\n    <tr>\n      <th>11</th>\n      <td>0.796134</td>\n      <td>0.000290</td>\n      <td>0.797026</td>\n      <td>0.411183</td>\n      <td>0.892846</td>\n      <td>0.068442</td>\n      <td>0.338416</td>\n      <td>0.221888</td>\n      <td>0.897034</td>\n      <td>0.267668</td>\n      <td>1.000000</td>\n      <td>1.000000</td>\n      <td>0.730666</td>\n      <td>0.014136</td>\n    </tr>\n    <tr>\n      <th>12</th>\n      <td>0.728756</td>\n      <td>0.000207</td>\n      <td>0.697848</td>\n      <td>0.470754</td>\n      <td>1.000000</td>\n      <td>0.011275</td>\n      <td>0.338416</td>\n      <td>0.187496</td>\n      <td>0.899511</td>\n      <td>0.393213</td>\n      <td>0.749651</td>\n      <td>1.000000</td>\n      <td>1.000000</td>\n      <td>0.011119</td>\n    </tr>\n    <tr>\n      <th>13</th>\n      <td>0.862561</td>\n      <td>0.000207</td>\n      <td>0.512185</td>\n      <td>0.535191</td>\n      <td>1.000000</td>\n      <td>0.029513</td>\n      <td>0.338416</td>\n      <td>0.350124</td>\n      <td>1.000000</td>\n      <td>0.442017</td>\n      <td>0.749651</td>\n      <td>0.627158</td>\n      <td>0.797342</td>\n      <td>0.027981</td>\n    </tr>\n    <tr>\n      <th>14</th>\n      <td>1.000000</td>\n      <td>0.000404</td>\n      <td>0.797026</td>\n      <td>0.411183</td>\n      <td>1.000000</td>\n      <td>0.029513</td>\n      <td>0.178878</td>\n      <td>0.187496</td>\n      <td>0.506528</td>\n      <td>0.393213</td>\n      <td>1.000000</td>\n      <td>0.901774</td>\n      <td>0.796399</td>\n      <td>0.027981</td>\n    </tr>\n    <tr>\n      <th>15</th>\n      <td>0.664412</td>\n      <td>0.000404</td>\n      <td>1.000000</td>\n      <td>0.188095</td>\n      <td>1.000000</td>\n      <td>0.002830</td>\n      <td>0.178878</td>\n      <td>0.187496</td>\n      <td>0.897034</td>\n      <td>0.668666</td>\n      <td>0.542487</td>\n      <td>0.627158</td>\n      <td>0.796399</td>\n      <td>0.027981</td>\n    </tr>\n    <tr>\n      <th>16</th>\n      <td>0.931076</td>\n      <td>0.000404</td>\n      <td>0.900667</td>\n      <td>0.307150</td>\n      <td>0.786134</td>\n      <td>0.014510</td>\n      <td>0.178878</td>\n      <td>0.221888</td>\n      <td>1.000000</td>\n      <td>0.347859</td>\n      <td>0.542487</td>\n      <td>0.545852</td>\n      <td>1.000000</td>\n      <td>0.017860</td>\n    </tr>\n    <tr>\n      <th>17</th>\n      <td>1.000000</td>\n      <td>0.001429</td>\n      <td>1.000000</td>\n      <td>0.604217</td>\n      <td>1.000000</td>\n      <td>0.029513</td>\n      <td>0.178878</td>\n      <td>0.456418</td>\n      <td>1.000000</td>\n      <td>0.393213</td>\n      <td>1.000000</td>\n      <td>0.627158</td>\n      <td>0.931550</td>\n      <td>0.034698</td>\n    </tr>\n    <tr>\n      <th>18</th>\n      <td>1.000000</td>\n      <td>0.000559</td>\n      <td>1.000000</td>\n      <td>0.307150</td>\n      <td>0.895706</td>\n      <td>0.011275</td>\n      <td>0.178878</td>\n      <td>0.711555</td>\n      <td>1.000000</td>\n      <td>0.442017</td>\n      <td>0.749651</td>\n      <td>0.286675</td>\n      <td>0.668992</td>\n      <td>0.017860</td>\n    </tr>\n    <tr>\n      <th>19</th>\n      <td>1.000000</td>\n      <td>0.000769</td>\n      <td>0.623444</td>\n      <td>0.470754</td>\n      <td>1.000000</td>\n      <td>0.023473</td>\n      <td>0.178878</td>\n      <td>0.643357</td>\n      <td>0.794496</td>\n      <td>0.442017</td>\n      <td>1.000000</td>\n      <td>0.470877</td>\n      <td>0.931712</td>\n      <td>0.022424</td>\n    </tr>\n    <tr>\n      <th>20</th>\n      <td>0.728756</td>\n      <td>0.000559</td>\n      <td>1.000000</td>\n      <td>0.223062</td>\n      <td>0.794496</td>\n      <td>0.006647</td>\n      <td>0.178878</td>\n      <td>0.260413</td>\n      <td>0.899511</td>\n      <td>0.668666</td>\n      <td>1.000000</td>\n      <td>0.714183</td>\n      <td>0.796399</td>\n      <td>0.014136</td>\n    </tr>\n  </tbody>\n</table>\n</div>"
     },
     "execution_count": 28,
     "metadata": {},
     "output_type": "execute_result"
    }
   ],
   "source": [
    "df_plot_p_value = pd.pivot(df_test_stats[[\"run_id\", \"pathology\", \"p_value\"]], index=\"run_id\", columns=\"pathology\",\n",
    "                           values=\"p_value\")\n",
    "df_plot_chi2 = pd.pivot(df_test_stats[[\"run_id\", \"pathology\", \"chi2\"]], index=\"run_id\", columns=\"pathology\",\n",
    "                        values=\"chi2\")\n",
    "df_plot_is_significant = pd.pivot(df_test_stats[[\"run_id\", \"pathology\", \"is_significant\"]], index=\"run_id\",\n",
    "                                  columns=\"pathology\", values=\"is_significant\")\n",
    "df_plot_p_value"
   ],
   "metadata": {
    "collapsed": false,
    "ExecuteTime": {
     "end_time": "2024-01-05T20:48:48.266979715Z",
     "start_time": "2024-01-05T20:48:48.206204175Z"
    }
   },
   "id": "17b8b5d021b9ea1"
  },
  {
   "cell_type": "code",
   "execution_count": 29,
   "outputs": [
    {
     "data": {
      "application/vnd.plotly.v1+json": {
       "data": [
        {
         "hovertemplate": "pathology=Atelectasis<br>symptoms=%{x}<br>p-value=%{y}<extra></extra>",
         "legendgroup": "Atelectasis",
         "line": {
          "color": "#636efa",
          "dash": "solid"
         },
         "marker": {
          "symbol": "circle"
         },
         "mode": "lines",
         "name": "Atelectasis",
         "orientation": "v",
         "showlegend": true,
         "x": [
          0,
          1,
          2,
          3,
          4,
          5,
          6,
          7,
          8,
          9,
          10,
          11,
          12,
          13,
          14,
          15,
          16,
          17,
          18,
          19,
          20
         ],
         "xaxis": "x",
         "y": [
          0.6671828147879665,
          0.9310761014924722,
          1.0,
          1.0,
          0.4922514677971954,
          0.9312779872325695,
          0.44004928223833994,
          0.7961342786855842,
          0.6671828147879665,
          0.7306657625069061,
          0.9312779872325695,
          0.7961342786855842,
          0.7287559184188408,
          0.8625606249213751,
          1.0,
          0.664412027014793,
          0.9310761014924722,
          1.0,
          1.0,
          1.0,
          0.7287559184188408
         ],
         "yaxis": "y",
         "type": "scatter"
        },
        {
         "hovertemplate": "pathology=Cardiomegaly<br>symptoms=%{x}<br>p-value=%{y}<extra></extra>",
         "legendgroup": "Cardiomegaly",
         "line": {
          "color": "#EF553B",
          "dash": "solid"
         },
         "marker": {
          "symbol": "circle"
         },
         "mode": "lines",
         "name": "Cardiomegaly",
         "orientation": "v",
         "showlegend": true,
         "x": [
          0,
          1,
          2,
          3,
          4,
          5,
          6,
          7,
          8,
          9,
          10,
          11,
          12,
          13,
          14,
          15,
          16,
          17,
          18,
          19,
          20
         ],
         "xaxis": "x",
         "y": [
          2.068055666193511E-4,
          2.068055666193511E-4,
          1.0335642002768706E-4,
          5.590274151254963E-4,
          7.240350773975335E-5,
          4.037859747688588E-4,
          2.068055666193511E-4,
          7.538616420598468E-6,
          1.466474906610531E-4,
          1.0335642002768706E-4,
          7.240350773975335E-5,
          2.8986178202855973E-4,
          2.068055666193511E-4,
          2.068055666193511E-4,
          4.037859747688588E-4,
          4.037859747688588E-4,
          4.037859747688588E-4,
          0.0014292374753037834,
          5.590274151254963E-4,
          7.69177087029423E-4,
          5.590274151254963E-4
         ],
         "yaxis": "y",
         "type": "scatter"
        },
        {
         "hovertemplate": "pathology=Consolidation<br>symptoms=%{x}<br>p-value=%{y}<extra></extra>",
         "legendgroup": "Consolidation",
         "line": {
          "color": "#00cc96",
          "dash": "solid"
         },
         "marker": {
          "symbol": "circle"
         },
         "mode": "lines",
         "name": "Consolidation",
         "orientation": "v",
         "showlegend": true,
         "x": [
          0,
          1,
          2,
          3,
          4,
          5,
          6,
          7,
          8,
          9,
          10,
          11,
          12,
          13,
          14,
          15,
          16,
          17,
          18,
          19,
          20
         ],
         "xaxis": "x",
         "y": [
          0.5121848519408606,
          0.5121848519408606,
          0.6978479733792969,
          0.7970256841713307,
          0.7970256841713307,
          0.6978479733792969,
          0.6023991787201202,
          0.5121848519408606,
          0.42850631307223896,
          0.6978479733792969,
          0.6023991787201202,
          0.7970256841713307,
          0.6978479733792969,
          0.5121848519408606,
          0.7970256841713307,
          1.0,
          0.9006673321511979,
          1.0,
          1.0,
          0.6234442805531748,
          1.0
         ],
         "yaxis": "y",
         "type": "scatter"
        },
        {
         "hovertemplate": "pathology=Edema<br>symptoms=%{x}<br>p-value=%{y}<extra></extra>",
         "legendgroup": "Edema",
         "line": {
          "color": "#ab63fa",
          "dash": "solid"
         },
         "marker": {
          "symbol": "circle"
         },
         "mode": "lines",
         "name": "Edema",
         "orientation": "v",
         "showlegend": true,
         "x": [
          0,
          1,
          2,
          3,
          4,
          5,
          6,
          7,
          8,
          9,
          10,
          11,
          12,
          13,
          14,
          15,
          16,
          17,
          18,
          19,
          20
         ],
         "xaxis": "x",
         "y": [
          0.7543059100715945,
          0.6774299547607601,
          0.8342038628054289,
          1.0,
          0.35663318967067537,
          0.9163788993531962,
          0.3071495464249766,
          0.3071495464249766,
          1.0,
          0.5351911271759671,
          0.6774299547607601,
          0.4111826057758514,
          0.4707540434731886,
          0.5351911271759671,
          0.4111826057758514,
          0.1880953110360472,
          0.3071495464249766,
          0.6042168750300204,
          0.3071495464249766,
          0.4707540434731886,
          0.22306188149938688
         ],
         "yaxis": "y",
         "type": "scatter"
        },
        {
         "hovertemplate": "pathology=Enlarged_Cardiomediastinum<br>symptoms=%{x}<br>p-value=%{y}<extra></extra>",
         "legendgroup": "Enlarged_Cardiomediastinum",
         "line": {
          "color": "#FFA15A",
          "dash": "solid"
         },
         "marker": {
          "symbol": "circle"
         },
         "mode": "lines",
         "name": "Enlarged_Cardiomediastinum",
         "orientation": "v",
         "showlegend": true,
         "x": [
          0,
          1,
          2,
          3,
          4,
          5,
          6,
          7,
          8,
          9,
          10,
          11,
          12,
          13,
          14,
          15,
          16,
          17,
          18,
          19,
          20
         ],
         "xaxis": "x",
         "y": [
          0.6069747139414092,
          0.8928459290408108,
          1.0,
          1.0,
          1.0,
          0.7861342711458205,
          0.5227967865458438,
          1.0,
          0.8957057791477638,
          0.7944960550699571,
          0.5818517457957204,
          0.8928459290408108,
          1.0,
          1.0,
          1.0,
          1.0,
          0.7861342711458205,
          1.0,
          0.8957057791477638,
          1.0,
          0.7944960550699571
         ],
         "yaxis": "y",
         "type": "scatter"
        },
        {
         "hovertemplate": "pathology=Fracture<br>symptoms=%{x}<br>p-value=%{y}<extra></extra>",
         "legendgroup": "Fracture",
         "line": {
          "color": "#19d3f3",
          "dash": "solid"
         },
         "marker": {
          "symbol": "circle"
         },
         "mode": "lines",
         "name": "Fracture",
         "orientation": "v",
         "showlegend": true,
         "x": [
          0,
          1,
          2,
          3,
          4,
          5,
          6,
          7,
          8,
          9,
          10,
          11,
          12,
          13,
          14,
          15,
          16,
          17,
          18,
          19,
          20
         ],
         "xaxis": "x",
         "y": [
          0.26225316776739666,
          0.1951748495271866,
          0.06844205370937351,
          0.04561223217882888,
          0.014510033720961466,
          0.005042204804381458,
          0.0560769688902382,
          0.04561223217882888,
          0.04561223217882888,
          0.03682752567412684,
          0.018527038312812796,
          0.06844205370937351,
          0.011275142506479402,
          0.02951327892287068,
          0.02951327892287068,
          0.002830218762395981,
          0.014510033720961466,
          0.02951327892287068,
          0.011275142506479402,
          0.023473371695548285,
          0.006647207780808349
         ],
         "yaxis": "y",
         "type": "scatter"
        },
        {
         "hovertemplate": "pathology=Lung_Lesion<br>symptoms=%{x}<br>p-value=%{y}<extra></extra>",
         "legendgroup": "Lung_Lesion",
         "line": {
          "color": "#FF6692",
          "dash": "solid"
         },
         "marker": {
          "symbol": "circle"
         },
         "mode": "lines",
         "name": "Lung_Lesion",
         "orientation": "v",
         "showlegend": true,
         "x": [
          0,
          1,
          2,
          3,
          4,
          5,
          6,
          7,
          8,
          9,
          10,
          11,
          12,
          13,
          14,
          15,
          16,
          17,
          18,
          19,
          20
         ],
         "xaxis": "x",
         "y": [
          0.3384158375187772,
          0.3384158375187772,
          0.3384158375187772,
          0.3384158375187772,
          0.3384158375187772,
          0.5424874477826329,
          0.3384158375187772,
          0.17887794543553337,
          0.3384158375187772,
          0.17887794543553337,
          0.3384158375187772,
          0.3384158375187772,
          0.3384158375187772,
          0.3384158375187772,
          0.17887794543553337,
          0.17887794543553337,
          0.17887794543553337,
          0.17887794543553337,
          0.17887794543553337,
          0.17887794543553337,
          0.17887794543553337
         ],
         "yaxis": "y",
         "type": "scatter"
        },
        {
         "hovertemplate": "pathology=Lung_Opacity<br>symptoms=%{x}<br>p-value=%{y}<extra></extra>",
         "legendgroup": "Lung_Opacity",
         "line": {
          "color": "#B6E880",
          "dash": "solid"
         },
         "marker": {
          "symbol": "circle"
         },
         "mode": "lines",
         "name": "Lung_Opacity",
         "orientation": "v",
         "showlegend": true,
         "x": [
          0,
          1,
          2,
          3,
          4,
          5,
          6,
          7,
          8,
          9,
          10,
          11,
          12,
          13,
          14,
          15,
          16,
          17,
          18,
          19,
          20
         ],
         "xaxis": "x",
         "y": [
          0.26041251942545784,
          0.22188778180295324,
          0.35012413690200694,
          0.45641848614284763,
          0.7818919178382265,
          1.0,
          0.5778122267078258,
          0.5153714260547926,
          0.5778122267078258,
          0.35012413690200694,
          0.22188778180295324,
          0.22188778180295324,
          0.18749581280816824,
          0.35012413690200694,
          0.18749581280816824,
          0.18749581280816824,
          0.22188778180295324,
          0.45641848614284763,
          0.7115546291980412,
          0.6433574626210528,
          0.26041251942545784
         ],
         "yaxis": "y",
         "type": "scatter"
        },
        {
         "hovertemplate": "pathology=No_Finding<br>symptoms=%{x}<br>p-value=%{y}<extra></extra>",
         "legendgroup": "No_Finding",
         "line": {
          "color": "#FF97FF",
          "dash": "solid"
         },
         "marker": {
          "symbol": "circle"
         },
         "mode": "lines",
         "name": "No_Finding",
         "orientation": "v",
         "showlegend": true,
         "x": [
          0,
          1,
          2,
          3,
          4,
          5,
          6,
          7,
          8,
          9,
          10,
          11,
          12,
          13,
          14,
          15,
          16,
          17,
          18,
          19,
          20
         ],
         "xaxis": "x",
         "y": [
          0.8017510624031617,
          0.7080657149708963,
          1.0,
          1.0,
          0.8970339978616809,
          0.8970339978616809,
          0.5065282816213246,
          0.6941247433071769,
          1.0,
          0.7944960550699571,
          0.8970339978616809,
          0.8970339978616809,
          0.8995107145125869,
          1.0,
          0.5065282816213246,
          0.8970339978616809,
          1.0,
          1.0,
          1.0,
          0.7944960550699571,
          0.8995107145125869
         ],
         "yaxis": "y",
         "type": "scatter"
        },
        {
         "hovertemplate": "pathology=Pleural_Effusion<br>symptoms=%{x}<br>p-value=%{y}<extra></extra>",
         "legendgroup": "Pleural_Effusion",
         "line": {
          "color": "#FECB52",
          "dash": "solid"
         },
         "marker": {
          "symbol": "circle"
         },
         "mode": "lines",
         "name": "Pleural_Effusion",
         "orientation": "v",
         "showlegend": true,
         "x": [
          0,
          1,
          2,
          3,
          4,
          5,
          6,
          7,
          8,
          9,
          10,
          11,
          12,
          13,
          14,
          15,
          16,
          17,
          18,
          19,
          20
         ],
         "xaxis": "x",
         "y": [
          0.23278759151061887,
          0.4941612884344566,
          0.20127970635569709,
          0.4420172936750234,
          0.3060099260050878,
          0.4941612884344566,
          0.3478590074568767,
          0.3478590074568767,
          0.4941612884344566,
          0.3478590074568767,
          0.14784828342717157,
          0.26766807945702126,
          0.3932130523442118,
          0.4420172936750234,
          0.3932130523442118,
          0.6686655654589231,
          0.3478590074568767,
          0.3932130523442118,
          0.4420172936750234,
          0.4420172936750234,
          0.6686655654589231
         ],
         "yaxis": "y",
         "type": "scatter"
        },
        {
         "hovertemplate": "pathology=Pleural_Other<br>symptoms=%{x}<br>p-value=%{y}<extra></extra>",
         "legendgroup": "Pleural_Other",
         "line": {
          "color": "#636efa",
          "dash": "solid"
         },
         "marker": {
          "symbol": "circle"
         },
         "mode": "lines",
         "name": "Pleural_Other",
         "orientation": "v",
         "showlegend": true,
         "x": [
          0,
          1,
          2,
          3,
          4,
          5,
          6,
          7,
          8,
          9,
          10,
          11,
          12,
          13,
          14,
          15,
          16,
          17,
          18,
          19,
          20
         ],
         "xaxis": "x",
         "y": [
          0.5424874477826329,
          0.26162704711596163,
          0.7496506747296279,
          1.0,
          1.0,
          1.0,
          1.0,
          1.0,
          1.0,
          1.0,
          1.0,
          1.0,
          0.7496506747296279,
          0.7496506747296279,
          1.0,
          0.5424874477826329,
          0.5424874477826329,
          1.0,
          0.7496506747296279,
          1.0,
          1.0
         ],
         "yaxis": "y",
         "type": "scatter"
        },
        {
         "hovertemplate": "pathology=Pneumonia<br>symptoms=%{x}<br>p-value=%{y}<extra></extra>",
         "legendgroup": "Pneumonia",
         "line": {
          "color": "#EF553B",
          "dash": "solid"
         },
         "marker": {
          "symbol": "circle"
         },
         "mode": "lines",
         "name": "Pneumonia",
         "orientation": "v",
         "showlegend": true,
         "x": [
          0,
          1,
          2,
          3,
          4,
          5,
          6,
          7,
          8,
          9,
          10,
          11,
          12,
          13,
          14,
          15,
          16,
          17,
          18,
          19,
          20
         ],
         "xaxis": "x",
         "y": [
          0.47087745537723313,
          0.40261501530698107,
          0.3412256194202649,
          0.7141830654338163,
          0.54585175735474,
          0.40261501530698107,
          1.0,
          0.9017742409266376,
          1.0,
          0.8995107145125869,
          1.0,
          1.0,
          1.0,
          0.6271579276940551,
          0.9017742409266376,
          0.6271579276940551,
          0.54585175735474,
          0.6271579276940551,
          0.2866748691367318,
          0.47087745537723313,
          0.7141830654338163
         ],
         "yaxis": "y",
         "type": "scatter"
        },
        {
         "hovertemplate": "pathology=Pneumothorax<br>symptoms=%{x}<br>p-value=%{y}<extra></extra>",
         "legendgroup": "Pneumothorax",
         "line": {
          "color": "#00cc96",
          "dash": "solid"
         },
         "marker": {
          "symbol": "circle"
         },
         "mode": "lines",
         "name": "Pneumothorax",
         "orientation": "v",
         "showlegend": true,
         "x": [
          0,
          1,
          2,
          3,
          4,
          5,
          6,
          7,
          8,
          9,
          10,
          11,
          12,
          13,
          14,
          15,
          16,
          17,
          18,
          19,
          20
         ],
         "xaxis": "x",
         "y": [
          0.2601080468609914,
          0.4899497447411588,
          0.2989474782996441,
          0.4899497447411588,
          0.8639993414090937,
          0.7306657625069061,
          0.38744742704066193,
          0.7306657625069061,
          0.8635188376122209,
          0.7973423603277308,
          0.8635188376122209,
          0.7306657625069061,
          1.0,
          0.7973423603277308,
          0.7963987422747865,
          0.7963987422747865,
          1.0,
          0.9315504486409726,
          0.6689923869502313,
          0.9317123781452246,
          0.7963987422747865
         ],
         "yaxis": "y",
         "type": "scatter"
        },
        {
         "hovertemplate": "pathology=Support_Devices<br>symptoms=%{x}<br>p-value=%{y}<extra></extra>",
         "legendgroup": "Support_Devices",
         "line": {
          "color": "#ab63fa",
          "dash": "solid"
         },
         "marker": {
          "symbol": "circle"
         },
         "mode": "lines",
         "name": "Support_Devices",
         "orientation": "v",
         "showlegend": true,
         "x": [
          0,
          1,
          2,
          3,
          4,
          5,
          6,
          7,
          8,
          9,
          10,
          11,
          12,
          13,
          14,
          15,
          16,
          17,
          18,
          19,
          20
         ],
         "xaxis": "x",
         "y": [
          0.13165909201285192,
          0.15543816555807624,
          0.052376479581867544,
          0.042762484888438534,
          0.01413617104447881,
          0.03469803307047358,
          0.00675237531502665,
          0.00675237531502665,
          0.008692125782473113,
          0.00675237531502665,
          0.00130115475198489,
          0.01413617104447881,
          0.011119451994681711,
          0.027980601964479285,
          0.027980601964479285,
          0.027980601964479285,
          0.017859713507456982,
          0.03469803307047358,
          0.017859713507456982,
          0.02242409772182727,
          0.01413617104447881
         ],
         "yaxis": "y",
         "type": "scatter"
        }
       ],
       "layout": {
        "template": {
         "data": {
          "histogram2dcontour": [
           {
            "type": "histogram2dcontour",
            "colorbar": {
             "outlinewidth": 0,
             "ticks": ""
            },
            "colorscale": [
             [
              0.0,
              "#0d0887"
             ],
             [
              0.1111111111111111,
              "#46039f"
             ],
             [
              0.2222222222222222,
              "#7201a8"
             ],
             [
              0.3333333333333333,
              "#9c179e"
             ],
             [
              0.4444444444444444,
              "#bd3786"
             ],
             [
              0.5555555555555556,
              "#d8576b"
             ],
             [
              0.6666666666666666,
              "#ed7953"
             ],
             [
              0.7777777777777778,
              "#fb9f3a"
             ],
             [
              0.8888888888888888,
              "#fdca26"
             ],
             [
              1.0,
              "#f0f921"
             ]
            ]
           }
          ],
          "choropleth": [
           {
            "type": "choropleth",
            "colorbar": {
             "outlinewidth": 0,
             "ticks": ""
            }
           }
          ],
          "histogram2d": [
           {
            "type": "histogram2d",
            "colorbar": {
             "outlinewidth": 0,
             "ticks": ""
            },
            "colorscale": [
             [
              0.0,
              "#0d0887"
             ],
             [
              0.1111111111111111,
              "#46039f"
             ],
             [
              0.2222222222222222,
              "#7201a8"
             ],
             [
              0.3333333333333333,
              "#9c179e"
             ],
             [
              0.4444444444444444,
              "#bd3786"
             ],
             [
              0.5555555555555556,
              "#d8576b"
             ],
             [
              0.6666666666666666,
              "#ed7953"
             ],
             [
              0.7777777777777778,
              "#fb9f3a"
             ],
             [
              0.8888888888888888,
              "#fdca26"
             ],
             [
              1.0,
              "#f0f921"
             ]
            ]
           }
          ],
          "heatmap": [
           {
            "type": "heatmap",
            "colorbar": {
             "outlinewidth": 0,
             "ticks": ""
            },
            "colorscale": [
             [
              0.0,
              "#0d0887"
             ],
             [
              0.1111111111111111,
              "#46039f"
             ],
             [
              0.2222222222222222,
              "#7201a8"
             ],
             [
              0.3333333333333333,
              "#9c179e"
             ],
             [
              0.4444444444444444,
              "#bd3786"
             ],
             [
              0.5555555555555556,
              "#d8576b"
             ],
             [
              0.6666666666666666,
              "#ed7953"
             ],
             [
              0.7777777777777778,
              "#fb9f3a"
             ],
             [
              0.8888888888888888,
              "#fdca26"
             ],
             [
              1.0,
              "#f0f921"
             ]
            ]
           }
          ],
          "heatmapgl": [
           {
            "type": "heatmapgl",
            "colorbar": {
             "outlinewidth": 0,
             "ticks": ""
            },
            "colorscale": [
             [
              0.0,
              "#0d0887"
             ],
             [
              0.1111111111111111,
              "#46039f"
             ],
             [
              0.2222222222222222,
              "#7201a8"
             ],
             [
              0.3333333333333333,
              "#9c179e"
             ],
             [
              0.4444444444444444,
              "#bd3786"
             ],
             [
              0.5555555555555556,
              "#d8576b"
             ],
             [
              0.6666666666666666,
              "#ed7953"
             ],
             [
              0.7777777777777778,
              "#fb9f3a"
             ],
             [
              0.8888888888888888,
              "#fdca26"
             ],
             [
              1.0,
              "#f0f921"
             ]
            ]
           }
          ],
          "contourcarpet": [
           {
            "type": "contourcarpet",
            "colorbar": {
             "outlinewidth": 0,
             "ticks": ""
            }
           }
          ],
          "contour": [
           {
            "type": "contour",
            "colorbar": {
             "outlinewidth": 0,
             "ticks": ""
            },
            "colorscale": [
             [
              0.0,
              "#0d0887"
             ],
             [
              0.1111111111111111,
              "#46039f"
             ],
             [
              0.2222222222222222,
              "#7201a8"
             ],
             [
              0.3333333333333333,
              "#9c179e"
             ],
             [
              0.4444444444444444,
              "#bd3786"
             ],
             [
              0.5555555555555556,
              "#d8576b"
             ],
             [
              0.6666666666666666,
              "#ed7953"
             ],
             [
              0.7777777777777778,
              "#fb9f3a"
             ],
             [
              0.8888888888888888,
              "#fdca26"
             ],
             [
              1.0,
              "#f0f921"
             ]
            ]
           }
          ],
          "surface": [
           {
            "type": "surface",
            "colorbar": {
             "outlinewidth": 0,
             "ticks": ""
            },
            "colorscale": [
             [
              0.0,
              "#0d0887"
             ],
             [
              0.1111111111111111,
              "#46039f"
             ],
             [
              0.2222222222222222,
              "#7201a8"
             ],
             [
              0.3333333333333333,
              "#9c179e"
             ],
             [
              0.4444444444444444,
              "#bd3786"
             ],
             [
              0.5555555555555556,
              "#d8576b"
             ],
             [
              0.6666666666666666,
              "#ed7953"
             ],
             [
              0.7777777777777778,
              "#fb9f3a"
             ],
             [
              0.8888888888888888,
              "#fdca26"
             ],
             [
              1.0,
              "#f0f921"
             ]
            ]
           }
          ],
          "mesh3d": [
           {
            "type": "mesh3d",
            "colorbar": {
             "outlinewidth": 0,
             "ticks": ""
            }
           }
          ],
          "scatter": [
           {
            "marker": {
             "line": {
              "color": "#283442"
             }
            },
            "type": "scatter"
           }
          ],
          "parcoords": [
           {
            "type": "parcoords",
            "line": {
             "colorbar": {
              "outlinewidth": 0,
              "ticks": ""
             }
            }
           }
          ],
          "scatterpolargl": [
           {
            "type": "scatterpolargl",
            "marker": {
             "colorbar": {
              "outlinewidth": 0,
              "ticks": ""
             }
            }
           }
          ],
          "bar": [
           {
            "error_x": {
             "color": "#f2f5fa"
            },
            "error_y": {
             "color": "#f2f5fa"
            },
            "marker": {
             "line": {
              "color": "rgb(17,17,17)",
              "width": 0.5
             },
             "pattern": {
              "fillmode": "overlay",
              "size": 10,
              "solidity": 0.2
             }
            },
            "type": "bar"
           }
          ],
          "scattergeo": [
           {
            "type": "scattergeo",
            "marker": {
             "colorbar": {
              "outlinewidth": 0,
              "ticks": ""
             }
            }
           }
          ],
          "scatterpolar": [
           {
            "type": "scatterpolar",
            "marker": {
             "colorbar": {
              "outlinewidth": 0,
              "ticks": ""
             }
            }
           }
          ],
          "histogram": [
           {
            "marker": {
             "pattern": {
              "fillmode": "overlay",
              "size": 10,
              "solidity": 0.2
             }
            },
            "type": "histogram"
           }
          ],
          "scattergl": [
           {
            "marker": {
             "line": {
              "color": "#283442"
             }
            },
            "type": "scattergl"
           }
          ],
          "scatter3d": [
           {
            "type": "scatter3d",
            "line": {
             "colorbar": {
              "outlinewidth": 0,
              "ticks": ""
             }
            },
            "marker": {
             "colorbar": {
              "outlinewidth": 0,
              "ticks": ""
             }
            }
           }
          ],
          "scattermapbox": [
           {
            "type": "scattermapbox",
            "marker": {
             "colorbar": {
              "outlinewidth": 0,
              "ticks": ""
             }
            }
           }
          ],
          "scatterternary": [
           {
            "type": "scatterternary",
            "marker": {
             "colorbar": {
              "outlinewidth": 0,
              "ticks": ""
             }
            }
           }
          ],
          "scattercarpet": [
           {
            "type": "scattercarpet",
            "marker": {
             "colorbar": {
              "outlinewidth": 0,
              "ticks": ""
             }
            }
           }
          ],
          "carpet": [
           {
            "aaxis": {
             "endlinecolor": "#A2B1C6",
             "gridcolor": "#506784",
             "linecolor": "#506784",
             "minorgridcolor": "#506784",
             "startlinecolor": "#A2B1C6"
            },
            "baxis": {
             "endlinecolor": "#A2B1C6",
             "gridcolor": "#506784",
             "linecolor": "#506784",
             "minorgridcolor": "#506784",
             "startlinecolor": "#A2B1C6"
            },
            "type": "carpet"
           }
          ],
          "table": [
           {
            "cells": {
             "fill": {
              "color": "#506784"
             },
             "line": {
              "color": "rgb(17,17,17)"
             }
            },
            "header": {
             "fill": {
              "color": "#2a3f5f"
             },
             "line": {
              "color": "rgb(17,17,17)"
             }
            },
            "type": "table"
           }
          ],
          "barpolar": [
           {
            "marker": {
             "line": {
              "color": "rgb(17,17,17)",
              "width": 0.5
             },
             "pattern": {
              "fillmode": "overlay",
              "size": 10,
              "solidity": 0.2
             }
            },
            "type": "barpolar"
           }
          ],
          "pie": [
           {
            "automargin": true,
            "type": "pie"
           }
          ]
         },
         "layout": {
          "autotypenumbers": "strict",
          "colorway": [
           "#636efa",
           "#EF553B",
           "#00cc96",
           "#ab63fa",
           "#FFA15A",
           "#19d3f3",
           "#FF6692",
           "#B6E880",
           "#FF97FF",
           "#FECB52"
          ],
          "font": {
           "color": "#f2f5fa"
          },
          "hovermode": "closest",
          "hoverlabel": {
           "align": "left"
          },
          "paper_bgcolor": "rgb(17,17,17)",
          "plot_bgcolor": "rgb(17,17,17)",
          "polar": {
           "bgcolor": "rgb(17,17,17)",
           "angularaxis": {
            "gridcolor": "#506784",
            "linecolor": "#506784",
            "ticks": ""
           },
           "radialaxis": {
            "gridcolor": "#506784",
            "linecolor": "#506784",
            "ticks": ""
           }
          },
          "ternary": {
           "bgcolor": "rgb(17,17,17)",
           "aaxis": {
            "gridcolor": "#506784",
            "linecolor": "#506784",
            "ticks": ""
           },
           "baxis": {
            "gridcolor": "#506784",
            "linecolor": "#506784",
            "ticks": ""
           },
           "caxis": {
            "gridcolor": "#506784",
            "linecolor": "#506784",
            "ticks": ""
           }
          },
          "coloraxis": {
           "colorbar": {
            "outlinewidth": 0,
            "ticks": ""
           }
          },
          "colorscale": {
           "sequential": [
            [
             0.0,
             "#0d0887"
            ],
            [
             0.1111111111111111,
             "#46039f"
            ],
            [
             0.2222222222222222,
             "#7201a8"
            ],
            [
             0.3333333333333333,
             "#9c179e"
            ],
            [
             0.4444444444444444,
             "#bd3786"
            ],
            [
             0.5555555555555556,
             "#d8576b"
            ],
            [
             0.6666666666666666,
             "#ed7953"
            ],
            [
             0.7777777777777778,
             "#fb9f3a"
            ],
            [
             0.8888888888888888,
             "#fdca26"
            ],
            [
             1.0,
             "#f0f921"
            ]
           ],
           "sequentialminus": [
            [
             0.0,
             "#0d0887"
            ],
            [
             0.1111111111111111,
             "#46039f"
            ],
            [
             0.2222222222222222,
             "#7201a8"
            ],
            [
             0.3333333333333333,
             "#9c179e"
            ],
            [
             0.4444444444444444,
             "#bd3786"
            ],
            [
             0.5555555555555556,
             "#d8576b"
            ],
            [
             0.6666666666666666,
             "#ed7953"
            ],
            [
             0.7777777777777778,
             "#fb9f3a"
            ],
            [
             0.8888888888888888,
             "#fdca26"
            ],
            [
             1.0,
             "#f0f921"
            ]
           ],
           "diverging": [
            [
             0,
             "#8e0152"
            ],
            [
             0.1,
             "#c51b7d"
            ],
            [
             0.2,
             "#de77ae"
            ],
            [
             0.3,
             "#f1b6da"
            ],
            [
             0.4,
             "#fde0ef"
            ],
            [
             0.5,
             "#f7f7f7"
            ],
            [
             0.6,
             "#e6f5d0"
            ],
            [
             0.7,
             "#b8e186"
            ],
            [
             0.8,
             "#7fbc41"
            ],
            [
             0.9,
             "#4d9221"
            ],
            [
             1,
             "#276419"
            ]
           ]
          },
          "xaxis": {
           "gridcolor": "#283442",
           "linecolor": "#506784",
           "ticks": "",
           "title": {
            "standoff": 15
           },
           "zerolinecolor": "#283442",
           "automargin": true,
           "zerolinewidth": 2
          },
          "yaxis": {
           "gridcolor": "#283442",
           "linecolor": "#506784",
           "ticks": "",
           "title": {
            "standoff": 15
           },
           "zerolinecolor": "#283442",
           "automargin": true,
           "zerolinewidth": 2
          },
          "scene": {
           "xaxis": {
            "backgroundcolor": "rgb(17,17,17)",
            "gridcolor": "#506784",
            "linecolor": "#506784",
            "showbackground": true,
            "ticks": "",
            "zerolinecolor": "#C8D4E3",
            "gridwidth": 2
           },
           "yaxis": {
            "backgroundcolor": "rgb(17,17,17)",
            "gridcolor": "#506784",
            "linecolor": "#506784",
            "showbackground": true,
            "ticks": "",
            "zerolinecolor": "#C8D4E3",
            "gridwidth": 2
           },
           "zaxis": {
            "backgroundcolor": "rgb(17,17,17)",
            "gridcolor": "#506784",
            "linecolor": "#506784",
            "showbackground": true,
            "ticks": "",
            "zerolinecolor": "#C8D4E3",
            "gridwidth": 2
           }
          },
          "shapedefaults": {
           "line": {
            "color": "#f2f5fa"
           }
          },
          "annotationdefaults": {
           "arrowcolor": "#f2f5fa",
           "arrowhead": 0,
           "arrowwidth": 1
          },
          "geo": {
           "bgcolor": "rgb(17,17,17)",
           "landcolor": "rgb(17,17,17)",
           "subunitcolor": "#506784",
           "showland": true,
           "showlakes": true,
           "lakecolor": "rgb(17,17,17)"
          },
          "title": {
           "x": 0.05
          },
          "updatemenudefaults": {
           "bgcolor": "#506784",
           "borderwidth": 0
          },
          "sliderdefaults": {
           "bgcolor": "#C8D4E3",
           "borderwidth": 1,
           "bordercolor": "rgb(17,17,17)",
           "tickwidth": 0
          },
          "mapbox": {
           "style": "dark"
          }
         }
        },
        "xaxis": {
         "anchor": "y",
         "domain": [
          0.0,
          1.0
         ],
         "title": {
          "text": "symptoms"
         }
        },
        "yaxis": {
         "anchor": "x",
         "domain": [
          0.0,
          1.0
         ],
         "title": {
          "text": "p-value"
         }
        },
        "legend": {
         "title": {
          "text": "pathology"
         },
         "tracegroupgap": 0
        },
        "title": {
         "text": "Chi2 p_value effect significance"
        },
        "shapes": [
         {
          "line": {
           "color": "green",
           "dash": "dash",
           "width": 2
          },
          "type": "line",
          "x0": 0,
          "x1": 1,
          "xref": "x domain",
          "y0": 0.05,
          "y1": 0.05,
          "yref": "y"
         }
        ]
       },
       "config": {
        "plotlyServerURL": "https://plot.ly"
       }
      },
      "text/html": "<div>                            <div id=\"74e62e6d-8dbf-4f92-b1fb-fdadfc65d933\" class=\"plotly-graph-div\" style=\"height:525px; width:100%;\"></div>            <script type=\"text/javascript\">                require([\"plotly\"], function(Plotly) {                    window.PLOTLYENV=window.PLOTLYENV || {};                                    if (document.getElementById(\"74e62e6d-8dbf-4f92-b1fb-fdadfc65d933\")) {                    Plotly.newPlot(                        \"74e62e6d-8dbf-4f92-b1fb-fdadfc65d933\",                        [{\"hovertemplate\":\"pathology=Atelectasis<br>symptoms=%{x}<br>p-value=%{y}<extra></extra>\",\"legendgroup\":\"Atelectasis\",\"line\":{\"color\":\"#636efa\",\"dash\":\"solid\"},\"marker\":{\"symbol\":\"circle\"},\"mode\":\"lines\",\"name\":\"Atelectasis\",\"orientation\":\"v\",\"showlegend\":true,\"x\":[0,1,2,3,4,5,6,7,8,9,10,11,12,13,14,15,16,17,18,19,20],\"xaxis\":\"x\",\"y\":[0.6671828147879665,0.9310761014924722,1.0,1.0,0.4922514677971954,0.9312779872325695,0.44004928223833994,0.7961342786855842,0.6671828147879665,0.7306657625069061,0.9312779872325695,0.7961342786855842,0.7287559184188408,0.8625606249213751,1.0,0.664412027014793,0.9310761014924722,1.0,1.0,1.0,0.7287559184188408],\"yaxis\":\"y\",\"type\":\"scatter\"},{\"hovertemplate\":\"pathology=Cardiomegaly<br>symptoms=%{x}<br>p-value=%{y}<extra></extra>\",\"legendgroup\":\"Cardiomegaly\",\"line\":{\"color\":\"#EF553B\",\"dash\":\"solid\"},\"marker\":{\"symbol\":\"circle\"},\"mode\":\"lines\",\"name\":\"Cardiomegaly\",\"orientation\":\"v\",\"showlegend\":true,\"x\":[0,1,2,3,4,5,6,7,8,9,10,11,12,13,14,15,16,17,18,19,20],\"xaxis\":\"x\",\"y\":[0.0002068055666193511,0.0002068055666193511,0.00010335642002768706,0.0005590274151254963,7.240350773975335e-05,0.0004037859747688588,0.0002068055666193511,7.538616420598468e-06,0.0001466474906610531,0.00010335642002768706,7.240350773975335e-05,0.00028986178202855973,0.0002068055666193511,0.0002068055666193511,0.0004037859747688588,0.0004037859747688588,0.0004037859747688588,0.0014292374753037834,0.0005590274151254963,0.000769177087029423,0.0005590274151254963],\"yaxis\":\"y\",\"type\":\"scatter\"},{\"hovertemplate\":\"pathology=Consolidation<br>symptoms=%{x}<br>p-value=%{y}<extra></extra>\",\"legendgroup\":\"Consolidation\",\"line\":{\"color\":\"#00cc96\",\"dash\":\"solid\"},\"marker\":{\"symbol\":\"circle\"},\"mode\":\"lines\",\"name\":\"Consolidation\",\"orientation\":\"v\",\"showlegend\":true,\"x\":[0,1,2,3,4,5,6,7,8,9,10,11,12,13,14,15,16,17,18,19,20],\"xaxis\":\"x\",\"y\":[0.5121848519408606,0.5121848519408606,0.6978479733792969,0.7970256841713307,0.7970256841713307,0.6978479733792969,0.6023991787201202,0.5121848519408606,0.42850631307223896,0.6978479733792969,0.6023991787201202,0.7970256841713307,0.6978479733792969,0.5121848519408606,0.7970256841713307,1.0,0.9006673321511979,1.0,1.0,0.6234442805531748,1.0],\"yaxis\":\"y\",\"type\":\"scatter\"},{\"hovertemplate\":\"pathology=Edema<br>symptoms=%{x}<br>p-value=%{y}<extra></extra>\",\"legendgroup\":\"Edema\",\"line\":{\"color\":\"#ab63fa\",\"dash\":\"solid\"},\"marker\":{\"symbol\":\"circle\"},\"mode\":\"lines\",\"name\":\"Edema\",\"orientation\":\"v\",\"showlegend\":true,\"x\":[0,1,2,3,4,5,6,7,8,9,10,11,12,13,14,15,16,17,18,19,20],\"xaxis\":\"x\",\"y\":[0.7543059100715945,0.6774299547607601,0.8342038628054289,1.0,0.35663318967067537,0.9163788993531962,0.3071495464249766,0.3071495464249766,1.0,0.5351911271759671,0.6774299547607601,0.4111826057758514,0.4707540434731886,0.5351911271759671,0.4111826057758514,0.1880953110360472,0.3071495464249766,0.6042168750300204,0.3071495464249766,0.4707540434731886,0.22306188149938688],\"yaxis\":\"y\",\"type\":\"scatter\"},{\"hovertemplate\":\"pathology=Enlarged_Cardiomediastinum<br>symptoms=%{x}<br>p-value=%{y}<extra></extra>\",\"legendgroup\":\"Enlarged_Cardiomediastinum\",\"line\":{\"color\":\"#FFA15A\",\"dash\":\"solid\"},\"marker\":{\"symbol\":\"circle\"},\"mode\":\"lines\",\"name\":\"Enlarged_Cardiomediastinum\",\"orientation\":\"v\",\"showlegend\":true,\"x\":[0,1,2,3,4,5,6,7,8,9,10,11,12,13,14,15,16,17,18,19,20],\"xaxis\":\"x\",\"y\":[0.6069747139414092,0.8928459290408108,1.0,1.0,1.0,0.7861342711458205,0.5227967865458438,1.0,0.8957057791477638,0.7944960550699571,0.5818517457957204,0.8928459290408108,1.0,1.0,1.0,1.0,0.7861342711458205,1.0,0.8957057791477638,1.0,0.7944960550699571],\"yaxis\":\"y\",\"type\":\"scatter\"},{\"hovertemplate\":\"pathology=Fracture<br>symptoms=%{x}<br>p-value=%{y}<extra></extra>\",\"legendgroup\":\"Fracture\",\"line\":{\"color\":\"#19d3f3\",\"dash\":\"solid\"},\"marker\":{\"symbol\":\"circle\"},\"mode\":\"lines\",\"name\":\"Fracture\",\"orientation\":\"v\",\"showlegend\":true,\"x\":[0,1,2,3,4,5,6,7,8,9,10,11,12,13,14,15,16,17,18,19,20],\"xaxis\":\"x\",\"y\":[0.26225316776739666,0.1951748495271866,0.06844205370937351,0.04561223217882888,0.014510033720961466,0.005042204804381458,0.0560769688902382,0.04561223217882888,0.04561223217882888,0.03682752567412684,0.018527038312812796,0.06844205370937351,0.011275142506479402,0.02951327892287068,0.02951327892287068,0.002830218762395981,0.014510033720961466,0.02951327892287068,0.011275142506479402,0.023473371695548285,0.006647207780808349],\"yaxis\":\"y\",\"type\":\"scatter\"},{\"hovertemplate\":\"pathology=Lung_Lesion<br>symptoms=%{x}<br>p-value=%{y}<extra></extra>\",\"legendgroup\":\"Lung_Lesion\",\"line\":{\"color\":\"#FF6692\",\"dash\":\"solid\"},\"marker\":{\"symbol\":\"circle\"},\"mode\":\"lines\",\"name\":\"Lung_Lesion\",\"orientation\":\"v\",\"showlegend\":true,\"x\":[0,1,2,3,4,5,6,7,8,9,10,11,12,13,14,15,16,17,18,19,20],\"xaxis\":\"x\",\"y\":[0.3384158375187772,0.3384158375187772,0.3384158375187772,0.3384158375187772,0.3384158375187772,0.5424874477826329,0.3384158375187772,0.17887794543553337,0.3384158375187772,0.17887794543553337,0.3384158375187772,0.3384158375187772,0.3384158375187772,0.3384158375187772,0.17887794543553337,0.17887794543553337,0.17887794543553337,0.17887794543553337,0.17887794543553337,0.17887794543553337,0.17887794543553337],\"yaxis\":\"y\",\"type\":\"scatter\"},{\"hovertemplate\":\"pathology=Lung_Opacity<br>symptoms=%{x}<br>p-value=%{y}<extra></extra>\",\"legendgroup\":\"Lung_Opacity\",\"line\":{\"color\":\"#B6E880\",\"dash\":\"solid\"},\"marker\":{\"symbol\":\"circle\"},\"mode\":\"lines\",\"name\":\"Lung_Opacity\",\"orientation\":\"v\",\"showlegend\":true,\"x\":[0,1,2,3,4,5,6,7,8,9,10,11,12,13,14,15,16,17,18,19,20],\"xaxis\":\"x\",\"y\":[0.26041251942545784,0.22188778180295324,0.35012413690200694,0.45641848614284763,0.7818919178382265,1.0,0.5778122267078258,0.5153714260547926,0.5778122267078258,0.35012413690200694,0.22188778180295324,0.22188778180295324,0.18749581280816824,0.35012413690200694,0.18749581280816824,0.18749581280816824,0.22188778180295324,0.45641848614284763,0.7115546291980412,0.6433574626210528,0.26041251942545784],\"yaxis\":\"y\",\"type\":\"scatter\"},{\"hovertemplate\":\"pathology=No_Finding<br>symptoms=%{x}<br>p-value=%{y}<extra></extra>\",\"legendgroup\":\"No_Finding\",\"line\":{\"color\":\"#FF97FF\",\"dash\":\"solid\"},\"marker\":{\"symbol\":\"circle\"},\"mode\":\"lines\",\"name\":\"No_Finding\",\"orientation\":\"v\",\"showlegend\":true,\"x\":[0,1,2,3,4,5,6,7,8,9,10,11,12,13,14,15,16,17,18,19,20],\"xaxis\":\"x\",\"y\":[0.8017510624031617,0.7080657149708963,1.0,1.0,0.8970339978616809,0.8970339978616809,0.5065282816213246,0.6941247433071769,1.0,0.7944960550699571,0.8970339978616809,0.8970339978616809,0.8995107145125869,1.0,0.5065282816213246,0.8970339978616809,1.0,1.0,1.0,0.7944960550699571,0.8995107145125869],\"yaxis\":\"y\",\"type\":\"scatter\"},{\"hovertemplate\":\"pathology=Pleural_Effusion<br>symptoms=%{x}<br>p-value=%{y}<extra></extra>\",\"legendgroup\":\"Pleural_Effusion\",\"line\":{\"color\":\"#FECB52\",\"dash\":\"solid\"},\"marker\":{\"symbol\":\"circle\"},\"mode\":\"lines\",\"name\":\"Pleural_Effusion\",\"orientation\":\"v\",\"showlegend\":true,\"x\":[0,1,2,3,4,5,6,7,8,9,10,11,12,13,14,15,16,17,18,19,20],\"xaxis\":\"x\",\"y\":[0.23278759151061887,0.4941612884344566,0.20127970635569709,0.4420172936750234,0.3060099260050878,0.4941612884344566,0.3478590074568767,0.3478590074568767,0.4941612884344566,0.3478590074568767,0.14784828342717157,0.26766807945702126,0.3932130523442118,0.4420172936750234,0.3932130523442118,0.6686655654589231,0.3478590074568767,0.3932130523442118,0.4420172936750234,0.4420172936750234,0.6686655654589231],\"yaxis\":\"y\",\"type\":\"scatter\"},{\"hovertemplate\":\"pathology=Pleural_Other<br>symptoms=%{x}<br>p-value=%{y}<extra></extra>\",\"legendgroup\":\"Pleural_Other\",\"line\":{\"color\":\"#636efa\",\"dash\":\"solid\"},\"marker\":{\"symbol\":\"circle\"},\"mode\":\"lines\",\"name\":\"Pleural_Other\",\"orientation\":\"v\",\"showlegend\":true,\"x\":[0,1,2,3,4,5,6,7,8,9,10,11,12,13,14,15,16,17,18,19,20],\"xaxis\":\"x\",\"y\":[0.5424874477826329,0.26162704711596163,0.7496506747296279,1.0,1.0,1.0,1.0,1.0,1.0,1.0,1.0,1.0,0.7496506747296279,0.7496506747296279,1.0,0.5424874477826329,0.5424874477826329,1.0,0.7496506747296279,1.0,1.0],\"yaxis\":\"y\",\"type\":\"scatter\"},{\"hovertemplate\":\"pathology=Pneumonia<br>symptoms=%{x}<br>p-value=%{y}<extra></extra>\",\"legendgroup\":\"Pneumonia\",\"line\":{\"color\":\"#EF553B\",\"dash\":\"solid\"},\"marker\":{\"symbol\":\"circle\"},\"mode\":\"lines\",\"name\":\"Pneumonia\",\"orientation\":\"v\",\"showlegend\":true,\"x\":[0,1,2,3,4,5,6,7,8,9,10,11,12,13,14,15,16,17,18,19,20],\"xaxis\":\"x\",\"y\":[0.47087745537723313,0.40261501530698107,0.3412256194202649,0.7141830654338163,0.54585175735474,0.40261501530698107,1.0,0.9017742409266376,1.0,0.8995107145125869,1.0,1.0,1.0,0.6271579276940551,0.9017742409266376,0.6271579276940551,0.54585175735474,0.6271579276940551,0.2866748691367318,0.47087745537723313,0.7141830654338163],\"yaxis\":\"y\",\"type\":\"scatter\"},{\"hovertemplate\":\"pathology=Pneumothorax<br>symptoms=%{x}<br>p-value=%{y}<extra></extra>\",\"legendgroup\":\"Pneumothorax\",\"line\":{\"color\":\"#00cc96\",\"dash\":\"solid\"},\"marker\":{\"symbol\":\"circle\"},\"mode\":\"lines\",\"name\":\"Pneumothorax\",\"orientation\":\"v\",\"showlegend\":true,\"x\":[0,1,2,3,4,5,6,7,8,9,10,11,12,13,14,15,16,17,18,19,20],\"xaxis\":\"x\",\"y\":[0.2601080468609914,0.4899497447411588,0.2989474782996441,0.4899497447411588,0.8639993414090937,0.7306657625069061,0.38744742704066193,0.7306657625069061,0.8635188376122209,0.7973423603277308,0.8635188376122209,0.7306657625069061,1.0,0.7973423603277308,0.7963987422747865,0.7963987422747865,1.0,0.9315504486409726,0.6689923869502313,0.9317123781452246,0.7963987422747865],\"yaxis\":\"y\",\"type\":\"scatter\"},{\"hovertemplate\":\"pathology=Support_Devices<br>symptoms=%{x}<br>p-value=%{y}<extra></extra>\",\"legendgroup\":\"Support_Devices\",\"line\":{\"color\":\"#ab63fa\",\"dash\":\"solid\"},\"marker\":{\"symbol\":\"circle\"},\"mode\":\"lines\",\"name\":\"Support_Devices\",\"orientation\":\"v\",\"showlegend\":true,\"x\":[0,1,2,3,4,5,6,7,8,9,10,11,12,13,14,15,16,17,18,19,20],\"xaxis\":\"x\",\"y\":[0.13165909201285192,0.15543816555807624,0.052376479581867544,0.042762484888438534,0.01413617104447881,0.03469803307047358,0.00675237531502665,0.00675237531502665,0.008692125782473113,0.00675237531502665,0.00130115475198489,0.01413617104447881,0.011119451994681711,0.027980601964479285,0.027980601964479285,0.027980601964479285,0.017859713507456982,0.03469803307047358,0.017859713507456982,0.02242409772182727,0.01413617104447881],\"yaxis\":\"y\",\"type\":\"scatter\"}],                        {\"template\":{\"data\":{\"histogram2dcontour\":[{\"type\":\"histogram2dcontour\",\"colorbar\":{\"outlinewidth\":0,\"ticks\":\"\"},\"colorscale\":[[0.0,\"#0d0887\"],[0.1111111111111111,\"#46039f\"],[0.2222222222222222,\"#7201a8\"],[0.3333333333333333,\"#9c179e\"],[0.4444444444444444,\"#bd3786\"],[0.5555555555555556,\"#d8576b\"],[0.6666666666666666,\"#ed7953\"],[0.7777777777777778,\"#fb9f3a\"],[0.8888888888888888,\"#fdca26\"],[1.0,\"#f0f921\"]]}],\"choropleth\":[{\"type\":\"choropleth\",\"colorbar\":{\"outlinewidth\":0,\"ticks\":\"\"}}],\"histogram2d\":[{\"type\":\"histogram2d\",\"colorbar\":{\"outlinewidth\":0,\"ticks\":\"\"},\"colorscale\":[[0.0,\"#0d0887\"],[0.1111111111111111,\"#46039f\"],[0.2222222222222222,\"#7201a8\"],[0.3333333333333333,\"#9c179e\"],[0.4444444444444444,\"#bd3786\"],[0.5555555555555556,\"#d8576b\"],[0.6666666666666666,\"#ed7953\"],[0.7777777777777778,\"#fb9f3a\"],[0.8888888888888888,\"#fdca26\"],[1.0,\"#f0f921\"]]}],\"heatmap\":[{\"type\":\"heatmap\",\"colorbar\":{\"outlinewidth\":0,\"ticks\":\"\"},\"colorscale\":[[0.0,\"#0d0887\"],[0.1111111111111111,\"#46039f\"],[0.2222222222222222,\"#7201a8\"],[0.3333333333333333,\"#9c179e\"],[0.4444444444444444,\"#bd3786\"],[0.5555555555555556,\"#d8576b\"],[0.6666666666666666,\"#ed7953\"],[0.7777777777777778,\"#fb9f3a\"],[0.8888888888888888,\"#fdca26\"],[1.0,\"#f0f921\"]]}],\"heatmapgl\":[{\"type\":\"heatmapgl\",\"colorbar\":{\"outlinewidth\":0,\"ticks\":\"\"},\"colorscale\":[[0.0,\"#0d0887\"],[0.1111111111111111,\"#46039f\"],[0.2222222222222222,\"#7201a8\"],[0.3333333333333333,\"#9c179e\"],[0.4444444444444444,\"#bd3786\"],[0.5555555555555556,\"#d8576b\"],[0.6666666666666666,\"#ed7953\"],[0.7777777777777778,\"#fb9f3a\"],[0.8888888888888888,\"#fdca26\"],[1.0,\"#f0f921\"]]}],\"contourcarpet\":[{\"type\":\"contourcarpet\",\"colorbar\":{\"outlinewidth\":0,\"ticks\":\"\"}}],\"contour\":[{\"type\":\"contour\",\"colorbar\":{\"outlinewidth\":0,\"ticks\":\"\"},\"colorscale\":[[0.0,\"#0d0887\"],[0.1111111111111111,\"#46039f\"],[0.2222222222222222,\"#7201a8\"],[0.3333333333333333,\"#9c179e\"],[0.4444444444444444,\"#bd3786\"],[0.5555555555555556,\"#d8576b\"],[0.6666666666666666,\"#ed7953\"],[0.7777777777777778,\"#fb9f3a\"],[0.8888888888888888,\"#fdca26\"],[1.0,\"#f0f921\"]]}],\"surface\":[{\"type\":\"surface\",\"colorbar\":{\"outlinewidth\":0,\"ticks\":\"\"},\"colorscale\":[[0.0,\"#0d0887\"],[0.1111111111111111,\"#46039f\"],[0.2222222222222222,\"#7201a8\"],[0.3333333333333333,\"#9c179e\"],[0.4444444444444444,\"#bd3786\"],[0.5555555555555556,\"#d8576b\"],[0.6666666666666666,\"#ed7953\"],[0.7777777777777778,\"#fb9f3a\"],[0.8888888888888888,\"#fdca26\"],[1.0,\"#f0f921\"]]}],\"mesh3d\":[{\"type\":\"mesh3d\",\"colorbar\":{\"outlinewidth\":0,\"ticks\":\"\"}}],\"scatter\":[{\"marker\":{\"line\":{\"color\":\"#283442\"}},\"type\":\"scatter\"}],\"parcoords\":[{\"type\":\"parcoords\",\"line\":{\"colorbar\":{\"outlinewidth\":0,\"ticks\":\"\"}}}],\"scatterpolargl\":[{\"type\":\"scatterpolargl\",\"marker\":{\"colorbar\":{\"outlinewidth\":0,\"ticks\":\"\"}}}],\"bar\":[{\"error_x\":{\"color\":\"#f2f5fa\"},\"error_y\":{\"color\":\"#f2f5fa\"},\"marker\":{\"line\":{\"color\":\"rgb(17,17,17)\",\"width\":0.5},\"pattern\":{\"fillmode\":\"overlay\",\"size\":10,\"solidity\":0.2}},\"type\":\"bar\"}],\"scattergeo\":[{\"type\":\"scattergeo\",\"marker\":{\"colorbar\":{\"outlinewidth\":0,\"ticks\":\"\"}}}],\"scatterpolar\":[{\"type\":\"scatterpolar\",\"marker\":{\"colorbar\":{\"outlinewidth\":0,\"ticks\":\"\"}}}],\"histogram\":[{\"marker\":{\"pattern\":{\"fillmode\":\"overlay\",\"size\":10,\"solidity\":0.2}},\"type\":\"histogram\"}],\"scattergl\":[{\"marker\":{\"line\":{\"color\":\"#283442\"}},\"type\":\"scattergl\"}],\"scatter3d\":[{\"type\":\"scatter3d\",\"line\":{\"colorbar\":{\"outlinewidth\":0,\"ticks\":\"\"}},\"marker\":{\"colorbar\":{\"outlinewidth\":0,\"ticks\":\"\"}}}],\"scattermapbox\":[{\"type\":\"scattermapbox\",\"marker\":{\"colorbar\":{\"outlinewidth\":0,\"ticks\":\"\"}}}],\"scatterternary\":[{\"type\":\"scatterternary\",\"marker\":{\"colorbar\":{\"outlinewidth\":0,\"ticks\":\"\"}}}],\"scattercarpet\":[{\"type\":\"scattercarpet\",\"marker\":{\"colorbar\":{\"outlinewidth\":0,\"ticks\":\"\"}}}],\"carpet\":[{\"aaxis\":{\"endlinecolor\":\"#A2B1C6\",\"gridcolor\":\"#506784\",\"linecolor\":\"#506784\",\"minorgridcolor\":\"#506784\",\"startlinecolor\":\"#A2B1C6\"},\"baxis\":{\"endlinecolor\":\"#A2B1C6\",\"gridcolor\":\"#506784\",\"linecolor\":\"#506784\",\"minorgridcolor\":\"#506784\",\"startlinecolor\":\"#A2B1C6\"},\"type\":\"carpet\"}],\"table\":[{\"cells\":{\"fill\":{\"color\":\"#506784\"},\"line\":{\"color\":\"rgb(17,17,17)\"}},\"header\":{\"fill\":{\"color\":\"#2a3f5f\"},\"line\":{\"color\":\"rgb(17,17,17)\"}},\"type\":\"table\"}],\"barpolar\":[{\"marker\":{\"line\":{\"color\":\"rgb(17,17,17)\",\"width\":0.5},\"pattern\":{\"fillmode\":\"overlay\",\"size\":10,\"solidity\":0.2}},\"type\":\"barpolar\"}],\"pie\":[{\"automargin\":true,\"type\":\"pie\"}]},\"layout\":{\"autotypenumbers\":\"strict\",\"colorway\":[\"#636efa\",\"#EF553B\",\"#00cc96\",\"#ab63fa\",\"#FFA15A\",\"#19d3f3\",\"#FF6692\",\"#B6E880\",\"#FF97FF\",\"#FECB52\"],\"font\":{\"color\":\"#f2f5fa\"},\"hovermode\":\"closest\",\"hoverlabel\":{\"align\":\"left\"},\"paper_bgcolor\":\"rgb(17,17,17)\",\"plot_bgcolor\":\"rgb(17,17,17)\",\"polar\":{\"bgcolor\":\"rgb(17,17,17)\",\"angularaxis\":{\"gridcolor\":\"#506784\",\"linecolor\":\"#506784\",\"ticks\":\"\"},\"radialaxis\":{\"gridcolor\":\"#506784\",\"linecolor\":\"#506784\",\"ticks\":\"\"}},\"ternary\":{\"bgcolor\":\"rgb(17,17,17)\",\"aaxis\":{\"gridcolor\":\"#506784\",\"linecolor\":\"#506784\",\"ticks\":\"\"},\"baxis\":{\"gridcolor\":\"#506784\",\"linecolor\":\"#506784\",\"ticks\":\"\"},\"caxis\":{\"gridcolor\":\"#506784\",\"linecolor\":\"#506784\",\"ticks\":\"\"}},\"coloraxis\":{\"colorbar\":{\"outlinewidth\":0,\"ticks\":\"\"}},\"colorscale\":{\"sequential\":[[0.0,\"#0d0887\"],[0.1111111111111111,\"#46039f\"],[0.2222222222222222,\"#7201a8\"],[0.3333333333333333,\"#9c179e\"],[0.4444444444444444,\"#bd3786\"],[0.5555555555555556,\"#d8576b\"],[0.6666666666666666,\"#ed7953\"],[0.7777777777777778,\"#fb9f3a\"],[0.8888888888888888,\"#fdca26\"],[1.0,\"#f0f921\"]],\"sequentialminus\":[[0.0,\"#0d0887\"],[0.1111111111111111,\"#46039f\"],[0.2222222222222222,\"#7201a8\"],[0.3333333333333333,\"#9c179e\"],[0.4444444444444444,\"#bd3786\"],[0.5555555555555556,\"#d8576b\"],[0.6666666666666666,\"#ed7953\"],[0.7777777777777778,\"#fb9f3a\"],[0.8888888888888888,\"#fdca26\"],[1.0,\"#f0f921\"]],\"diverging\":[[0,\"#8e0152\"],[0.1,\"#c51b7d\"],[0.2,\"#de77ae\"],[0.3,\"#f1b6da\"],[0.4,\"#fde0ef\"],[0.5,\"#f7f7f7\"],[0.6,\"#e6f5d0\"],[0.7,\"#b8e186\"],[0.8,\"#7fbc41\"],[0.9,\"#4d9221\"],[1,\"#276419\"]]},\"xaxis\":{\"gridcolor\":\"#283442\",\"linecolor\":\"#506784\",\"ticks\":\"\",\"title\":{\"standoff\":15},\"zerolinecolor\":\"#283442\",\"automargin\":true,\"zerolinewidth\":2},\"yaxis\":{\"gridcolor\":\"#283442\",\"linecolor\":\"#506784\",\"ticks\":\"\",\"title\":{\"standoff\":15},\"zerolinecolor\":\"#283442\",\"automargin\":true,\"zerolinewidth\":2},\"scene\":{\"xaxis\":{\"backgroundcolor\":\"rgb(17,17,17)\",\"gridcolor\":\"#506784\",\"linecolor\":\"#506784\",\"showbackground\":true,\"ticks\":\"\",\"zerolinecolor\":\"#C8D4E3\",\"gridwidth\":2},\"yaxis\":{\"backgroundcolor\":\"rgb(17,17,17)\",\"gridcolor\":\"#506784\",\"linecolor\":\"#506784\",\"showbackground\":true,\"ticks\":\"\",\"zerolinecolor\":\"#C8D4E3\",\"gridwidth\":2},\"zaxis\":{\"backgroundcolor\":\"rgb(17,17,17)\",\"gridcolor\":\"#506784\",\"linecolor\":\"#506784\",\"showbackground\":true,\"ticks\":\"\",\"zerolinecolor\":\"#C8D4E3\",\"gridwidth\":2}},\"shapedefaults\":{\"line\":{\"color\":\"#f2f5fa\"}},\"annotationdefaults\":{\"arrowcolor\":\"#f2f5fa\",\"arrowhead\":0,\"arrowwidth\":1},\"geo\":{\"bgcolor\":\"rgb(17,17,17)\",\"landcolor\":\"rgb(17,17,17)\",\"subunitcolor\":\"#506784\",\"showland\":true,\"showlakes\":true,\"lakecolor\":\"rgb(17,17,17)\"},\"title\":{\"x\":0.05},\"updatemenudefaults\":{\"bgcolor\":\"#506784\",\"borderwidth\":0},\"sliderdefaults\":{\"bgcolor\":\"#C8D4E3\",\"borderwidth\":1,\"bordercolor\":\"rgb(17,17,17)\",\"tickwidth\":0},\"mapbox\":{\"style\":\"dark\"}}},\"xaxis\":{\"anchor\":\"y\",\"domain\":[0.0,1.0],\"title\":{\"text\":\"symptoms\"}},\"yaxis\":{\"anchor\":\"x\",\"domain\":[0.0,1.0],\"title\":{\"text\":\"p-value\"}},\"legend\":{\"title\":{\"text\":\"pathology\"},\"tracegroupgap\":0},\"title\":{\"text\":\"Chi2 p_value effect significance\"},\"shapes\":[{\"line\":{\"color\":\"green\",\"dash\":\"dash\",\"width\":2},\"type\":\"line\",\"x0\":0,\"x1\":1,\"xref\":\"x domain\",\"y0\":0.05,\"y1\":0.05,\"yref\":\"y\"}]},                        {\"responsive\": true}                    ).then(function(){\n                            \nvar gd = document.getElementById('74e62e6d-8dbf-4f92-b1fb-fdadfc65d933');\nvar x = new MutationObserver(function (mutations, observer) {{\n        var display = window.getComputedStyle(gd).display;\n        if (!display || display === 'none') {{\n            console.log([gd, 'removed!']);\n            Plotly.purge(gd);\n            observer.disconnect();\n        }}\n}});\n\n// Listen for the removal of the full notebook cells\nvar notebookContainer = gd.closest('#notebook-container');\nif (notebookContainer) {{\n    x.observe(notebookContainer, {childList: true});\n}}\n\n// Listen for the clearing of the current output cell\nvar outputEl = gd.closest('.output');\nif (outputEl) {{\n    x.observe(outputEl, {childList: true});\n}}\n\n                        })                };                });            </script>        </div>"
     },
     "metadata": {},
     "output_type": "display_data"
    }
   ],
   "source": [
    "fig = px.line(df_plot_p_value, x=df_plot_p_value.index, y=df_plot_p_value.columns, log_y=False,\n",
    "              labels={\"run_id\": \"symptoms\", \"value\": \"p-value\"},\n",
    "              title=\"Chi2 p_value effect significance\")\n",
    "fig.add_hline(y=0.05, line_width=2, line_dash=\"dash\", line_color=\"green\")\n",
    "fig.show()"
   ],
   "metadata": {
    "collapsed": false,
    "ExecuteTime": {
     "end_time": "2024-01-05T20:48:50.155826528Z",
     "start_time": "2024-01-05T20:48:50.115710282Z"
    }
   },
   "id": "64f782e239181e58"
  },
  {
   "cell_type": "code",
   "execution_count": 30,
   "outputs": [
    {
     "data": {
      "application/vnd.plotly.v1+json": {
       "data": [
        {
         "hovertemplate": "pathology=Atelectasis<br>symptoms=%{x}<br>p-value=%{y}<extra></extra>",
         "legendgroup": "Atelectasis",
         "line": {
          "color": "#636efa",
          "dash": "solid"
         },
         "marker": {
          "symbol": "circle"
         },
         "mode": "lines",
         "name": "Atelectasis",
         "orientation": "v",
         "showlegend": true,
         "x": [
          0,
          1,
          2,
          3,
          4,
          5,
          6,
          7,
          8,
          9,
          10,
          11,
          12,
          13,
          14,
          15,
          16,
          17,
          18,
          19,
          20
         ],
         "xaxis": "x",
         "y": [
          0.6671828147879665,
          0.9310761014924722,
          1.0,
          1.0,
          0.4922514677971954,
          0.9312779872325695,
          0.44004928223833994,
          0.7961342786855842,
          0.6671828147879665,
          0.7306657625069061,
          0.9312779872325695,
          0.7961342786855842,
          0.7287559184188408,
          0.8625606249213751,
          1.0,
          0.664412027014793,
          0.9310761014924722,
          1.0,
          1.0,
          1.0,
          0.7287559184188408
         ],
         "yaxis": "y",
         "type": "scatter"
        },
        {
         "hovertemplate": "pathology=Cardiomegaly<br>symptoms=%{x}<br>p-value=%{y}<extra></extra>",
         "legendgroup": "Cardiomegaly",
         "line": {
          "color": "#EF553B",
          "dash": "solid"
         },
         "marker": {
          "symbol": "circle"
         },
         "mode": "lines",
         "name": "Cardiomegaly",
         "orientation": "v",
         "showlegend": true,
         "x": [
          0,
          1,
          2,
          3,
          4,
          5,
          6,
          7,
          8,
          9,
          10,
          11,
          12,
          13,
          14,
          15,
          16,
          17,
          18,
          19,
          20
         ],
         "xaxis": "x",
         "y": [
          2.068055666193511E-4,
          2.068055666193511E-4,
          1.0335642002768706E-4,
          5.590274151254963E-4,
          7.240350773975335E-5,
          4.037859747688588E-4,
          2.068055666193511E-4,
          7.538616420598468E-6,
          1.466474906610531E-4,
          1.0335642002768706E-4,
          7.240350773975335E-5,
          2.8986178202855973E-4,
          2.068055666193511E-4,
          2.068055666193511E-4,
          4.037859747688588E-4,
          4.037859747688588E-4,
          4.037859747688588E-4,
          0.0014292374753037834,
          5.590274151254963E-4,
          7.69177087029423E-4,
          5.590274151254963E-4
         ],
         "yaxis": "y",
         "type": "scatter"
        },
        {
         "hovertemplate": "pathology=Consolidation<br>symptoms=%{x}<br>p-value=%{y}<extra></extra>",
         "legendgroup": "Consolidation",
         "line": {
          "color": "#00cc96",
          "dash": "solid"
         },
         "marker": {
          "symbol": "circle"
         },
         "mode": "lines",
         "name": "Consolidation",
         "orientation": "v",
         "showlegend": true,
         "x": [
          0,
          1,
          2,
          3,
          4,
          5,
          6,
          7,
          8,
          9,
          10,
          11,
          12,
          13,
          14,
          15,
          16,
          17,
          18,
          19,
          20
         ],
         "xaxis": "x",
         "y": [
          0.5121848519408606,
          0.5121848519408606,
          0.6978479733792969,
          0.7970256841713307,
          0.7970256841713307,
          0.6978479733792969,
          0.6023991787201202,
          0.5121848519408606,
          0.42850631307223896,
          0.6978479733792969,
          0.6023991787201202,
          0.7970256841713307,
          0.6978479733792969,
          0.5121848519408606,
          0.7970256841713307,
          1.0,
          0.9006673321511979,
          1.0,
          1.0,
          0.6234442805531748,
          1.0
         ],
         "yaxis": "y",
         "type": "scatter"
        },
        {
         "hovertemplate": "pathology=Edema<br>symptoms=%{x}<br>p-value=%{y}<extra></extra>",
         "legendgroup": "Edema",
         "line": {
          "color": "#ab63fa",
          "dash": "solid"
         },
         "marker": {
          "symbol": "circle"
         },
         "mode": "lines",
         "name": "Edema",
         "orientation": "v",
         "showlegend": true,
         "x": [
          0,
          1,
          2,
          3,
          4,
          5,
          6,
          7,
          8,
          9,
          10,
          11,
          12,
          13,
          14,
          15,
          16,
          17,
          18,
          19,
          20
         ],
         "xaxis": "x",
         "y": [
          0.7543059100715945,
          0.6774299547607601,
          0.8342038628054289,
          1.0,
          0.35663318967067537,
          0.9163788993531962,
          0.3071495464249766,
          0.3071495464249766,
          1.0,
          0.5351911271759671,
          0.6774299547607601,
          0.4111826057758514,
          0.4707540434731886,
          0.5351911271759671,
          0.4111826057758514,
          0.1880953110360472,
          0.3071495464249766,
          0.6042168750300204,
          0.3071495464249766,
          0.4707540434731886,
          0.22306188149938688
         ],
         "yaxis": "y",
         "type": "scatter"
        },
        {
         "hovertemplate": "pathology=Enlarged_Cardiomediastinum<br>symptoms=%{x}<br>p-value=%{y}<extra></extra>",
         "legendgroup": "Enlarged_Cardiomediastinum",
         "line": {
          "color": "#FFA15A",
          "dash": "solid"
         },
         "marker": {
          "symbol": "circle"
         },
         "mode": "lines",
         "name": "Enlarged_Cardiomediastinum",
         "orientation": "v",
         "showlegend": true,
         "x": [
          0,
          1,
          2,
          3,
          4,
          5,
          6,
          7,
          8,
          9,
          10,
          11,
          12,
          13,
          14,
          15,
          16,
          17,
          18,
          19,
          20
         ],
         "xaxis": "x",
         "y": [
          0.6069747139414092,
          0.8928459290408108,
          1.0,
          1.0,
          1.0,
          0.7861342711458205,
          0.5227967865458438,
          1.0,
          0.8957057791477638,
          0.7944960550699571,
          0.5818517457957204,
          0.8928459290408108,
          1.0,
          1.0,
          1.0,
          1.0,
          0.7861342711458205,
          1.0,
          0.8957057791477638,
          1.0,
          0.7944960550699571
         ],
         "yaxis": "y",
         "type": "scatter"
        },
        {
         "hovertemplate": "pathology=Fracture<br>symptoms=%{x}<br>p-value=%{y}<extra></extra>",
         "legendgroup": "Fracture",
         "line": {
          "color": "#19d3f3",
          "dash": "solid"
         },
         "marker": {
          "symbol": "circle"
         },
         "mode": "lines",
         "name": "Fracture",
         "orientation": "v",
         "showlegend": true,
         "x": [
          0,
          1,
          2,
          3,
          4,
          5,
          6,
          7,
          8,
          9,
          10,
          11,
          12,
          13,
          14,
          15,
          16,
          17,
          18,
          19,
          20
         ],
         "xaxis": "x",
         "y": [
          0.26225316776739666,
          0.1951748495271866,
          0.06844205370937351,
          0.04561223217882888,
          0.014510033720961466,
          0.005042204804381458,
          0.0560769688902382,
          0.04561223217882888,
          0.04561223217882888,
          0.03682752567412684,
          0.018527038312812796,
          0.06844205370937351,
          0.011275142506479402,
          0.02951327892287068,
          0.02951327892287068,
          0.002830218762395981,
          0.014510033720961466,
          0.02951327892287068,
          0.011275142506479402,
          0.023473371695548285,
          0.006647207780808349
         ],
         "yaxis": "y",
         "type": "scatter"
        },
        {
         "hovertemplate": "pathology=Lung_Lesion<br>symptoms=%{x}<br>p-value=%{y}<extra></extra>",
         "legendgroup": "Lung_Lesion",
         "line": {
          "color": "#FF6692",
          "dash": "solid"
         },
         "marker": {
          "symbol": "circle"
         },
         "mode": "lines",
         "name": "Lung_Lesion",
         "orientation": "v",
         "showlegend": true,
         "x": [
          0,
          1,
          2,
          3,
          4,
          5,
          6,
          7,
          8,
          9,
          10,
          11,
          12,
          13,
          14,
          15,
          16,
          17,
          18,
          19,
          20
         ],
         "xaxis": "x",
         "y": [
          0.3384158375187772,
          0.3384158375187772,
          0.3384158375187772,
          0.3384158375187772,
          0.3384158375187772,
          0.5424874477826329,
          0.3384158375187772,
          0.17887794543553337,
          0.3384158375187772,
          0.17887794543553337,
          0.3384158375187772,
          0.3384158375187772,
          0.3384158375187772,
          0.3384158375187772,
          0.17887794543553337,
          0.17887794543553337,
          0.17887794543553337,
          0.17887794543553337,
          0.17887794543553337,
          0.17887794543553337,
          0.17887794543553337
         ],
         "yaxis": "y",
         "type": "scatter"
        },
        {
         "hovertemplate": "pathology=Lung_Opacity<br>symptoms=%{x}<br>p-value=%{y}<extra></extra>",
         "legendgroup": "Lung_Opacity",
         "line": {
          "color": "#B6E880",
          "dash": "solid"
         },
         "marker": {
          "symbol": "circle"
         },
         "mode": "lines",
         "name": "Lung_Opacity",
         "orientation": "v",
         "showlegend": true,
         "x": [
          0,
          1,
          2,
          3,
          4,
          5,
          6,
          7,
          8,
          9,
          10,
          11,
          12,
          13,
          14,
          15,
          16,
          17,
          18,
          19,
          20
         ],
         "xaxis": "x",
         "y": [
          0.26041251942545784,
          0.22188778180295324,
          0.35012413690200694,
          0.45641848614284763,
          0.7818919178382265,
          1.0,
          0.5778122267078258,
          0.5153714260547926,
          0.5778122267078258,
          0.35012413690200694,
          0.22188778180295324,
          0.22188778180295324,
          0.18749581280816824,
          0.35012413690200694,
          0.18749581280816824,
          0.18749581280816824,
          0.22188778180295324,
          0.45641848614284763,
          0.7115546291980412,
          0.6433574626210528,
          0.26041251942545784
         ],
         "yaxis": "y",
         "type": "scatter"
        },
        {
         "hovertemplate": "pathology=No_Finding<br>symptoms=%{x}<br>p-value=%{y}<extra></extra>",
         "legendgroup": "No_Finding",
         "line": {
          "color": "#FF97FF",
          "dash": "solid"
         },
         "marker": {
          "symbol": "circle"
         },
         "mode": "lines",
         "name": "No_Finding",
         "orientation": "v",
         "showlegend": true,
         "x": [
          0,
          1,
          2,
          3,
          4,
          5,
          6,
          7,
          8,
          9,
          10,
          11,
          12,
          13,
          14,
          15,
          16,
          17,
          18,
          19,
          20
         ],
         "xaxis": "x",
         "y": [
          0.8017510624031617,
          0.7080657149708963,
          1.0,
          1.0,
          0.8970339978616809,
          0.8970339978616809,
          0.5065282816213246,
          0.6941247433071769,
          1.0,
          0.7944960550699571,
          0.8970339978616809,
          0.8970339978616809,
          0.8995107145125869,
          1.0,
          0.5065282816213246,
          0.8970339978616809,
          1.0,
          1.0,
          1.0,
          0.7944960550699571,
          0.8995107145125869
         ],
         "yaxis": "y",
         "type": "scatter"
        },
        {
         "hovertemplate": "pathology=Pleural_Effusion<br>symptoms=%{x}<br>p-value=%{y}<extra></extra>",
         "legendgroup": "Pleural_Effusion",
         "line": {
          "color": "#FECB52",
          "dash": "solid"
         },
         "marker": {
          "symbol": "circle"
         },
         "mode": "lines",
         "name": "Pleural_Effusion",
         "orientation": "v",
         "showlegend": true,
         "x": [
          0,
          1,
          2,
          3,
          4,
          5,
          6,
          7,
          8,
          9,
          10,
          11,
          12,
          13,
          14,
          15,
          16,
          17,
          18,
          19,
          20
         ],
         "xaxis": "x",
         "y": [
          0.23278759151061887,
          0.4941612884344566,
          0.20127970635569709,
          0.4420172936750234,
          0.3060099260050878,
          0.4941612884344566,
          0.3478590074568767,
          0.3478590074568767,
          0.4941612884344566,
          0.3478590074568767,
          0.14784828342717157,
          0.26766807945702126,
          0.3932130523442118,
          0.4420172936750234,
          0.3932130523442118,
          0.6686655654589231,
          0.3478590074568767,
          0.3932130523442118,
          0.4420172936750234,
          0.4420172936750234,
          0.6686655654589231
         ],
         "yaxis": "y",
         "type": "scatter"
        },
        {
         "hovertemplate": "pathology=Pleural_Other<br>symptoms=%{x}<br>p-value=%{y}<extra></extra>",
         "legendgroup": "Pleural_Other",
         "line": {
          "color": "#636efa",
          "dash": "solid"
         },
         "marker": {
          "symbol": "circle"
         },
         "mode": "lines",
         "name": "Pleural_Other",
         "orientation": "v",
         "showlegend": true,
         "x": [
          0,
          1,
          2,
          3,
          4,
          5,
          6,
          7,
          8,
          9,
          10,
          11,
          12,
          13,
          14,
          15,
          16,
          17,
          18,
          19,
          20
         ],
         "xaxis": "x",
         "y": [
          0.5424874477826329,
          0.26162704711596163,
          0.7496506747296279,
          1.0,
          1.0,
          1.0,
          1.0,
          1.0,
          1.0,
          1.0,
          1.0,
          1.0,
          0.7496506747296279,
          0.7496506747296279,
          1.0,
          0.5424874477826329,
          0.5424874477826329,
          1.0,
          0.7496506747296279,
          1.0,
          1.0
         ],
         "yaxis": "y",
         "type": "scatter"
        },
        {
         "hovertemplate": "pathology=Pneumonia<br>symptoms=%{x}<br>p-value=%{y}<extra></extra>",
         "legendgroup": "Pneumonia",
         "line": {
          "color": "#EF553B",
          "dash": "solid"
         },
         "marker": {
          "symbol": "circle"
         },
         "mode": "lines",
         "name": "Pneumonia",
         "orientation": "v",
         "showlegend": true,
         "x": [
          0,
          1,
          2,
          3,
          4,
          5,
          6,
          7,
          8,
          9,
          10,
          11,
          12,
          13,
          14,
          15,
          16,
          17,
          18,
          19,
          20
         ],
         "xaxis": "x",
         "y": [
          0.47087745537723313,
          0.40261501530698107,
          0.3412256194202649,
          0.7141830654338163,
          0.54585175735474,
          0.40261501530698107,
          1.0,
          0.9017742409266376,
          1.0,
          0.8995107145125869,
          1.0,
          1.0,
          1.0,
          0.6271579276940551,
          0.9017742409266376,
          0.6271579276940551,
          0.54585175735474,
          0.6271579276940551,
          0.2866748691367318,
          0.47087745537723313,
          0.7141830654338163
         ],
         "yaxis": "y",
         "type": "scatter"
        },
        {
         "hovertemplate": "pathology=Pneumothorax<br>symptoms=%{x}<br>p-value=%{y}<extra></extra>",
         "legendgroup": "Pneumothorax",
         "line": {
          "color": "#00cc96",
          "dash": "solid"
         },
         "marker": {
          "symbol": "circle"
         },
         "mode": "lines",
         "name": "Pneumothorax",
         "orientation": "v",
         "showlegend": true,
         "x": [
          0,
          1,
          2,
          3,
          4,
          5,
          6,
          7,
          8,
          9,
          10,
          11,
          12,
          13,
          14,
          15,
          16,
          17,
          18,
          19,
          20
         ],
         "xaxis": "x",
         "y": [
          0.2601080468609914,
          0.4899497447411588,
          0.2989474782996441,
          0.4899497447411588,
          0.8639993414090937,
          0.7306657625069061,
          0.38744742704066193,
          0.7306657625069061,
          0.8635188376122209,
          0.7973423603277308,
          0.8635188376122209,
          0.7306657625069061,
          1.0,
          0.7973423603277308,
          0.7963987422747865,
          0.7963987422747865,
          1.0,
          0.9315504486409726,
          0.6689923869502313,
          0.9317123781452246,
          0.7963987422747865
         ],
         "yaxis": "y",
         "type": "scatter"
        },
        {
         "hovertemplate": "pathology=Support_Devices<br>symptoms=%{x}<br>p-value=%{y}<extra></extra>",
         "legendgroup": "Support_Devices",
         "line": {
          "color": "#ab63fa",
          "dash": "solid"
         },
         "marker": {
          "symbol": "circle"
         },
         "mode": "lines",
         "name": "Support_Devices",
         "orientation": "v",
         "showlegend": true,
         "x": [
          0,
          1,
          2,
          3,
          4,
          5,
          6,
          7,
          8,
          9,
          10,
          11,
          12,
          13,
          14,
          15,
          16,
          17,
          18,
          19,
          20
         ],
         "xaxis": "x",
         "y": [
          0.13165909201285192,
          0.15543816555807624,
          0.052376479581867544,
          0.042762484888438534,
          0.01413617104447881,
          0.03469803307047358,
          0.00675237531502665,
          0.00675237531502665,
          0.008692125782473113,
          0.00675237531502665,
          0.00130115475198489,
          0.01413617104447881,
          0.011119451994681711,
          0.027980601964479285,
          0.027980601964479285,
          0.027980601964479285,
          0.017859713507456982,
          0.03469803307047358,
          0.017859713507456982,
          0.02242409772182727,
          0.01413617104447881
         ],
         "yaxis": "y",
         "type": "scatter"
        }
       ],
       "layout": {
        "template": {
         "data": {
          "histogram2dcontour": [
           {
            "type": "histogram2dcontour",
            "colorbar": {
             "outlinewidth": 0,
             "ticks": ""
            },
            "colorscale": [
             [
              0.0,
              "#0d0887"
             ],
             [
              0.1111111111111111,
              "#46039f"
             ],
             [
              0.2222222222222222,
              "#7201a8"
             ],
             [
              0.3333333333333333,
              "#9c179e"
             ],
             [
              0.4444444444444444,
              "#bd3786"
             ],
             [
              0.5555555555555556,
              "#d8576b"
             ],
             [
              0.6666666666666666,
              "#ed7953"
             ],
             [
              0.7777777777777778,
              "#fb9f3a"
             ],
             [
              0.8888888888888888,
              "#fdca26"
             ],
             [
              1.0,
              "#f0f921"
             ]
            ]
           }
          ],
          "choropleth": [
           {
            "type": "choropleth",
            "colorbar": {
             "outlinewidth": 0,
             "ticks": ""
            }
           }
          ],
          "histogram2d": [
           {
            "type": "histogram2d",
            "colorbar": {
             "outlinewidth": 0,
             "ticks": ""
            },
            "colorscale": [
             [
              0.0,
              "#0d0887"
             ],
             [
              0.1111111111111111,
              "#46039f"
             ],
             [
              0.2222222222222222,
              "#7201a8"
             ],
             [
              0.3333333333333333,
              "#9c179e"
             ],
             [
              0.4444444444444444,
              "#bd3786"
             ],
             [
              0.5555555555555556,
              "#d8576b"
             ],
             [
              0.6666666666666666,
              "#ed7953"
             ],
             [
              0.7777777777777778,
              "#fb9f3a"
             ],
             [
              0.8888888888888888,
              "#fdca26"
             ],
             [
              1.0,
              "#f0f921"
             ]
            ]
           }
          ],
          "heatmap": [
           {
            "type": "heatmap",
            "colorbar": {
             "outlinewidth": 0,
             "ticks": ""
            },
            "colorscale": [
             [
              0.0,
              "#0d0887"
             ],
             [
              0.1111111111111111,
              "#46039f"
             ],
             [
              0.2222222222222222,
              "#7201a8"
             ],
             [
              0.3333333333333333,
              "#9c179e"
             ],
             [
              0.4444444444444444,
              "#bd3786"
             ],
             [
              0.5555555555555556,
              "#d8576b"
             ],
             [
              0.6666666666666666,
              "#ed7953"
             ],
             [
              0.7777777777777778,
              "#fb9f3a"
             ],
             [
              0.8888888888888888,
              "#fdca26"
             ],
             [
              1.0,
              "#f0f921"
             ]
            ]
           }
          ],
          "heatmapgl": [
           {
            "type": "heatmapgl",
            "colorbar": {
             "outlinewidth": 0,
             "ticks": ""
            },
            "colorscale": [
             [
              0.0,
              "#0d0887"
             ],
             [
              0.1111111111111111,
              "#46039f"
             ],
             [
              0.2222222222222222,
              "#7201a8"
             ],
             [
              0.3333333333333333,
              "#9c179e"
             ],
             [
              0.4444444444444444,
              "#bd3786"
             ],
             [
              0.5555555555555556,
              "#d8576b"
             ],
             [
              0.6666666666666666,
              "#ed7953"
             ],
             [
              0.7777777777777778,
              "#fb9f3a"
             ],
             [
              0.8888888888888888,
              "#fdca26"
             ],
             [
              1.0,
              "#f0f921"
             ]
            ]
           }
          ],
          "contourcarpet": [
           {
            "type": "contourcarpet",
            "colorbar": {
             "outlinewidth": 0,
             "ticks": ""
            }
           }
          ],
          "contour": [
           {
            "type": "contour",
            "colorbar": {
             "outlinewidth": 0,
             "ticks": ""
            },
            "colorscale": [
             [
              0.0,
              "#0d0887"
             ],
             [
              0.1111111111111111,
              "#46039f"
             ],
             [
              0.2222222222222222,
              "#7201a8"
             ],
             [
              0.3333333333333333,
              "#9c179e"
             ],
             [
              0.4444444444444444,
              "#bd3786"
             ],
             [
              0.5555555555555556,
              "#d8576b"
             ],
             [
              0.6666666666666666,
              "#ed7953"
             ],
             [
              0.7777777777777778,
              "#fb9f3a"
             ],
             [
              0.8888888888888888,
              "#fdca26"
             ],
             [
              1.0,
              "#f0f921"
             ]
            ]
           }
          ],
          "surface": [
           {
            "type": "surface",
            "colorbar": {
             "outlinewidth": 0,
             "ticks": ""
            },
            "colorscale": [
             [
              0.0,
              "#0d0887"
             ],
             [
              0.1111111111111111,
              "#46039f"
             ],
             [
              0.2222222222222222,
              "#7201a8"
             ],
             [
              0.3333333333333333,
              "#9c179e"
             ],
             [
              0.4444444444444444,
              "#bd3786"
             ],
             [
              0.5555555555555556,
              "#d8576b"
             ],
             [
              0.6666666666666666,
              "#ed7953"
             ],
             [
              0.7777777777777778,
              "#fb9f3a"
             ],
             [
              0.8888888888888888,
              "#fdca26"
             ],
             [
              1.0,
              "#f0f921"
             ]
            ]
           }
          ],
          "mesh3d": [
           {
            "type": "mesh3d",
            "colorbar": {
             "outlinewidth": 0,
             "ticks": ""
            }
           }
          ],
          "scatter": [
           {
            "marker": {
             "line": {
              "color": "#283442"
             }
            },
            "type": "scatter"
           }
          ],
          "parcoords": [
           {
            "type": "parcoords",
            "line": {
             "colorbar": {
              "outlinewidth": 0,
              "ticks": ""
             }
            }
           }
          ],
          "scatterpolargl": [
           {
            "type": "scatterpolargl",
            "marker": {
             "colorbar": {
              "outlinewidth": 0,
              "ticks": ""
             }
            }
           }
          ],
          "bar": [
           {
            "error_x": {
             "color": "#f2f5fa"
            },
            "error_y": {
             "color": "#f2f5fa"
            },
            "marker": {
             "line": {
              "color": "rgb(17,17,17)",
              "width": 0.5
             },
             "pattern": {
              "fillmode": "overlay",
              "size": 10,
              "solidity": 0.2
             }
            },
            "type": "bar"
           }
          ],
          "scattergeo": [
           {
            "type": "scattergeo",
            "marker": {
             "colorbar": {
              "outlinewidth": 0,
              "ticks": ""
             }
            }
           }
          ],
          "scatterpolar": [
           {
            "type": "scatterpolar",
            "marker": {
             "colorbar": {
              "outlinewidth": 0,
              "ticks": ""
             }
            }
           }
          ],
          "histogram": [
           {
            "marker": {
             "pattern": {
              "fillmode": "overlay",
              "size": 10,
              "solidity": 0.2
             }
            },
            "type": "histogram"
           }
          ],
          "scattergl": [
           {
            "marker": {
             "line": {
              "color": "#283442"
             }
            },
            "type": "scattergl"
           }
          ],
          "scatter3d": [
           {
            "type": "scatter3d",
            "line": {
             "colorbar": {
              "outlinewidth": 0,
              "ticks": ""
             }
            },
            "marker": {
             "colorbar": {
              "outlinewidth": 0,
              "ticks": ""
             }
            }
           }
          ],
          "scattermapbox": [
           {
            "type": "scattermapbox",
            "marker": {
             "colorbar": {
              "outlinewidth": 0,
              "ticks": ""
             }
            }
           }
          ],
          "scatterternary": [
           {
            "type": "scatterternary",
            "marker": {
             "colorbar": {
              "outlinewidth": 0,
              "ticks": ""
             }
            }
           }
          ],
          "scattercarpet": [
           {
            "type": "scattercarpet",
            "marker": {
             "colorbar": {
              "outlinewidth": 0,
              "ticks": ""
             }
            }
           }
          ],
          "carpet": [
           {
            "aaxis": {
             "endlinecolor": "#A2B1C6",
             "gridcolor": "#506784",
             "linecolor": "#506784",
             "minorgridcolor": "#506784",
             "startlinecolor": "#A2B1C6"
            },
            "baxis": {
             "endlinecolor": "#A2B1C6",
             "gridcolor": "#506784",
             "linecolor": "#506784",
             "minorgridcolor": "#506784",
             "startlinecolor": "#A2B1C6"
            },
            "type": "carpet"
           }
          ],
          "table": [
           {
            "cells": {
             "fill": {
              "color": "#506784"
             },
             "line": {
              "color": "rgb(17,17,17)"
             }
            },
            "header": {
             "fill": {
              "color": "#2a3f5f"
             },
             "line": {
              "color": "rgb(17,17,17)"
             }
            },
            "type": "table"
           }
          ],
          "barpolar": [
           {
            "marker": {
             "line": {
              "color": "rgb(17,17,17)",
              "width": 0.5
             },
             "pattern": {
              "fillmode": "overlay",
              "size": 10,
              "solidity": 0.2
             }
            },
            "type": "barpolar"
           }
          ],
          "pie": [
           {
            "automargin": true,
            "type": "pie"
           }
          ]
         },
         "layout": {
          "autotypenumbers": "strict",
          "colorway": [
           "#636efa",
           "#EF553B",
           "#00cc96",
           "#ab63fa",
           "#FFA15A",
           "#19d3f3",
           "#FF6692",
           "#B6E880",
           "#FF97FF",
           "#FECB52"
          ],
          "font": {
           "color": "#f2f5fa"
          },
          "hovermode": "closest",
          "hoverlabel": {
           "align": "left"
          },
          "paper_bgcolor": "rgb(17,17,17)",
          "plot_bgcolor": "rgb(17,17,17)",
          "polar": {
           "bgcolor": "rgb(17,17,17)",
           "angularaxis": {
            "gridcolor": "#506784",
            "linecolor": "#506784",
            "ticks": ""
           },
           "radialaxis": {
            "gridcolor": "#506784",
            "linecolor": "#506784",
            "ticks": ""
           }
          },
          "ternary": {
           "bgcolor": "rgb(17,17,17)",
           "aaxis": {
            "gridcolor": "#506784",
            "linecolor": "#506784",
            "ticks": ""
           },
           "baxis": {
            "gridcolor": "#506784",
            "linecolor": "#506784",
            "ticks": ""
           },
           "caxis": {
            "gridcolor": "#506784",
            "linecolor": "#506784",
            "ticks": ""
           }
          },
          "coloraxis": {
           "colorbar": {
            "outlinewidth": 0,
            "ticks": ""
           }
          },
          "colorscale": {
           "sequential": [
            [
             0.0,
             "#0d0887"
            ],
            [
             0.1111111111111111,
             "#46039f"
            ],
            [
             0.2222222222222222,
             "#7201a8"
            ],
            [
             0.3333333333333333,
             "#9c179e"
            ],
            [
             0.4444444444444444,
             "#bd3786"
            ],
            [
             0.5555555555555556,
             "#d8576b"
            ],
            [
             0.6666666666666666,
             "#ed7953"
            ],
            [
             0.7777777777777778,
             "#fb9f3a"
            ],
            [
             0.8888888888888888,
             "#fdca26"
            ],
            [
             1.0,
             "#f0f921"
            ]
           ],
           "sequentialminus": [
            [
             0.0,
             "#0d0887"
            ],
            [
             0.1111111111111111,
             "#46039f"
            ],
            [
             0.2222222222222222,
             "#7201a8"
            ],
            [
             0.3333333333333333,
             "#9c179e"
            ],
            [
             0.4444444444444444,
             "#bd3786"
            ],
            [
             0.5555555555555556,
             "#d8576b"
            ],
            [
             0.6666666666666666,
             "#ed7953"
            ],
            [
             0.7777777777777778,
             "#fb9f3a"
            ],
            [
             0.8888888888888888,
             "#fdca26"
            ],
            [
             1.0,
             "#f0f921"
            ]
           ],
           "diverging": [
            [
             0,
             "#8e0152"
            ],
            [
             0.1,
             "#c51b7d"
            ],
            [
             0.2,
             "#de77ae"
            ],
            [
             0.3,
             "#f1b6da"
            ],
            [
             0.4,
             "#fde0ef"
            ],
            [
             0.5,
             "#f7f7f7"
            ],
            [
             0.6,
             "#e6f5d0"
            ],
            [
             0.7,
             "#b8e186"
            ],
            [
             0.8,
             "#7fbc41"
            ],
            [
             0.9,
             "#4d9221"
            ],
            [
             1,
             "#276419"
            ]
           ]
          },
          "xaxis": {
           "gridcolor": "#283442",
           "linecolor": "#506784",
           "ticks": "",
           "title": {
            "standoff": 15
           },
           "zerolinecolor": "#283442",
           "automargin": true,
           "zerolinewidth": 2
          },
          "yaxis": {
           "gridcolor": "#283442",
           "linecolor": "#506784",
           "ticks": "",
           "title": {
            "standoff": 15
           },
           "zerolinecolor": "#283442",
           "automargin": true,
           "zerolinewidth": 2
          },
          "scene": {
           "xaxis": {
            "backgroundcolor": "rgb(17,17,17)",
            "gridcolor": "#506784",
            "linecolor": "#506784",
            "showbackground": true,
            "ticks": "",
            "zerolinecolor": "#C8D4E3",
            "gridwidth": 2
           },
           "yaxis": {
            "backgroundcolor": "rgb(17,17,17)",
            "gridcolor": "#506784",
            "linecolor": "#506784",
            "showbackground": true,
            "ticks": "",
            "zerolinecolor": "#C8D4E3",
            "gridwidth": 2
           },
           "zaxis": {
            "backgroundcolor": "rgb(17,17,17)",
            "gridcolor": "#506784",
            "linecolor": "#506784",
            "showbackground": true,
            "ticks": "",
            "zerolinecolor": "#C8D4E3",
            "gridwidth": 2
           }
          },
          "shapedefaults": {
           "line": {
            "color": "#f2f5fa"
           }
          },
          "annotationdefaults": {
           "arrowcolor": "#f2f5fa",
           "arrowhead": 0,
           "arrowwidth": 1
          },
          "geo": {
           "bgcolor": "rgb(17,17,17)",
           "landcolor": "rgb(17,17,17)",
           "subunitcolor": "#506784",
           "showland": true,
           "showlakes": true,
           "lakecolor": "rgb(17,17,17)"
          },
          "title": {
           "x": 0.05
          },
          "updatemenudefaults": {
           "bgcolor": "#506784",
           "borderwidth": 0
          },
          "sliderdefaults": {
           "bgcolor": "#C8D4E3",
           "borderwidth": 1,
           "bordercolor": "rgb(17,17,17)",
           "tickwidth": 0
          },
          "mapbox": {
           "style": "dark"
          }
         }
        },
        "xaxis": {
         "anchor": "y",
         "domain": [
          0.0,
          1.0
         ],
         "title": {
          "text": "symptoms"
         }
        },
        "yaxis": {
         "anchor": "x",
         "domain": [
          0.0,
          1.0
         ],
         "title": {
          "text": "p-value"
         },
         "type": "log"
        },
        "legend": {
         "title": {
          "text": "pathology"
         },
         "tracegroupgap": 0
        },
        "title": {
         "text": "Chi2 p_value effect significance"
        },
        "shapes": [
         {
          "line": {
           "color": "green",
           "dash": "dash",
           "width": 2
          },
          "type": "line",
          "x0": 0,
          "x1": 1,
          "xref": "x domain",
          "y0": 0.05,
          "y1": 0.05,
          "yref": "y"
         }
        ]
       },
       "config": {
        "plotlyServerURL": "https://plot.ly"
       }
      },
      "text/html": "<div>                            <div id=\"e35c937e-114e-4271-8037-db18d485824b\" class=\"plotly-graph-div\" style=\"height:525px; width:100%;\"></div>            <script type=\"text/javascript\">                require([\"plotly\"], function(Plotly) {                    window.PLOTLYENV=window.PLOTLYENV || {};                                    if (document.getElementById(\"e35c937e-114e-4271-8037-db18d485824b\")) {                    Plotly.newPlot(                        \"e35c937e-114e-4271-8037-db18d485824b\",                        [{\"hovertemplate\":\"pathology=Atelectasis<br>symptoms=%{x}<br>p-value=%{y}<extra></extra>\",\"legendgroup\":\"Atelectasis\",\"line\":{\"color\":\"#636efa\",\"dash\":\"solid\"},\"marker\":{\"symbol\":\"circle\"},\"mode\":\"lines\",\"name\":\"Atelectasis\",\"orientation\":\"v\",\"showlegend\":true,\"x\":[0,1,2,3,4,5,6,7,8,9,10,11,12,13,14,15,16,17,18,19,20],\"xaxis\":\"x\",\"y\":[0.6671828147879665,0.9310761014924722,1.0,1.0,0.4922514677971954,0.9312779872325695,0.44004928223833994,0.7961342786855842,0.6671828147879665,0.7306657625069061,0.9312779872325695,0.7961342786855842,0.7287559184188408,0.8625606249213751,1.0,0.664412027014793,0.9310761014924722,1.0,1.0,1.0,0.7287559184188408],\"yaxis\":\"y\",\"type\":\"scatter\"},{\"hovertemplate\":\"pathology=Cardiomegaly<br>symptoms=%{x}<br>p-value=%{y}<extra></extra>\",\"legendgroup\":\"Cardiomegaly\",\"line\":{\"color\":\"#EF553B\",\"dash\":\"solid\"},\"marker\":{\"symbol\":\"circle\"},\"mode\":\"lines\",\"name\":\"Cardiomegaly\",\"orientation\":\"v\",\"showlegend\":true,\"x\":[0,1,2,3,4,5,6,7,8,9,10,11,12,13,14,15,16,17,18,19,20],\"xaxis\":\"x\",\"y\":[0.0002068055666193511,0.0002068055666193511,0.00010335642002768706,0.0005590274151254963,7.240350773975335e-05,0.0004037859747688588,0.0002068055666193511,7.538616420598468e-06,0.0001466474906610531,0.00010335642002768706,7.240350773975335e-05,0.00028986178202855973,0.0002068055666193511,0.0002068055666193511,0.0004037859747688588,0.0004037859747688588,0.0004037859747688588,0.0014292374753037834,0.0005590274151254963,0.000769177087029423,0.0005590274151254963],\"yaxis\":\"y\",\"type\":\"scatter\"},{\"hovertemplate\":\"pathology=Consolidation<br>symptoms=%{x}<br>p-value=%{y}<extra></extra>\",\"legendgroup\":\"Consolidation\",\"line\":{\"color\":\"#00cc96\",\"dash\":\"solid\"},\"marker\":{\"symbol\":\"circle\"},\"mode\":\"lines\",\"name\":\"Consolidation\",\"orientation\":\"v\",\"showlegend\":true,\"x\":[0,1,2,3,4,5,6,7,8,9,10,11,12,13,14,15,16,17,18,19,20],\"xaxis\":\"x\",\"y\":[0.5121848519408606,0.5121848519408606,0.6978479733792969,0.7970256841713307,0.7970256841713307,0.6978479733792969,0.6023991787201202,0.5121848519408606,0.42850631307223896,0.6978479733792969,0.6023991787201202,0.7970256841713307,0.6978479733792969,0.5121848519408606,0.7970256841713307,1.0,0.9006673321511979,1.0,1.0,0.6234442805531748,1.0],\"yaxis\":\"y\",\"type\":\"scatter\"},{\"hovertemplate\":\"pathology=Edema<br>symptoms=%{x}<br>p-value=%{y}<extra></extra>\",\"legendgroup\":\"Edema\",\"line\":{\"color\":\"#ab63fa\",\"dash\":\"solid\"},\"marker\":{\"symbol\":\"circle\"},\"mode\":\"lines\",\"name\":\"Edema\",\"orientation\":\"v\",\"showlegend\":true,\"x\":[0,1,2,3,4,5,6,7,8,9,10,11,12,13,14,15,16,17,18,19,20],\"xaxis\":\"x\",\"y\":[0.7543059100715945,0.6774299547607601,0.8342038628054289,1.0,0.35663318967067537,0.9163788993531962,0.3071495464249766,0.3071495464249766,1.0,0.5351911271759671,0.6774299547607601,0.4111826057758514,0.4707540434731886,0.5351911271759671,0.4111826057758514,0.1880953110360472,0.3071495464249766,0.6042168750300204,0.3071495464249766,0.4707540434731886,0.22306188149938688],\"yaxis\":\"y\",\"type\":\"scatter\"},{\"hovertemplate\":\"pathology=Enlarged_Cardiomediastinum<br>symptoms=%{x}<br>p-value=%{y}<extra></extra>\",\"legendgroup\":\"Enlarged_Cardiomediastinum\",\"line\":{\"color\":\"#FFA15A\",\"dash\":\"solid\"},\"marker\":{\"symbol\":\"circle\"},\"mode\":\"lines\",\"name\":\"Enlarged_Cardiomediastinum\",\"orientation\":\"v\",\"showlegend\":true,\"x\":[0,1,2,3,4,5,6,7,8,9,10,11,12,13,14,15,16,17,18,19,20],\"xaxis\":\"x\",\"y\":[0.6069747139414092,0.8928459290408108,1.0,1.0,1.0,0.7861342711458205,0.5227967865458438,1.0,0.8957057791477638,0.7944960550699571,0.5818517457957204,0.8928459290408108,1.0,1.0,1.0,1.0,0.7861342711458205,1.0,0.8957057791477638,1.0,0.7944960550699571],\"yaxis\":\"y\",\"type\":\"scatter\"},{\"hovertemplate\":\"pathology=Fracture<br>symptoms=%{x}<br>p-value=%{y}<extra></extra>\",\"legendgroup\":\"Fracture\",\"line\":{\"color\":\"#19d3f3\",\"dash\":\"solid\"},\"marker\":{\"symbol\":\"circle\"},\"mode\":\"lines\",\"name\":\"Fracture\",\"orientation\":\"v\",\"showlegend\":true,\"x\":[0,1,2,3,4,5,6,7,8,9,10,11,12,13,14,15,16,17,18,19,20],\"xaxis\":\"x\",\"y\":[0.26225316776739666,0.1951748495271866,0.06844205370937351,0.04561223217882888,0.014510033720961466,0.005042204804381458,0.0560769688902382,0.04561223217882888,0.04561223217882888,0.03682752567412684,0.018527038312812796,0.06844205370937351,0.011275142506479402,0.02951327892287068,0.02951327892287068,0.002830218762395981,0.014510033720961466,0.02951327892287068,0.011275142506479402,0.023473371695548285,0.006647207780808349],\"yaxis\":\"y\",\"type\":\"scatter\"},{\"hovertemplate\":\"pathology=Lung_Lesion<br>symptoms=%{x}<br>p-value=%{y}<extra></extra>\",\"legendgroup\":\"Lung_Lesion\",\"line\":{\"color\":\"#FF6692\",\"dash\":\"solid\"},\"marker\":{\"symbol\":\"circle\"},\"mode\":\"lines\",\"name\":\"Lung_Lesion\",\"orientation\":\"v\",\"showlegend\":true,\"x\":[0,1,2,3,4,5,6,7,8,9,10,11,12,13,14,15,16,17,18,19,20],\"xaxis\":\"x\",\"y\":[0.3384158375187772,0.3384158375187772,0.3384158375187772,0.3384158375187772,0.3384158375187772,0.5424874477826329,0.3384158375187772,0.17887794543553337,0.3384158375187772,0.17887794543553337,0.3384158375187772,0.3384158375187772,0.3384158375187772,0.3384158375187772,0.17887794543553337,0.17887794543553337,0.17887794543553337,0.17887794543553337,0.17887794543553337,0.17887794543553337,0.17887794543553337],\"yaxis\":\"y\",\"type\":\"scatter\"},{\"hovertemplate\":\"pathology=Lung_Opacity<br>symptoms=%{x}<br>p-value=%{y}<extra></extra>\",\"legendgroup\":\"Lung_Opacity\",\"line\":{\"color\":\"#B6E880\",\"dash\":\"solid\"},\"marker\":{\"symbol\":\"circle\"},\"mode\":\"lines\",\"name\":\"Lung_Opacity\",\"orientation\":\"v\",\"showlegend\":true,\"x\":[0,1,2,3,4,5,6,7,8,9,10,11,12,13,14,15,16,17,18,19,20],\"xaxis\":\"x\",\"y\":[0.26041251942545784,0.22188778180295324,0.35012413690200694,0.45641848614284763,0.7818919178382265,1.0,0.5778122267078258,0.5153714260547926,0.5778122267078258,0.35012413690200694,0.22188778180295324,0.22188778180295324,0.18749581280816824,0.35012413690200694,0.18749581280816824,0.18749581280816824,0.22188778180295324,0.45641848614284763,0.7115546291980412,0.6433574626210528,0.26041251942545784],\"yaxis\":\"y\",\"type\":\"scatter\"},{\"hovertemplate\":\"pathology=No_Finding<br>symptoms=%{x}<br>p-value=%{y}<extra></extra>\",\"legendgroup\":\"No_Finding\",\"line\":{\"color\":\"#FF97FF\",\"dash\":\"solid\"},\"marker\":{\"symbol\":\"circle\"},\"mode\":\"lines\",\"name\":\"No_Finding\",\"orientation\":\"v\",\"showlegend\":true,\"x\":[0,1,2,3,4,5,6,7,8,9,10,11,12,13,14,15,16,17,18,19,20],\"xaxis\":\"x\",\"y\":[0.8017510624031617,0.7080657149708963,1.0,1.0,0.8970339978616809,0.8970339978616809,0.5065282816213246,0.6941247433071769,1.0,0.7944960550699571,0.8970339978616809,0.8970339978616809,0.8995107145125869,1.0,0.5065282816213246,0.8970339978616809,1.0,1.0,1.0,0.7944960550699571,0.8995107145125869],\"yaxis\":\"y\",\"type\":\"scatter\"},{\"hovertemplate\":\"pathology=Pleural_Effusion<br>symptoms=%{x}<br>p-value=%{y}<extra></extra>\",\"legendgroup\":\"Pleural_Effusion\",\"line\":{\"color\":\"#FECB52\",\"dash\":\"solid\"},\"marker\":{\"symbol\":\"circle\"},\"mode\":\"lines\",\"name\":\"Pleural_Effusion\",\"orientation\":\"v\",\"showlegend\":true,\"x\":[0,1,2,3,4,5,6,7,8,9,10,11,12,13,14,15,16,17,18,19,20],\"xaxis\":\"x\",\"y\":[0.23278759151061887,0.4941612884344566,0.20127970635569709,0.4420172936750234,0.3060099260050878,0.4941612884344566,0.3478590074568767,0.3478590074568767,0.4941612884344566,0.3478590074568767,0.14784828342717157,0.26766807945702126,0.3932130523442118,0.4420172936750234,0.3932130523442118,0.6686655654589231,0.3478590074568767,0.3932130523442118,0.4420172936750234,0.4420172936750234,0.6686655654589231],\"yaxis\":\"y\",\"type\":\"scatter\"},{\"hovertemplate\":\"pathology=Pleural_Other<br>symptoms=%{x}<br>p-value=%{y}<extra></extra>\",\"legendgroup\":\"Pleural_Other\",\"line\":{\"color\":\"#636efa\",\"dash\":\"solid\"},\"marker\":{\"symbol\":\"circle\"},\"mode\":\"lines\",\"name\":\"Pleural_Other\",\"orientation\":\"v\",\"showlegend\":true,\"x\":[0,1,2,3,4,5,6,7,8,9,10,11,12,13,14,15,16,17,18,19,20],\"xaxis\":\"x\",\"y\":[0.5424874477826329,0.26162704711596163,0.7496506747296279,1.0,1.0,1.0,1.0,1.0,1.0,1.0,1.0,1.0,0.7496506747296279,0.7496506747296279,1.0,0.5424874477826329,0.5424874477826329,1.0,0.7496506747296279,1.0,1.0],\"yaxis\":\"y\",\"type\":\"scatter\"},{\"hovertemplate\":\"pathology=Pneumonia<br>symptoms=%{x}<br>p-value=%{y}<extra></extra>\",\"legendgroup\":\"Pneumonia\",\"line\":{\"color\":\"#EF553B\",\"dash\":\"solid\"},\"marker\":{\"symbol\":\"circle\"},\"mode\":\"lines\",\"name\":\"Pneumonia\",\"orientation\":\"v\",\"showlegend\":true,\"x\":[0,1,2,3,4,5,6,7,8,9,10,11,12,13,14,15,16,17,18,19,20],\"xaxis\":\"x\",\"y\":[0.47087745537723313,0.40261501530698107,0.3412256194202649,0.7141830654338163,0.54585175735474,0.40261501530698107,1.0,0.9017742409266376,1.0,0.8995107145125869,1.0,1.0,1.0,0.6271579276940551,0.9017742409266376,0.6271579276940551,0.54585175735474,0.6271579276940551,0.2866748691367318,0.47087745537723313,0.7141830654338163],\"yaxis\":\"y\",\"type\":\"scatter\"},{\"hovertemplate\":\"pathology=Pneumothorax<br>symptoms=%{x}<br>p-value=%{y}<extra></extra>\",\"legendgroup\":\"Pneumothorax\",\"line\":{\"color\":\"#00cc96\",\"dash\":\"solid\"},\"marker\":{\"symbol\":\"circle\"},\"mode\":\"lines\",\"name\":\"Pneumothorax\",\"orientation\":\"v\",\"showlegend\":true,\"x\":[0,1,2,3,4,5,6,7,8,9,10,11,12,13,14,15,16,17,18,19,20],\"xaxis\":\"x\",\"y\":[0.2601080468609914,0.4899497447411588,0.2989474782996441,0.4899497447411588,0.8639993414090937,0.7306657625069061,0.38744742704066193,0.7306657625069061,0.8635188376122209,0.7973423603277308,0.8635188376122209,0.7306657625069061,1.0,0.7973423603277308,0.7963987422747865,0.7963987422747865,1.0,0.9315504486409726,0.6689923869502313,0.9317123781452246,0.7963987422747865],\"yaxis\":\"y\",\"type\":\"scatter\"},{\"hovertemplate\":\"pathology=Support_Devices<br>symptoms=%{x}<br>p-value=%{y}<extra></extra>\",\"legendgroup\":\"Support_Devices\",\"line\":{\"color\":\"#ab63fa\",\"dash\":\"solid\"},\"marker\":{\"symbol\":\"circle\"},\"mode\":\"lines\",\"name\":\"Support_Devices\",\"orientation\":\"v\",\"showlegend\":true,\"x\":[0,1,2,3,4,5,6,7,8,9,10,11,12,13,14,15,16,17,18,19,20],\"xaxis\":\"x\",\"y\":[0.13165909201285192,0.15543816555807624,0.052376479581867544,0.042762484888438534,0.01413617104447881,0.03469803307047358,0.00675237531502665,0.00675237531502665,0.008692125782473113,0.00675237531502665,0.00130115475198489,0.01413617104447881,0.011119451994681711,0.027980601964479285,0.027980601964479285,0.027980601964479285,0.017859713507456982,0.03469803307047358,0.017859713507456982,0.02242409772182727,0.01413617104447881],\"yaxis\":\"y\",\"type\":\"scatter\"}],                        {\"template\":{\"data\":{\"histogram2dcontour\":[{\"type\":\"histogram2dcontour\",\"colorbar\":{\"outlinewidth\":0,\"ticks\":\"\"},\"colorscale\":[[0.0,\"#0d0887\"],[0.1111111111111111,\"#46039f\"],[0.2222222222222222,\"#7201a8\"],[0.3333333333333333,\"#9c179e\"],[0.4444444444444444,\"#bd3786\"],[0.5555555555555556,\"#d8576b\"],[0.6666666666666666,\"#ed7953\"],[0.7777777777777778,\"#fb9f3a\"],[0.8888888888888888,\"#fdca26\"],[1.0,\"#f0f921\"]]}],\"choropleth\":[{\"type\":\"choropleth\",\"colorbar\":{\"outlinewidth\":0,\"ticks\":\"\"}}],\"histogram2d\":[{\"type\":\"histogram2d\",\"colorbar\":{\"outlinewidth\":0,\"ticks\":\"\"},\"colorscale\":[[0.0,\"#0d0887\"],[0.1111111111111111,\"#46039f\"],[0.2222222222222222,\"#7201a8\"],[0.3333333333333333,\"#9c179e\"],[0.4444444444444444,\"#bd3786\"],[0.5555555555555556,\"#d8576b\"],[0.6666666666666666,\"#ed7953\"],[0.7777777777777778,\"#fb9f3a\"],[0.8888888888888888,\"#fdca26\"],[1.0,\"#f0f921\"]]}],\"heatmap\":[{\"type\":\"heatmap\",\"colorbar\":{\"outlinewidth\":0,\"ticks\":\"\"},\"colorscale\":[[0.0,\"#0d0887\"],[0.1111111111111111,\"#46039f\"],[0.2222222222222222,\"#7201a8\"],[0.3333333333333333,\"#9c179e\"],[0.4444444444444444,\"#bd3786\"],[0.5555555555555556,\"#d8576b\"],[0.6666666666666666,\"#ed7953\"],[0.7777777777777778,\"#fb9f3a\"],[0.8888888888888888,\"#fdca26\"],[1.0,\"#f0f921\"]]}],\"heatmapgl\":[{\"type\":\"heatmapgl\",\"colorbar\":{\"outlinewidth\":0,\"ticks\":\"\"},\"colorscale\":[[0.0,\"#0d0887\"],[0.1111111111111111,\"#46039f\"],[0.2222222222222222,\"#7201a8\"],[0.3333333333333333,\"#9c179e\"],[0.4444444444444444,\"#bd3786\"],[0.5555555555555556,\"#d8576b\"],[0.6666666666666666,\"#ed7953\"],[0.7777777777777778,\"#fb9f3a\"],[0.8888888888888888,\"#fdca26\"],[1.0,\"#f0f921\"]]}],\"contourcarpet\":[{\"type\":\"contourcarpet\",\"colorbar\":{\"outlinewidth\":0,\"ticks\":\"\"}}],\"contour\":[{\"type\":\"contour\",\"colorbar\":{\"outlinewidth\":0,\"ticks\":\"\"},\"colorscale\":[[0.0,\"#0d0887\"],[0.1111111111111111,\"#46039f\"],[0.2222222222222222,\"#7201a8\"],[0.3333333333333333,\"#9c179e\"],[0.4444444444444444,\"#bd3786\"],[0.5555555555555556,\"#d8576b\"],[0.6666666666666666,\"#ed7953\"],[0.7777777777777778,\"#fb9f3a\"],[0.8888888888888888,\"#fdca26\"],[1.0,\"#f0f921\"]]}],\"surface\":[{\"type\":\"surface\",\"colorbar\":{\"outlinewidth\":0,\"ticks\":\"\"},\"colorscale\":[[0.0,\"#0d0887\"],[0.1111111111111111,\"#46039f\"],[0.2222222222222222,\"#7201a8\"],[0.3333333333333333,\"#9c179e\"],[0.4444444444444444,\"#bd3786\"],[0.5555555555555556,\"#d8576b\"],[0.6666666666666666,\"#ed7953\"],[0.7777777777777778,\"#fb9f3a\"],[0.8888888888888888,\"#fdca26\"],[1.0,\"#f0f921\"]]}],\"mesh3d\":[{\"type\":\"mesh3d\",\"colorbar\":{\"outlinewidth\":0,\"ticks\":\"\"}}],\"scatter\":[{\"marker\":{\"line\":{\"color\":\"#283442\"}},\"type\":\"scatter\"}],\"parcoords\":[{\"type\":\"parcoords\",\"line\":{\"colorbar\":{\"outlinewidth\":0,\"ticks\":\"\"}}}],\"scatterpolargl\":[{\"type\":\"scatterpolargl\",\"marker\":{\"colorbar\":{\"outlinewidth\":0,\"ticks\":\"\"}}}],\"bar\":[{\"error_x\":{\"color\":\"#f2f5fa\"},\"error_y\":{\"color\":\"#f2f5fa\"},\"marker\":{\"line\":{\"color\":\"rgb(17,17,17)\",\"width\":0.5},\"pattern\":{\"fillmode\":\"overlay\",\"size\":10,\"solidity\":0.2}},\"type\":\"bar\"}],\"scattergeo\":[{\"type\":\"scattergeo\",\"marker\":{\"colorbar\":{\"outlinewidth\":0,\"ticks\":\"\"}}}],\"scatterpolar\":[{\"type\":\"scatterpolar\",\"marker\":{\"colorbar\":{\"outlinewidth\":0,\"ticks\":\"\"}}}],\"histogram\":[{\"marker\":{\"pattern\":{\"fillmode\":\"overlay\",\"size\":10,\"solidity\":0.2}},\"type\":\"histogram\"}],\"scattergl\":[{\"marker\":{\"line\":{\"color\":\"#283442\"}},\"type\":\"scattergl\"}],\"scatter3d\":[{\"type\":\"scatter3d\",\"line\":{\"colorbar\":{\"outlinewidth\":0,\"ticks\":\"\"}},\"marker\":{\"colorbar\":{\"outlinewidth\":0,\"ticks\":\"\"}}}],\"scattermapbox\":[{\"type\":\"scattermapbox\",\"marker\":{\"colorbar\":{\"outlinewidth\":0,\"ticks\":\"\"}}}],\"scatterternary\":[{\"type\":\"scatterternary\",\"marker\":{\"colorbar\":{\"outlinewidth\":0,\"ticks\":\"\"}}}],\"scattercarpet\":[{\"type\":\"scattercarpet\",\"marker\":{\"colorbar\":{\"outlinewidth\":0,\"ticks\":\"\"}}}],\"carpet\":[{\"aaxis\":{\"endlinecolor\":\"#A2B1C6\",\"gridcolor\":\"#506784\",\"linecolor\":\"#506784\",\"minorgridcolor\":\"#506784\",\"startlinecolor\":\"#A2B1C6\"},\"baxis\":{\"endlinecolor\":\"#A2B1C6\",\"gridcolor\":\"#506784\",\"linecolor\":\"#506784\",\"minorgridcolor\":\"#506784\",\"startlinecolor\":\"#A2B1C6\"},\"type\":\"carpet\"}],\"table\":[{\"cells\":{\"fill\":{\"color\":\"#506784\"},\"line\":{\"color\":\"rgb(17,17,17)\"}},\"header\":{\"fill\":{\"color\":\"#2a3f5f\"},\"line\":{\"color\":\"rgb(17,17,17)\"}},\"type\":\"table\"}],\"barpolar\":[{\"marker\":{\"line\":{\"color\":\"rgb(17,17,17)\",\"width\":0.5},\"pattern\":{\"fillmode\":\"overlay\",\"size\":10,\"solidity\":0.2}},\"type\":\"barpolar\"}],\"pie\":[{\"automargin\":true,\"type\":\"pie\"}]},\"layout\":{\"autotypenumbers\":\"strict\",\"colorway\":[\"#636efa\",\"#EF553B\",\"#00cc96\",\"#ab63fa\",\"#FFA15A\",\"#19d3f3\",\"#FF6692\",\"#B6E880\",\"#FF97FF\",\"#FECB52\"],\"font\":{\"color\":\"#f2f5fa\"},\"hovermode\":\"closest\",\"hoverlabel\":{\"align\":\"left\"},\"paper_bgcolor\":\"rgb(17,17,17)\",\"plot_bgcolor\":\"rgb(17,17,17)\",\"polar\":{\"bgcolor\":\"rgb(17,17,17)\",\"angularaxis\":{\"gridcolor\":\"#506784\",\"linecolor\":\"#506784\",\"ticks\":\"\"},\"radialaxis\":{\"gridcolor\":\"#506784\",\"linecolor\":\"#506784\",\"ticks\":\"\"}},\"ternary\":{\"bgcolor\":\"rgb(17,17,17)\",\"aaxis\":{\"gridcolor\":\"#506784\",\"linecolor\":\"#506784\",\"ticks\":\"\"},\"baxis\":{\"gridcolor\":\"#506784\",\"linecolor\":\"#506784\",\"ticks\":\"\"},\"caxis\":{\"gridcolor\":\"#506784\",\"linecolor\":\"#506784\",\"ticks\":\"\"}},\"coloraxis\":{\"colorbar\":{\"outlinewidth\":0,\"ticks\":\"\"}},\"colorscale\":{\"sequential\":[[0.0,\"#0d0887\"],[0.1111111111111111,\"#46039f\"],[0.2222222222222222,\"#7201a8\"],[0.3333333333333333,\"#9c179e\"],[0.4444444444444444,\"#bd3786\"],[0.5555555555555556,\"#d8576b\"],[0.6666666666666666,\"#ed7953\"],[0.7777777777777778,\"#fb9f3a\"],[0.8888888888888888,\"#fdca26\"],[1.0,\"#f0f921\"]],\"sequentialminus\":[[0.0,\"#0d0887\"],[0.1111111111111111,\"#46039f\"],[0.2222222222222222,\"#7201a8\"],[0.3333333333333333,\"#9c179e\"],[0.4444444444444444,\"#bd3786\"],[0.5555555555555556,\"#d8576b\"],[0.6666666666666666,\"#ed7953\"],[0.7777777777777778,\"#fb9f3a\"],[0.8888888888888888,\"#fdca26\"],[1.0,\"#f0f921\"]],\"diverging\":[[0,\"#8e0152\"],[0.1,\"#c51b7d\"],[0.2,\"#de77ae\"],[0.3,\"#f1b6da\"],[0.4,\"#fde0ef\"],[0.5,\"#f7f7f7\"],[0.6,\"#e6f5d0\"],[0.7,\"#b8e186\"],[0.8,\"#7fbc41\"],[0.9,\"#4d9221\"],[1,\"#276419\"]]},\"xaxis\":{\"gridcolor\":\"#283442\",\"linecolor\":\"#506784\",\"ticks\":\"\",\"title\":{\"standoff\":15},\"zerolinecolor\":\"#283442\",\"automargin\":true,\"zerolinewidth\":2},\"yaxis\":{\"gridcolor\":\"#283442\",\"linecolor\":\"#506784\",\"ticks\":\"\",\"title\":{\"standoff\":15},\"zerolinecolor\":\"#283442\",\"automargin\":true,\"zerolinewidth\":2},\"scene\":{\"xaxis\":{\"backgroundcolor\":\"rgb(17,17,17)\",\"gridcolor\":\"#506784\",\"linecolor\":\"#506784\",\"showbackground\":true,\"ticks\":\"\",\"zerolinecolor\":\"#C8D4E3\",\"gridwidth\":2},\"yaxis\":{\"backgroundcolor\":\"rgb(17,17,17)\",\"gridcolor\":\"#506784\",\"linecolor\":\"#506784\",\"showbackground\":true,\"ticks\":\"\",\"zerolinecolor\":\"#C8D4E3\",\"gridwidth\":2},\"zaxis\":{\"backgroundcolor\":\"rgb(17,17,17)\",\"gridcolor\":\"#506784\",\"linecolor\":\"#506784\",\"showbackground\":true,\"ticks\":\"\",\"zerolinecolor\":\"#C8D4E3\",\"gridwidth\":2}},\"shapedefaults\":{\"line\":{\"color\":\"#f2f5fa\"}},\"annotationdefaults\":{\"arrowcolor\":\"#f2f5fa\",\"arrowhead\":0,\"arrowwidth\":1},\"geo\":{\"bgcolor\":\"rgb(17,17,17)\",\"landcolor\":\"rgb(17,17,17)\",\"subunitcolor\":\"#506784\",\"showland\":true,\"showlakes\":true,\"lakecolor\":\"rgb(17,17,17)\"},\"title\":{\"x\":0.05},\"updatemenudefaults\":{\"bgcolor\":\"#506784\",\"borderwidth\":0},\"sliderdefaults\":{\"bgcolor\":\"#C8D4E3\",\"borderwidth\":1,\"bordercolor\":\"rgb(17,17,17)\",\"tickwidth\":0},\"mapbox\":{\"style\":\"dark\"}}},\"xaxis\":{\"anchor\":\"y\",\"domain\":[0.0,1.0],\"title\":{\"text\":\"symptoms\"}},\"yaxis\":{\"anchor\":\"x\",\"domain\":[0.0,1.0],\"title\":{\"text\":\"p-value\"},\"type\":\"log\"},\"legend\":{\"title\":{\"text\":\"pathology\"},\"tracegroupgap\":0},\"title\":{\"text\":\"Chi2 p_value effect significance\"},\"shapes\":[{\"line\":{\"color\":\"green\",\"dash\":\"dash\",\"width\":2},\"type\":\"line\",\"x0\":0,\"x1\":1,\"xref\":\"x domain\",\"y0\":0.05,\"y1\":0.05,\"yref\":\"y\"}]},                        {\"responsive\": true}                    ).then(function(){\n                            \nvar gd = document.getElementById('e35c937e-114e-4271-8037-db18d485824b');\nvar x = new MutationObserver(function (mutations, observer) {{\n        var display = window.getComputedStyle(gd).display;\n        if (!display || display === 'none') {{\n            console.log([gd, 'removed!']);\n            Plotly.purge(gd);\n            observer.disconnect();\n        }}\n}});\n\n// Listen for the removal of the full notebook cells\nvar notebookContainer = gd.closest('#notebook-container');\nif (notebookContainer) {{\n    x.observe(notebookContainer, {childList: true});\n}}\n\n// Listen for the clearing of the current output cell\nvar outputEl = gd.closest('.output');\nif (outputEl) {{\n    x.observe(outputEl, {childList: true});\n}}\n\n                        })                };                });            </script>        </div>"
     },
     "metadata": {},
     "output_type": "display_data"
    }
   ],
   "source": [
    "fig = px.line(df_plot_p_value, x=df_plot_p_value.index, y=df_plot_p_value.columns, log_y=True,\n",
    "              labels={\"run_id\": \"symptoms\", \"value\": \"p-value\"},\n",
    "              title=\"Chi2 p_value effect significance\")\n",
    "fig.add_hline(y=0.05, line_width=2, line_dash=\"dash\", line_color=\"green\")\n",
    "fig.show()"
   ],
   "metadata": {
    "collapsed": false,
    "ExecuteTime": {
     "end_time": "2024-01-05T20:48:51.787428140Z",
     "start_time": "2024-01-05T20:48:51.736025605Z"
    }
   },
   "id": "bd4a203e754b08b7"
  },
  {
   "cell_type": "code",
   "execution_count": 31,
   "outputs": [
    {
     "data": {
      "application/vnd.plotly.v1+json": {
       "data": [
        {
         "hovertemplate": "pathology=Atelectasis<br>run_id=%{x}<br>value=%{y}<extra></extra>",
         "legendgroup": "Atelectasis",
         "line": {
          "color": "#636efa",
          "dash": "solid"
         },
         "marker": {
          "symbol": "circle"
         },
         "mode": "lines+markers",
         "name": "Atelectasis",
         "orientation": "h",
         "showlegend": true,
         "x": [
          0,
          1,
          2,
          3,
          4,
          5,
          6,
          7,
          8,
          9,
          10,
          11,
          12,
          13,
          14,
          15,
          16,
          17,
          18,
          19,
          20
         ],
         "xaxis": "x",
         "y": [
          false,
          false,
          false,
          false,
          false,
          false,
          false,
          false,
          false,
          false,
          false,
          false,
          false,
          false,
          false,
          false,
          false,
          false,
          false,
          false,
          false
         ],
         "yaxis": "y",
         "type": "scatter"
        },
        {
         "hovertemplate": "pathology=Cardiomegaly<br>run_id=%{x}<br>value=%{y}<extra></extra>",
         "legendgroup": "Cardiomegaly",
         "line": {
          "color": "#EF553B",
          "dash": "solid"
         },
         "marker": {
          "symbol": "circle"
         },
         "mode": "lines+markers",
         "name": "Cardiomegaly",
         "orientation": "h",
         "showlegend": true,
         "x": [
          0,
          1,
          2,
          3,
          4,
          5,
          6,
          7,
          8,
          9,
          10,
          11,
          12,
          13,
          14,
          15,
          16,
          17,
          18,
          19,
          20
         ],
         "xaxis": "x",
         "y": [
          true,
          true,
          true,
          true,
          true,
          true,
          true,
          true,
          true,
          true,
          true,
          true,
          true,
          true,
          true,
          true,
          true,
          true,
          true,
          true,
          true
         ],
         "yaxis": "y",
         "type": "scatter"
        },
        {
         "hovertemplate": "pathology=Consolidation<br>run_id=%{x}<br>value=%{y}<extra></extra>",
         "legendgroup": "Consolidation",
         "line": {
          "color": "#00cc96",
          "dash": "solid"
         },
         "marker": {
          "symbol": "circle"
         },
         "mode": "lines+markers",
         "name": "Consolidation",
         "orientation": "h",
         "showlegend": true,
         "x": [
          0,
          1,
          2,
          3,
          4,
          5,
          6,
          7,
          8,
          9,
          10,
          11,
          12,
          13,
          14,
          15,
          16,
          17,
          18,
          19,
          20
         ],
         "xaxis": "x",
         "y": [
          false,
          false,
          false,
          false,
          false,
          false,
          false,
          false,
          false,
          false,
          false,
          false,
          false,
          false,
          false,
          false,
          false,
          false,
          false,
          false,
          false
         ],
         "yaxis": "y",
         "type": "scatter"
        },
        {
         "hovertemplate": "pathology=Edema<br>run_id=%{x}<br>value=%{y}<extra></extra>",
         "legendgroup": "Edema",
         "line": {
          "color": "#ab63fa",
          "dash": "solid"
         },
         "marker": {
          "symbol": "circle"
         },
         "mode": "lines+markers",
         "name": "Edema",
         "orientation": "h",
         "showlegend": true,
         "x": [
          0,
          1,
          2,
          3,
          4,
          5,
          6,
          7,
          8,
          9,
          10,
          11,
          12,
          13,
          14,
          15,
          16,
          17,
          18,
          19,
          20
         ],
         "xaxis": "x",
         "y": [
          false,
          false,
          false,
          false,
          false,
          false,
          false,
          false,
          false,
          false,
          false,
          false,
          false,
          false,
          false,
          false,
          false,
          false,
          false,
          false,
          false
         ],
         "yaxis": "y",
         "type": "scatter"
        },
        {
         "hovertemplate": "pathology=Enlarged_Cardiomediastinum<br>run_id=%{x}<br>value=%{y}<extra></extra>",
         "legendgroup": "Enlarged_Cardiomediastinum",
         "line": {
          "color": "#FFA15A",
          "dash": "solid"
         },
         "marker": {
          "symbol": "circle"
         },
         "mode": "lines+markers",
         "name": "Enlarged_Cardiomediastinum",
         "orientation": "h",
         "showlegend": true,
         "x": [
          0,
          1,
          2,
          3,
          4,
          5,
          6,
          7,
          8,
          9,
          10,
          11,
          12,
          13,
          14,
          15,
          16,
          17,
          18,
          19,
          20
         ],
         "xaxis": "x",
         "y": [
          false,
          false,
          false,
          false,
          false,
          false,
          false,
          false,
          false,
          false,
          false,
          false,
          false,
          false,
          false,
          false,
          false,
          false,
          false,
          false,
          false
         ],
         "yaxis": "y",
         "type": "scatter"
        },
        {
         "hovertemplate": "pathology=Fracture<br>run_id=%{x}<br>value=%{y}<extra></extra>",
         "legendgroup": "Fracture",
         "line": {
          "color": "#19d3f3",
          "dash": "solid"
         },
         "marker": {
          "symbol": "circle"
         },
         "mode": "lines+markers",
         "name": "Fracture",
         "orientation": "h",
         "showlegend": true,
         "x": [
          0,
          1,
          2,
          3,
          4,
          5,
          6,
          7,
          8,
          9,
          10,
          11,
          12,
          13,
          14,
          15,
          16,
          17,
          18,
          19,
          20
         ],
         "xaxis": "x",
         "y": [
          false,
          false,
          false,
          true,
          true,
          true,
          false,
          true,
          true,
          true,
          true,
          false,
          true,
          true,
          true,
          true,
          true,
          true,
          true,
          true,
          true
         ],
         "yaxis": "y",
         "type": "scatter"
        },
        {
         "hovertemplate": "pathology=Lung_Lesion<br>run_id=%{x}<br>value=%{y}<extra></extra>",
         "legendgroup": "Lung_Lesion",
         "line": {
          "color": "#FF6692",
          "dash": "solid"
         },
         "marker": {
          "symbol": "circle"
         },
         "mode": "lines+markers",
         "name": "Lung_Lesion",
         "orientation": "h",
         "showlegend": true,
         "x": [
          0,
          1,
          2,
          3,
          4,
          5,
          6,
          7,
          8,
          9,
          10,
          11,
          12,
          13,
          14,
          15,
          16,
          17,
          18,
          19,
          20
         ],
         "xaxis": "x",
         "y": [
          false,
          false,
          false,
          false,
          false,
          false,
          false,
          false,
          false,
          false,
          false,
          false,
          false,
          false,
          false,
          false,
          false,
          false,
          false,
          false,
          false
         ],
         "yaxis": "y",
         "type": "scatter"
        },
        {
         "hovertemplate": "pathology=Lung_Opacity<br>run_id=%{x}<br>value=%{y}<extra></extra>",
         "legendgroup": "Lung_Opacity",
         "line": {
          "color": "#B6E880",
          "dash": "solid"
         },
         "marker": {
          "symbol": "circle"
         },
         "mode": "lines+markers",
         "name": "Lung_Opacity",
         "orientation": "h",
         "showlegend": true,
         "x": [
          0,
          1,
          2,
          3,
          4,
          5,
          6,
          7,
          8,
          9,
          10,
          11,
          12,
          13,
          14,
          15,
          16,
          17,
          18,
          19,
          20
         ],
         "xaxis": "x",
         "y": [
          false,
          false,
          false,
          false,
          false,
          false,
          false,
          false,
          false,
          false,
          false,
          false,
          false,
          false,
          false,
          false,
          false,
          false,
          false,
          false,
          false
         ],
         "yaxis": "y",
         "type": "scatter"
        },
        {
         "hovertemplate": "pathology=No_Finding<br>run_id=%{x}<br>value=%{y}<extra></extra>",
         "legendgroup": "No_Finding",
         "line": {
          "color": "#FF97FF",
          "dash": "solid"
         },
         "marker": {
          "symbol": "circle"
         },
         "mode": "lines+markers",
         "name": "No_Finding",
         "orientation": "h",
         "showlegend": true,
         "x": [
          0,
          1,
          2,
          3,
          4,
          5,
          6,
          7,
          8,
          9,
          10,
          11,
          12,
          13,
          14,
          15,
          16,
          17,
          18,
          19,
          20
         ],
         "xaxis": "x",
         "y": [
          false,
          false,
          false,
          false,
          false,
          false,
          false,
          false,
          false,
          false,
          false,
          false,
          false,
          false,
          false,
          false,
          false,
          false,
          false,
          false,
          false
         ],
         "yaxis": "y",
         "type": "scatter"
        },
        {
         "hovertemplate": "pathology=Pleural_Effusion<br>run_id=%{x}<br>value=%{y}<extra></extra>",
         "legendgroup": "Pleural_Effusion",
         "line": {
          "color": "#FECB52",
          "dash": "solid"
         },
         "marker": {
          "symbol": "circle"
         },
         "mode": "lines+markers",
         "name": "Pleural_Effusion",
         "orientation": "h",
         "showlegend": true,
         "x": [
          0,
          1,
          2,
          3,
          4,
          5,
          6,
          7,
          8,
          9,
          10,
          11,
          12,
          13,
          14,
          15,
          16,
          17,
          18,
          19,
          20
         ],
         "xaxis": "x",
         "y": [
          false,
          false,
          false,
          false,
          false,
          false,
          false,
          false,
          false,
          false,
          false,
          false,
          false,
          false,
          false,
          false,
          false,
          false,
          false,
          false,
          false
         ],
         "yaxis": "y",
         "type": "scatter"
        },
        {
         "hovertemplate": "pathology=Pleural_Other<br>run_id=%{x}<br>value=%{y}<extra></extra>",
         "legendgroup": "Pleural_Other",
         "line": {
          "color": "#636efa",
          "dash": "solid"
         },
         "marker": {
          "symbol": "circle"
         },
         "mode": "lines+markers",
         "name": "Pleural_Other",
         "orientation": "h",
         "showlegend": true,
         "x": [
          0,
          1,
          2,
          3,
          4,
          5,
          6,
          7,
          8,
          9,
          10,
          11,
          12,
          13,
          14,
          15,
          16,
          17,
          18,
          19,
          20
         ],
         "xaxis": "x",
         "y": [
          false,
          false,
          false,
          false,
          false,
          false,
          false,
          false,
          false,
          false,
          false,
          false,
          false,
          false,
          false,
          false,
          false,
          false,
          false,
          false,
          false
         ],
         "yaxis": "y",
         "type": "scatter"
        },
        {
         "hovertemplate": "pathology=Pneumonia<br>run_id=%{x}<br>value=%{y}<extra></extra>",
         "legendgroup": "Pneumonia",
         "line": {
          "color": "#EF553B",
          "dash": "solid"
         },
         "marker": {
          "symbol": "circle"
         },
         "mode": "lines+markers",
         "name": "Pneumonia",
         "orientation": "h",
         "showlegend": true,
         "x": [
          0,
          1,
          2,
          3,
          4,
          5,
          6,
          7,
          8,
          9,
          10,
          11,
          12,
          13,
          14,
          15,
          16,
          17,
          18,
          19,
          20
         ],
         "xaxis": "x",
         "y": [
          false,
          false,
          false,
          false,
          false,
          false,
          false,
          false,
          false,
          false,
          false,
          false,
          false,
          false,
          false,
          false,
          false,
          false,
          false,
          false,
          false
         ],
         "yaxis": "y",
         "type": "scatter"
        },
        {
         "hovertemplate": "pathology=Pneumothorax<br>run_id=%{x}<br>value=%{y}<extra></extra>",
         "legendgroup": "Pneumothorax",
         "line": {
          "color": "#00cc96",
          "dash": "solid"
         },
         "marker": {
          "symbol": "circle"
         },
         "mode": "lines+markers",
         "name": "Pneumothorax",
         "orientation": "h",
         "showlegend": true,
         "x": [
          0,
          1,
          2,
          3,
          4,
          5,
          6,
          7,
          8,
          9,
          10,
          11,
          12,
          13,
          14,
          15,
          16,
          17,
          18,
          19,
          20
         ],
         "xaxis": "x",
         "y": [
          false,
          false,
          false,
          false,
          false,
          false,
          false,
          false,
          false,
          false,
          false,
          false,
          false,
          false,
          false,
          false,
          false,
          false,
          false,
          false,
          false
         ],
         "yaxis": "y",
         "type": "scatter"
        },
        {
         "hovertemplate": "pathology=Support_Devices<br>run_id=%{x}<br>value=%{y}<extra></extra>",
         "legendgroup": "Support_Devices",
         "line": {
          "color": "#ab63fa",
          "dash": "solid"
         },
         "marker": {
          "symbol": "circle"
         },
         "mode": "lines+markers",
         "name": "Support_Devices",
         "orientation": "h",
         "showlegend": true,
         "x": [
          0,
          1,
          2,
          3,
          4,
          5,
          6,
          7,
          8,
          9,
          10,
          11,
          12,
          13,
          14,
          15,
          16,
          17,
          18,
          19,
          20
         ],
         "xaxis": "x",
         "y": [
          false,
          false,
          false,
          true,
          true,
          true,
          true,
          true,
          true,
          true,
          true,
          true,
          true,
          true,
          true,
          true,
          true,
          true,
          true,
          true,
          true
         ],
         "yaxis": "y",
         "type": "scatter"
        }
       ],
       "layout": {
        "template": {
         "data": {
          "histogram2dcontour": [
           {
            "type": "histogram2dcontour",
            "colorbar": {
             "outlinewidth": 0,
             "ticks": ""
            },
            "colorscale": [
             [
              0.0,
              "#0d0887"
             ],
             [
              0.1111111111111111,
              "#46039f"
             ],
             [
              0.2222222222222222,
              "#7201a8"
             ],
             [
              0.3333333333333333,
              "#9c179e"
             ],
             [
              0.4444444444444444,
              "#bd3786"
             ],
             [
              0.5555555555555556,
              "#d8576b"
             ],
             [
              0.6666666666666666,
              "#ed7953"
             ],
             [
              0.7777777777777778,
              "#fb9f3a"
             ],
             [
              0.8888888888888888,
              "#fdca26"
             ],
             [
              1.0,
              "#f0f921"
             ]
            ]
           }
          ],
          "choropleth": [
           {
            "type": "choropleth",
            "colorbar": {
             "outlinewidth": 0,
             "ticks": ""
            }
           }
          ],
          "histogram2d": [
           {
            "type": "histogram2d",
            "colorbar": {
             "outlinewidth": 0,
             "ticks": ""
            },
            "colorscale": [
             [
              0.0,
              "#0d0887"
             ],
             [
              0.1111111111111111,
              "#46039f"
             ],
             [
              0.2222222222222222,
              "#7201a8"
             ],
             [
              0.3333333333333333,
              "#9c179e"
             ],
             [
              0.4444444444444444,
              "#bd3786"
             ],
             [
              0.5555555555555556,
              "#d8576b"
             ],
             [
              0.6666666666666666,
              "#ed7953"
             ],
             [
              0.7777777777777778,
              "#fb9f3a"
             ],
             [
              0.8888888888888888,
              "#fdca26"
             ],
             [
              1.0,
              "#f0f921"
             ]
            ]
           }
          ],
          "heatmap": [
           {
            "type": "heatmap",
            "colorbar": {
             "outlinewidth": 0,
             "ticks": ""
            },
            "colorscale": [
             [
              0.0,
              "#0d0887"
             ],
             [
              0.1111111111111111,
              "#46039f"
             ],
             [
              0.2222222222222222,
              "#7201a8"
             ],
             [
              0.3333333333333333,
              "#9c179e"
             ],
             [
              0.4444444444444444,
              "#bd3786"
             ],
             [
              0.5555555555555556,
              "#d8576b"
             ],
             [
              0.6666666666666666,
              "#ed7953"
             ],
             [
              0.7777777777777778,
              "#fb9f3a"
             ],
             [
              0.8888888888888888,
              "#fdca26"
             ],
             [
              1.0,
              "#f0f921"
             ]
            ]
           }
          ],
          "heatmapgl": [
           {
            "type": "heatmapgl",
            "colorbar": {
             "outlinewidth": 0,
             "ticks": ""
            },
            "colorscale": [
             [
              0.0,
              "#0d0887"
             ],
             [
              0.1111111111111111,
              "#46039f"
             ],
             [
              0.2222222222222222,
              "#7201a8"
             ],
             [
              0.3333333333333333,
              "#9c179e"
             ],
             [
              0.4444444444444444,
              "#bd3786"
             ],
             [
              0.5555555555555556,
              "#d8576b"
             ],
             [
              0.6666666666666666,
              "#ed7953"
             ],
             [
              0.7777777777777778,
              "#fb9f3a"
             ],
             [
              0.8888888888888888,
              "#fdca26"
             ],
             [
              1.0,
              "#f0f921"
             ]
            ]
           }
          ],
          "contourcarpet": [
           {
            "type": "contourcarpet",
            "colorbar": {
             "outlinewidth": 0,
             "ticks": ""
            }
           }
          ],
          "contour": [
           {
            "type": "contour",
            "colorbar": {
             "outlinewidth": 0,
             "ticks": ""
            },
            "colorscale": [
             [
              0.0,
              "#0d0887"
             ],
             [
              0.1111111111111111,
              "#46039f"
             ],
             [
              0.2222222222222222,
              "#7201a8"
             ],
             [
              0.3333333333333333,
              "#9c179e"
             ],
             [
              0.4444444444444444,
              "#bd3786"
             ],
             [
              0.5555555555555556,
              "#d8576b"
             ],
             [
              0.6666666666666666,
              "#ed7953"
             ],
             [
              0.7777777777777778,
              "#fb9f3a"
             ],
             [
              0.8888888888888888,
              "#fdca26"
             ],
             [
              1.0,
              "#f0f921"
             ]
            ]
           }
          ],
          "surface": [
           {
            "type": "surface",
            "colorbar": {
             "outlinewidth": 0,
             "ticks": ""
            },
            "colorscale": [
             [
              0.0,
              "#0d0887"
             ],
             [
              0.1111111111111111,
              "#46039f"
             ],
             [
              0.2222222222222222,
              "#7201a8"
             ],
             [
              0.3333333333333333,
              "#9c179e"
             ],
             [
              0.4444444444444444,
              "#bd3786"
             ],
             [
              0.5555555555555556,
              "#d8576b"
             ],
             [
              0.6666666666666666,
              "#ed7953"
             ],
             [
              0.7777777777777778,
              "#fb9f3a"
             ],
             [
              0.8888888888888888,
              "#fdca26"
             ],
             [
              1.0,
              "#f0f921"
             ]
            ]
           }
          ],
          "mesh3d": [
           {
            "type": "mesh3d",
            "colorbar": {
             "outlinewidth": 0,
             "ticks": ""
            }
           }
          ],
          "scatter": [
           {
            "marker": {
             "line": {
              "color": "#283442"
             }
            },
            "type": "scatter"
           }
          ],
          "parcoords": [
           {
            "type": "parcoords",
            "line": {
             "colorbar": {
              "outlinewidth": 0,
              "ticks": ""
             }
            }
           }
          ],
          "scatterpolargl": [
           {
            "type": "scatterpolargl",
            "marker": {
             "colorbar": {
              "outlinewidth": 0,
              "ticks": ""
             }
            }
           }
          ],
          "bar": [
           {
            "error_x": {
             "color": "#f2f5fa"
            },
            "error_y": {
             "color": "#f2f5fa"
            },
            "marker": {
             "line": {
              "color": "rgb(17,17,17)",
              "width": 0.5
             },
             "pattern": {
              "fillmode": "overlay",
              "size": 10,
              "solidity": 0.2
             }
            },
            "type": "bar"
           }
          ],
          "scattergeo": [
           {
            "type": "scattergeo",
            "marker": {
             "colorbar": {
              "outlinewidth": 0,
              "ticks": ""
             }
            }
           }
          ],
          "scatterpolar": [
           {
            "type": "scatterpolar",
            "marker": {
             "colorbar": {
              "outlinewidth": 0,
              "ticks": ""
             }
            }
           }
          ],
          "histogram": [
           {
            "marker": {
             "pattern": {
              "fillmode": "overlay",
              "size": 10,
              "solidity": 0.2
             }
            },
            "type": "histogram"
           }
          ],
          "scattergl": [
           {
            "marker": {
             "line": {
              "color": "#283442"
             }
            },
            "type": "scattergl"
           }
          ],
          "scatter3d": [
           {
            "type": "scatter3d",
            "line": {
             "colorbar": {
              "outlinewidth": 0,
              "ticks": ""
             }
            },
            "marker": {
             "colorbar": {
              "outlinewidth": 0,
              "ticks": ""
             }
            }
           }
          ],
          "scattermapbox": [
           {
            "type": "scattermapbox",
            "marker": {
             "colorbar": {
              "outlinewidth": 0,
              "ticks": ""
             }
            }
           }
          ],
          "scatterternary": [
           {
            "type": "scatterternary",
            "marker": {
             "colorbar": {
              "outlinewidth": 0,
              "ticks": ""
             }
            }
           }
          ],
          "scattercarpet": [
           {
            "type": "scattercarpet",
            "marker": {
             "colorbar": {
              "outlinewidth": 0,
              "ticks": ""
             }
            }
           }
          ],
          "carpet": [
           {
            "aaxis": {
             "endlinecolor": "#A2B1C6",
             "gridcolor": "#506784",
             "linecolor": "#506784",
             "minorgridcolor": "#506784",
             "startlinecolor": "#A2B1C6"
            },
            "baxis": {
             "endlinecolor": "#A2B1C6",
             "gridcolor": "#506784",
             "linecolor": "#506784",
             "minorgridcolor": "#506784",
             "startlinecolor": "#A2B1C6"
            },
            "type": "carpet"
           }
          ],
          "table": [
           {
            "cells": {
             "fill": {
              "color": "#506784"
             },
             "line": {
              "color": "rgb(17,17,17)"
             }
            },
            "header": {
             "fill": {
              "color": "#2a3f5f"
             },
             "line": {
              "color": "rgb(17,17,17)"
             }
            },
            "type": "table"
           }
          ],
          "barpolar": [
           {
            "marker": {
             "line": {
              "color": "rgb(17,17,17)",
              "width": 0.5
             },
             "pattern": {
              "fillmode": "overlay",
              "size": 10,
              "solidity": 0.2
             }
            },
            "type": "barpolar"
           }
          ],
          "pie": [
           {
            "automargin": true,
            "type": "pie"
           }
          ]
         },
         "layout": {
          "autotypenumbers": "strict",
          "colorway": [
           "#636efa",
           "#EF553B",
           "#00cc96",
           "#ab63fa",
           "#FFA15A",
           "#19d3f3",
           "#FF6692",
           "#B6E880",
           "#FF97FF",
           "#FECB52"
          ],
          "font": {
           "color": "#f2f5fa"
          },
          "hovermode": "closest",
          "hoverlabel": {
           "align": "left"
          },
          "paper_bgcolor": "rgb(17,17,17)",
          "plot_bgcolor": "rgb(17,17,17)",
          "polar": {
           "bgcolor": "rgb(17,17,17)",
           "angularaxis": {
            "gridcolor": "#506784",
            "linecolor": "#506784",
            "ticks": ""
           },
           "radialaxis": {
            "gridcolor": "#506784",
            "linecolor": "#506784",
            "ticks": ""
           }
          },
          "ternary": {
           "bgcolor": "rgb(17,17,17)",
           "aaxis": {
            "gridcolor": "#506784",
            "linecolor": "#506784",
            "ticks": ""
           },
           "baxis": {
            "gridcolor": "#506784",
            "linecolor": "#506784",
            "ticks": ""
           },
           "caxis": {
            "gridcolor": "#506784",
            "linecolor": "#506784",
            "ticks": ""
           }
          },
          "coloraxis": {
           "colorbar": {
            "outlinewidth": 0,
            "ticks": ""
           }
          },
          "colorscale": {
           "sequential": [
            [
             0.0,
             "#0d0887"
            ],
            [
             0.1111111111111111,
             "#46039f"
            ],
            [
             0.2222222222222222,
             "#7201a8"
            ],
            [
             0.3333333333333333,
             "#9c179e"
            ],
            [
             0.4444444444444444,
             "#bd3786"
            ],
            [
             0.5555555555555556,
             "#d8576b"
            ],
            [
             0.6666666666666666,
             "#ed7953"
            ],
            [
             0.7777777777777778,
             "#fb9f3a"
            ],
            [
             0.8888888888888888,
             "#fdca26"
            ],
            [
             1.0,
             "#f0f921"
            ]
           ],
           "sequentialminus": [
            [
             0.0,
             "#0d0887"
            ],
            [
             0.1111111111111111,
             "#46039f"
            ],
            [
             0.2222222222222222,
             "#7201a8"
            ],
            [
             0.3333333333333333,
             "#9c179e"
            ],
            [
             0.4444444444444444,
             "#bd3786"
            ],
            [
             0.5555555555555556,
             "#d8576b"
            ],
            [
             0.6666666666666666,
             "#ed7953"
            ],
            [
             0.7777777777777778,
             "#fb9f3a"
            ],
            [
             0.8888888888888888,
             "#fdca26"
            ],
            [
             1.0,
             "#f0f921"
            ]
           ],
           "diverging": [
            [
             0,
             "#8e0152"
            ],
            [
             0.1,
             "#c51b7d"
            ],
            [
             0.2,
             "#de77ae"
            ],
            [
             0.3,
             "#f1b6da"
            ],
            [
             0.4,
             "#fde0ef"
            ],
            [
             0.5,
             "#f7f7f7"
            ],
            [
             0.6,
             "#e6f5d0"
            ],
            [
             0.7,
             "#b8e186"
            ],
            [
             0.8,
             "#7fbc41"
            ],
            [
             0.9,
             "#4d9221"
            ],
            [
             1,
             "#276419"
            ]
           ]
          },
          "xaxis": {
           "gridcolor": "#283442",
           "linecolor": "#506784",
           "ticks": "",
           "title": {
            "standoff": 15
           },
           "zerolinecolor": "#283442",
           "automargin": true,
           "zerolinewidth": 2
          },
          "yaxis": {
           "gridcolor": "#283442",
           "linecolor": "#506784",
           "ticks": "",
           "title": {
            "standoff": 15
           },
           "zerolinecolor": "#283442",
           "automargin": true,
           "zerolinewidth": 2
          },
          "scene": {
           "xaxis": {
            "backgroundcolor": "rgb(17,17,17)",
            "gridcolor": "#506784",
            "linecolor": "#506784",
            "showbackground": true,
            "ticks": "",
            "zerolinecolor": "#C8D4E3",
            "gridwidth": 2
           },
           "yaxis": {
            "backgroundcolor": "rgb(17,17,17)",
            "gridcolor": "#506784",
            "linecolor": "#506784",
            "showbackground": true,
            "ticks": "",
            "zerolinecolor": "#C8D4E3",
            "gridwidth": 2
           },
           "zaxis": {
            "backgroundcolor": "rgb(17,17,17)",
            "gridcolor": "#506784",
            "linecolor": "#506784",
            "showbackground": true,
            "ticks": "",
            "zerolinecolor": "#C8D4E3",
            "gridwidth": 2
           }
          },
          "shapedefaults": {
           "line": {
            "color": "#f2f5fa"
           }
          },
          "annotationdefaults": {
           "arrowcolor": "#f2f5fa",
           "arrowhead": 0,
           "arrowwidth": 1
          },
          "geo": {
           "bgcolor": "rgb(17,17,17)",
           "landcolor": "rgb(17,17,17)",
           "subunitcolor": "#506784",
           "showland": true,
           "showlakes": true,
           "lakecolor": "rgb(17,17,17)"
          },
          "title": {
           "x": 0.05
          },
          "updatemenudefaults": {
           "bgcolor": "#506784",
           "borderwidth": 0
          },
          "sliderdefaults": {
           "bgcolor": "#C8D4E3",
           "borderwidth": 1,
           "bordercolor": "rgb(17,17,17)",
           "tickwidth": 0
          },
          "mapbox": {
           "style": "dark"
          }
         }
        },
        "xaxis": {
         "anchor": "y",
         "domain": [
          0.0,
          1.0
         ],
         "title": {
          "text": "run_id"
         }
        },
        "yaxis": {
         "anchor": "x",
         "domain": [
          0.0,
          1.0
         ],
         "title": {
          "text": "value"
         }
        },
        "legend": {
         "title": {
          "text": "pathology"
         },
         "tracegroupgap": 0
        },
        "title": {
         "text": "Effect significance"
        }
       },
       "config": {
        "plotlyServerURL": "https://plot.ly"
       }
      },
      "text/html": "<div>                            <div id=\"f9da41c3-bf41-46fe-b0f4-8084273c2bfa\" class=\"plotly-graph-div\" style=\"height:525px; width:100%;\"></div>            <script type=\"text/javascript\">                require([\"plotly\"], function(Plotly) {                    window.PLOTLYENV=window.PLOTLYENV || {};                                    if (document.getElementById(\"f9da41c3-bf41-46fe-b0f4-8084273c2bfa\")) {                    Plotly.newPlot(                        \"f9da41c3-bf41-46fe-b0f4-8084273c2bfa\",                        [{\"hovertemplate\":\"pathology=Atelectasis<br>run_id=%{x}<br>value=%{y}<extra></extra>\",\"legendgroup\":\"Atelectasis\",\"line\":{\"color\":\"#636efa\",\"dash\":\"solid\"},\"marker\":{\"symbol\":\"circle\"},\"mode\":\"lines+markers\",\"name\":\"Atelectasis\",\"orientation\":\"h\",\"showlegend\":true,\"x\":[0,1,2,3,4,5,6,7,8,9,10,11,12,13,14,15,16,17,18,19,20],\"xaxis\":\"x\",\"y\":[false,false,false,false,false,false,false,false,false,false,false,false,false,false,false,false,false,false,false,false,false],\"yaxis\":\"y\",\"type\":\"scatter\"},{\"hovertemplate\":\"pathology=Cardiomegaly<br>run_id=%{x}<br>value=%{y}<extra></extra>\",\"legendgroup\":\"Cardiomegaly\",\"line\":{\"color\":\"#EF553B\",\"dash\":\"solid\"},\"marker\":{\"symbol\":\"circle\"},\"mode\":\"lines+markers\",\"name\":\"Cardiomegaly\",\"orientation\":\"h\",\"showlegend\":true,\"x\":[0,1,2,3,4,5,6,7,8,9,10,11,12,13,14,15,16,17,18,19,20],\"xaxis\":\"x\",\"y\":[true,true,true,true,true,true,true,true,true,true,true,true,true,true,true,true,true,true,true,true,true],\"yaxis\":\"y\",\"type\":\"scatter\"},{\"hovertemplate\":\"pathology=Consolidation<br>run_id=%{x}<br>value=%{y}<extra></extra>\",\"legendgroup\":\"Consolidation\",\"line\":{\"color\":\"#00cc96\",\"dash\":\"solid\"},\"marker\":{\"symbol\":\"circle\"},\"mode\":\"lines+markers\",\"name\":\"Consolidation\",\"orientation\":\"h\",\"showlegend\":true,\"x\":[0,1,2,3,4,5,6,7,8,9,10,11,12,13,14,15,16,17,18,19,20],\"xaxis\":\"x\",\"y\":[false,false,false,false,false,false,false,false,false,false,false,false,false,false,false,false,false,false,false,false,false],\"yaxis\":\"y\",\"type\":\"scatter\"},{\"hovertemplate\":\"pathology=Edema<br>run_id=%{x}<br>value=%{y}<extra></extra>\",\"legendgroup\":\"Edema\",\"line\":{\"color\":\"#ab63fa\",\"dash\":\"solid\"},\"marker\":{\"symbol\":\"circle\"},\"mode\":\"lines+markers\",\"name\":\"Edema\",\"orientation\":\"h\",\"showlegend\":true,\"x\":[0,1,2,3,4,5,6,7,8,9,10,11,12,13,14,15,16,17,18,19,20],\"xaxis\":\"x\",\"y\":[false,false,false,false,false,false,false,false,false,false,false,false,false,false,false,false,false,false,false,false,false],\"yaxis\":\"y\",\"type\":\"scatter\"},{\"hovertemplate\":\"pathology=Enlarged_Cardiomediastinum<br>run_id=%{x}<br>value=%{y}<extra></extra>\",\"legendgroup\":\"Enlarged_Cardiomediastinum\",\"line\":{\"color\":\"#FFA15A\",\"dash\":\"solid\"},\"marker\":{\"symbol\":\"circle\"},\"mode\":\"lines+markers\",\"name\":\"Enlarged_Cardiomediastinum\",\"orientation\":\"h\",\"showlegend\":true,\"x\":[0,1,2,3,4,5,6,7,8,9,10,11,12,13,14,15,16,17,18,19,20],\"xaxis\":\"x\",\"y\":[false,false,false,false,false,false,false,false,false,false,false,false,false,false,false,false,false,false,false,false,false],\"yaxis\":\"y\",\"type\":\"scatter\"},{\"hovertemplate\":\"pathology=Fracture<br>run_id=%{x}<br>value=%{y}<extra></extra>\",\"legendgroup\":\"Fracture\",\"line\":{\"color\":\"#19d3f3\",\"dash\":\"solid\"},\"marker\":{\"symbol\":\"circle\"},\"mode\":\"lines+markers\",\"name\":\"Fracture\",\"orientation\":\"h\",\"showlegend\":true,\"x\":[0,1,2,3,4,5,6,7,8,9,10,11,12,13,14,15,16,17,18,19,20],\"xaxis\":\"x\",\"y\":[false,false,false,true,true,true,false,true,true,true,true,false,true,true,true,true,true,true,true,true,true],\"yaxis\":\"y\",\"type\":\"scatter\"},{\"hovertemplate\":\"pathology=Lung_Lesion<br>run_id=%{x}<br>value=%{y}<extra></extra>\",\"legendgroup\":\"Lung_Lesion\",\"line\":{\"color\":\"#FF6692\",\"dash\":\"solid\"},\"marker\":{\"symbol\":\"circle\"},\"mode\":\"lines+markers\",\"name\":\"Lung_Lesion\",\"orientation\":\"h\",\"showlegend\":true,\"x\":[0,1,2,3,4,5,6,7,8,9,10,11,12,13,14,15,16,17,18,19,20],\"xaxis\":\"x\",\"y\":[false,false,false,false,false,false,false,false,false,false,false,false,false,false,false,false,false,false,false,false,false],\"yaxis\":\"y\",\"type\":\"scatter\"},{\"hovertemplate\":\"pathology=Lung_Opacity<br>run_id=%{x}<br>value=%{y}<extra></extra>\",\"legendgroup\":\"Lung_Opacity\",\"line\":{\"color\":\"#B6E880\",\"dash\":\"solid\"},\"marker\":{\"symbol\":\"circle\"},\"mode\":\"lines+markers\",\"name\":\"Lung_Opacity\",\"orientation\":\"h\",\"showlegend\":true,\"x\":[0,1,2,3,4,5,6,7,8,9,10,11,12,13,14,15,16,17,18,19,20],\"xaxis\":\"x\",\"y\":[false,false,false,false,false,false,false,false,false,false,false,false,false,false,false,false,false,false,false,false,false],\"yaxis\":\"y\",\"type\":\"scatter\"},{\"hovertemplate\":\"pathology=No_Finding<br>run_id=%{x}<br>value=%{y}<extra></extra>\",\"legendgroup\":\"No_Finding\",\"line\":{\"color\":\"#FF97FF\",\"dash\":\"solid\"},\"marker\":{\"symbol\":\"circle\"},\"mode\":\"lines+markers\",\"name\":\"No_Finding\",\"orientation\":\"h\",\"showlegend\":true,\"x\":[0,1,2,3,4,5,6,7,8,9,10,11,12,13,14,15,16,17,18,19,20],\"xaxis\":\"x\",\"y\":[false,false,false,false,false,false,false,false,false,false,false,false,false,false,false,false,false,false,false,false,false],\"yaxis\":\"y\",\"type\":\"scatter\"},{\"hovertemplate\":\"pathology=Pleural_Effusion<br>run_id=%{x}<br>value=%{y}<extra></extra>\",\"legendgroup\":\"Pleural_Effusion\",\"line\":{\"color\":\"#FECB52\",\"dash\":\"solid\"},\"marker\":{\"symbol\":\"circle\"},\"mode\":\"lines+markers\",\"name\":\"Pleural_Effusion\",\"orientation\":\"h\",\"showlegend\":true,\"x\":[0,1,2,3,4,5,6,7,8,9,10,11,12,13,14,15,16,17,18,19,20],\"xaxis\":\"x\",\"y\":[false,false,false,false,false,false,false,false,false,false,false,false,false,false,false,false,false,false,false,false,false],\"yaxis\":\"y\",\"type\":\"scatter\"},{\"hovertemplate\":\"pathology=Pleural_Other<br>run_id=%{x}<br>value=%{y}<extra></extra>\",\"legendgroup\":\"Pleural_Other\",\"line\":{\"color\":\"#636efa\",\"dash\":\"solid\"},\"marker\":{\"symbol\":\"circle\"},\"mode\":\"lines+markers\",\"name\":\"Pleural_Other\",\"orientation\":\"h\",\"showlegend\":true,\"x\":[0,1,2,3,4,5,6,7,8,9,10,11,12,13,14,15,16,17,18,19,20],\"xaxis\":\"x\",\"y\":[false,false,false,false,false,false,false,false,false,false,false,false,false,false,false,false,false,false,false,false,false],\"yaxis\":\"y\",\"type\":\"scatter\"},{\"hovertemplate\":\"pathology=Pneumonia<br>run_id=%{x}<br>value=%{y}<extra></extra>\",\"legendgroup\":\"Pneumonia\",\"line\":{\"color\":\"#EF553B\",\"dash\":\"solid\"},\"marker\":{\"symbol\":\"circle\"},\"mode\":\"lines+markers\",\"name\":\"Pneumonia\",\"orientation\":\"h\",\"showlegend\":true,\"x\":[0,1,2,3,4,5,6,7,8,9,10,11,12,13,14,15,16,17,18,19,20],\"xaxis\":\"x\",\"y\":[false,false,false,false,false,false,false,false,false,false,false,false,false,false,false,false,false,false,false,false,false],\"yaxis\":\"y\",\"type\":\"scatter\"},{\"hovertemplate\":\"pathology=Pneumothorax<br>run_id=%{x}<br>value=%{y}<extra></extra>\",\"legendgroup\":\"Pneumothorax\",\"line\":{\"color\":\"#00cc96\",\"dash\":\"solid\"},\"marker\":{\"symbol\":\"circle\"},\"mode\":\"lines+markers\",\"name\":\"Pneumothorax\",\"orientation\":\"h\",\"showlegend\":true,\"x\":[0,1,2,3,4,5,6,7,8,9,10,11,12,13,14,15,16,17,18,19,20],\"xaxis\":\"x\",\"y\":[false,false,false,false,false,false,false,false,false,false,false,false,false,false,false,false,false,false,false,false,false],\"yaxis\":\"y\",\"type\":\"scatter\"},{\"hovertemplate\":\"pathology=Support_Devices<br>run_id=%{x}<br>value=%{y}<extra></extra>\",\"legendgroup\":\"Support_Devices\",\"line\":{\"color\":\"#ab63fa\",\"dash\":\"solid\"},\"marker\":{\"symbol\":\"circle\"},\"mode\":\"lines+markers\",\"name\":\"Support_Devices\",\"orientation\":\"h\",\"showlegend\":true,\"x\":[0,1,2,3,4,5,6,7,8,9,10,11,12,13,14,15,16,17,18,19,20],\"xaxis\":\"x\",\"y\":[false,false,false,true,true,true,true,true,true,true,true,true,true,true,true,true,true,true,true,true,true],\"yaxis\":\"y\",\"type\":\"scatter\"}],                        {\"template\":{\"data\":{\"histogram2dcontour\":[{\"type\":\"histogram2dcontour\",\"colorbar\":{\"outlinewidth\":0,\"ticks\":\"\"},\"colorscale\":[[0.0,\"#0d0887\"],[0.1111111111111111,\"#46039f\"],[0.2222222222222222,\"#7201a8\"],[0.3333333333333333,\"#9c179e\"],[0.4444444444444444,\"#bd3786\"],[0.5555555555555556,\"#d8576b\"],[0.6666666666666666,\"#ed7953\"],[0.7777777777777778,\"#fb9f3a\"],[0.8888888888888888,\"#fdca26\"],[1.0,\"#f0f921\"]]}],\"choropleth\":[{\"type\":\"choropleth\",\"colorbar\":{\"outlinewidth\":0,\"ticks\":\"\"}}],\"histogram2d\":[{\"type\":\"histogram2d\",\"colorbar\":{\"outlinewidth\":0,\"ticks\":\"\"},\"colorscale\":[[0.0,\"#0d0887\"],[0.1111111111111111,\"#46039f\"],[0.2222222222222222,\"#7201a8\"],[0.3333333333333333,\"#9c179e\"],[0.4444444444444444,\"#bd3786\"],[0.5555555555555556,\"#d8576b\"],[0.6666666666666666,\"#ed7953\"],[0.7777777777777778,\"#fb9f3a\"],[0.8888888888888888,\"#fdca26\"],[1.0,\"#f0f921\"]]}],\"heatmap\":[{\"type\":\"heatmap\",\"colorbar\":{\"outlinewidth\":0,\"ticks\":\"\"},\"colorscale\":[[0.0,\"#0d0887\"],[0.1111111111111111,\"#46039f\"],[0.2222222222222222,\"#7201a8\"],[0.3333333333333333,\"#9c179e\"],[0.4444444444444444,\"#bd3786\"],[0.5555555555555556,\"#d8576b\"],[0.6666666666666666,\"#ed7953\"],[0.7777777777777778,\"#fb9f3a\"],[0.8888888888888888,\"#fdca26\"],[1.0,\"#f0f921\"]]}],\"heatmapgl\":[{\"type\":\"heatmapgl\",\"colorbar\":{\"outlinewidth\":0,\"ticks\":\"\"},\"colorscale\":[[0.0,\"#0d0887\"],[0.1111111111111111,\"#46039f\"],[0.2222222222222222,\"#7201a8\"],[0.3333333333333333,\"#9c179e\"],[0.4444444444444444,\"#bd3786\"],[0.5555555555555556,\"#d8576b\"],[0.6666666666666666,\"#ed7953\"],[0.7777777777777778,\"#fb9f3a\"],[0.8888888888888888,\"#fdca26\"],[1.0,\"#f0f921\"]]}],\"contourcarpet\":[{\"type\":\"contourcarpet\",\"colorbar\":{\"outlinewidth\":0,\"ticks\":\"\"}}],\"contour\":[{\"type\":\"contour\",\"colorbar\":{\"outlinewidth\":0,\"ticks\":\"\"},\"colorscale\":[[0.0,\"#0d0887\"],[0.1111111111111111,\"#46039f\"],[0.2222222222222222,\"#7201a8\"],[0.3333333333333333,\"#9c179e\"],[0.4444444444444444,\"#bd3786\"],[0.5555555555555556,\"#d8576b\"],[0.6666666666666666,\"#ed7953\"],[0.7777777777777778,\"#fb9f3a\"],[0.8888888888888888,\"#fdca26\"],[1.0,\"#f0f921\"]]}],\"surface\":[{\"type\":\"surface\",\"colorbar\":{\"outlinewidth\":0,\"ticks\":\"\"},\"colorscale\":[[0.0,\"#0d0887\"],[0.1111111111111111,\"#46039f\"],[0.2222222222222222,\"#7201a8\"],[0.3333333333333333,\"#9c179e\"],[0.4444444444444444,\"#bd3786\"],[0.5555555555555556,\"#d8576b\"],[0.6666666666666666,\"#ed7953\"],[0.7777777777777778,\"#fb9f3a\"],[0.8888888888888888,\"#fdca26\"],[1.0,\"#f0f921\"]]}],\"mesh3d\":[{\"type\":\"mesh3d\",\"colorbar\":{\"outlinewidth\":0,\"ticks\":\"\"}}],\"scatter\":[{\"marker\":{\"line\":{\"color\":\"#283442\"}},\"type\":\"scatter\"}],\"parcoords\":[{\"type\":\"parcoords\",\"line\":{\"colorbar\":{\"outlinewidth\":0,\"ticks\":\"\"}}}],\"scatterpolargl\":[{\"type\":\"scatterpolargl\",\"marker\":{\"colorbar\":{\"outlinewidth\":0,\"ticks\":\"\"}}}],\"bar\":[{\"error_x\":{\"color\":\"#f2f5fa\"},\"error_y\":{\"color\":\"#f2f5fa\"},\"marker\":{\"line\":{\"color\":\"rgb(17,17,17)\",\"width\":0.5},\"pattern\":{\"fillmode\":\"overlay\",\"size\":10,\"solidity\":0.2}},\"type\":\"bar\"}],\"scattergeo\":[{\"type\":\"scattergeo\",\"marker\":{\"colorbar\":{\"outlinewidth\":0,\"ticks\":\"\"}}}],\"scatterpolar\":[{\"type\":\"scatterpolar\",\"marker\":{\"colorbar\":{\"outlinewidth\":0,\"ticks\":\"\"}}}],\"histogram\":[{\"marker\":{\"pattern\":{\"fillmode\":\"overlay\",\"size\":10,\"solidity\":0.2}},\"type\":\"histogram\"}],\"scattergl\":[{\"marker\":{\"line\":{\"color\":\"#283442\"}},\"type\":\"scattergl\"}],\"scatter3d\":[{\"type\":\"scatter3d\",\"line\":{\"colorbar\":{\"outlinewidth\":0,\"ticks\":\"\"}},\"marker\":{\"colorbar\":{\"outlinewidth\":0,\"ticks\":\"\"}}}],\"scattermapbox\":[{\"type\":\"scattermapbox\",\"marker\":{\"colorbar\":{\"outlinewidth\":0,\"ticks\":\"\"}}}],\"scatterternary\":[{\"type\":\"scatterternary\",\"marker\":{\"colorbar\":{\"outlinewidth\":0,\"ticks\":\"\"}}}],\"scattercarpet\":[{\"type\":\"scattercarpet\",\"marker\":{\"colorbar\":{\"outlinewidth\":0,\"ticks\":\"\"}}}],\"carpet\":[{\"aaxis\":{\"endlinecolor\":\"#A2B1C6\",\"gridcolor\":\"#506784\",\"linecolor\":\"#506784\",\"minorgridcolor\":\"#506784\",\"startlinecolor\":\"#A2B1C6\"},\"baxis\":{\"endlinecolor\":\"#A2B1C6\",\"gridcolor\":\"#506784\",\"linecolor\":\"#506784\",\"minorgridcolor\":\"#506784\",\"startlinecolor\":\"#A2B1C6\"},\"type\":\"carpet\"}],\"table\":[{\"cells\":{\"fill\":{\"color\":\"#506784\"},\"line\":{\"color\":\"rgb(17,17,17)\"}},\"header\":{\"fill\":{\"color\":\"#2a3f5f\"},\"line\":{\"color\":\"rgb(17,17,17)\"}},\"type\":\"table\"}],\"barpolar\":[{\"marker\":{\"line\":{\"color\":\"rgb(17,17,17)\",\"width\":0.5},\"pattern\":{\"fillmode\":\"overlay\",\"size\":10,\"solidity\":0.2}},\"type\":\"barpolar\"}],\"pie\":[{\"automargin\":true,\"type\":\"pie\"}]},\"layout\":{\"autotypenumbers\":\"strict\",\"colorway\":[\"#636efa\",\"#EF553B\",\"#00cc96\",\"#ab63fa\",\"#FFA15A\",\"#19d3f3\",\"#FF6692\",\"#B6E880\",\"#FF97FF\",\"#FECB52\"],\"font\":{\"color\":\"#f2f5fa\"},\"hovermode\":\"closest\",\"hoverlabel\":{\"align\":\"left\"},\"paper_bgcolor\":\"rgb(17,17,17)\",\"plot_bgcolor\":\"rgb(17,17,17)\",\"polar\":{\"bgcolor\":\"rgb(17,17,17)\",\"angularaxis\":{\"gridcolor\":\"#506784\",\"linecolor\":\"#506784\",\"ticks\":\"\"},\"radialaxis\":{\"gridcolor\":\"#506784\",\"linecolor\":\"#506784\",\"ticks\":\"\"}},\"ternary\":{\"bgcolor\":\"rgb(17,17,17)\",\"aaxis\":{\"gridcolor\":\"#506784\",\"linecolor\":\"#506784\",\"ticks\":\"\"},\"baxis\":{\"gridcolor\":\"#506784\",\"linecolor\":\"#506784\",\"ticks\":\"\"},\"caxis\":{\"gridcolor\":\"#506784\",\"linecolor\":\"#506784\",\"ticks\":\"\"}},\"coloraxis\":{\"colorbar\":{\"outlinewidth\":0,\"ticks\":\"\"}},\"colorscale\":{\"sequential\":[[0.0,\"#0d0887\"],[0.1111111111111111,\"#46039f\"],[0.2222222222222222,\"#7201a8\"],[0.3333333333333333,\"#9c179e\"],[0.4444444444444444,\"#bd3786\"],[0.5555555555555556,\"#d8576b\"],[0.6666666666666666,\"#ed7953\"],[0.7777777777777778,\"#fb9f3a\"],[0.8888888888888888,\"#fdca26\"],[1.0,\"#f0f921\"]],\"sequentialminus\":[[0.0,\"#0d0887\"],[0.1111111111111111,\"#46039f\"],[0.2222222222222222,\"#7201a8\"],[0.3333333333333333,\"#9c179e\"],[0.4444444444444444,\"#bd3786\"],[0.5555555555555556,\"#d8576b\"],[0.6666666666666666,\"#ed7953\"],[0.7777777777777778,\"#fb9f3a\"],[0.8888888888888888,\"#fdca26\"],[1.0,\"#f0f921\"]],\"diverging\":[[0,\"#8e0152\"],[0.1,\"#c51b7d\"],[0.2,\"#de77ae\"],[0.3,\"#f1b6da\"],[0.4,\"#fde0ef\"],[0.5,\"#f7f7f7\"],[0.6,\"#e6f5d0\"],[0.7,\"#b8e186\"],[0.8,\"#7fbc41\"],[0.9,\"#4d9221\"],[1,\"#276419\"]]},\"xaxis\":{\"gridcolor\":\"#283442\",\"linecolor\":\"#506784\",\"ticks\":\"\",\"title\":{\"standoff\":15},\"zerolinecolor\":\"#283442\",\"automargin\":true,\"zerolinewidth\":2},\"yaxis\":{\"gridcolor\":\"#283442\",\"linecolor\":\"#506784\",\"ticks\":\"\",\"title\":{\"standoff\":15},\"zerolinecolor\":\"#283442\",\"automargin\":true,\"zerolinewidth\":2},\"scene\":{\"xaxis\":{\"backgroundcolor\":\"rgb(17,17,17)\",\"gridcolor\":\"#506784\",\"linecolor\":\"#506784\",\"showbackground\":true,\"ticks\":\"\",\"zerolinecolor\":\"#C8D4E3\",\"gridwidth\":2},\"yaxis\":{\"backgroundcolor\":\"rgb(17,17,17)\",\"gridcolor\":\"#506784\",\"linecolor\":\"#506784\",\"showbackground\":true,\"ticks\":\"\",\"zerolinecolor\":\"#C8D4E3\",\"gridwidth\":2},\"zaxis\":{\"backgroundcolor\":\"rgb(17,17,17)\",\"gridcolor\":\"#506784\",\"linecolor\":\"#506784\",\"showbackground\":true,\"ticks\":\"\",\"zerolinecolor\":\"#C8D4E3\",\"gridwidth\":2}},\"shapedefaults\":{\"line\":{\"color\":\"#f2f5fa\"}},\"annotationdefaults\":{\"arrowcolor\":\"#f2f5fa\",\"arrowhead\":0,\"arrowwidth\":1},\"geo\":{\"bgcolor\":\"rgb(17,17,17)\",\"landcolor\":\"rgb(17,17,17)\",\"subunitcolor\":\"#506784\",\"showland\":true,\"showlakes\":true,\"lakecolor\":\"rgb(17,17,17)\"},\"title\":{\"x\":0.05},\"updatemenudefaults\":{\"bgcolor\":\"#506784\",\"borderwidth\":0},\"sliderdefaults\":{\"bgcolor\":\"#C8D4E3\",\"borderwidth\":1,\"bordercolor\":\"rgb(17,17,17)\",\"tickwidth\":0},\"mapbox\":{\"style\":\"dark\"}}},\"xaxis\":{\"anchor\":\"y\",\"domain\":[0.0,1.0],\"title\":{\"text\":\"run_id\"}},\"yaxis\":{\"anchor\":\"x\",\"domain\":[0.0,1.0],\"title\":{\"text\":\"value\"}},\"legend\":{\"title\":{\"text\":\"pathology\"},\"tracegroupgap\":0},\"title\":{\"text\":\"Effect significance\"}},                        {\"responsive\": true}                    ).then(function(){\n                            \nvar gd = document.getElementById('f9da41c3-bf41-46fe-b0f4-8084273c2bfa');\nvar x = new MutationObserver(function (mutations, observer) {{\n        var display = window.getComputedStyle(gd).display;\n        if (!display || display === 'none') {{\n            console.log([gd, 'removed!']);\n            Plotly.purge(gd);\n            observer.disconnect();\n        }}\n}});\n\n// Listen for the removal of the full notebook cells\nvar notebookContainer = gd.closest('#notebook-container');\nif (notebookContainer) {{\n    x.observe(notebookContainer, {childList: true});\n}}\n\n// Listen for the clearing of the current output cell\nvar outputEl = gd.closest('.output');\nif (outputEl) {{\n    x.observe(outputEl, {childList: true});\n}}\n\n                        })                };                });            </script>        </div>"
     },
     "metadata": {},
     "output_type": "display_data"
    }
   ],
   "source": [
    "fig = px.line(df_plot_is_significant, x=df_plot_is_significant.index, y=df_plot_is_significant.columns, markers=True,\n",
    "              title=\"Effect significance\")\n",
    "fig.show()"
   ],
   "metadata": {
    "collapsed": false,
    "ExecuteTime": {
     "end_time": "2024-01-05T20:48:53.434050723Z",
     "start_time": "2024-01-05T20:48:53.357372960Z"
    }
   },
   "id": "fc7ab2239663bfdb"
  },
  {
   "cell_type": "code",
   "execution_count": 32,
   "outputs": [
    {
     "data": {
      "text/plain": "<Figure size 1200x480 with 1 Axes>",
      "image/png": "[encoded data removed]"
     },
     "metadata": {},
     "output_type": "display_data"
    }
   ],
   "source": [
    "# with plt.style.context(['science','no-latex']):\n",
    "fig = plt.figure(figsize=(15, 6))\n",
    "plt.xlim(0, df_plot_p_value.index[-1])\n",
    "ax = plt.subplot(111)\n",
    "ax.set_yscale('log')\n",
    "# df_plot_p_value.plot().legend(loc=\"lower left\")\n",
    "for e in df_plot_p_value.columns:\n",
    "    ax.plot(df_plot_p_value.index, df_plot_p_value[e], label=e)\n",
    "ax.hlines(y=0.05, xmin=0, xmax=df_plot_p_value.index[-1], linewidth=2, color='r', linestyles='--', label=\"p-value 0.05\")\n",
    "plt.xlabel(\"confounders (clinical information)\")\n",
    "plt.ylabel(\"p-value\")\n",
    "# Shrink current axis by 20%\n",
    "box = ax.get_position()\n",
    "ax.set_position([box.x0, box.y0, box.width * 0.8, box.height])\n",
    "\n",
    "# Put a legend to the right of the current axis\n",
    "ax.legend(loc='center left', bbox_to_anchor=(1, 0.5))\n",
    "plt.savefig(\n",
    "    # f\"C:/Users/mjantscher/PycharmProjects/PhD/mimiciv/src/propensity_score_matching/plots/log_reg_0_all_pvalue.png\")\n",
    "    # f\"C:/Users/mjantscher/PycharmProjects/PhD/mimiciv/src/propensity_score_matching/plots/log_reg_0_pvalue.png\")\n",
    "    # f\"/home/mijantscher/PycharmProjects/mimiciv/src/propensity_score_matching/plots/log_reg_486_j189_all_pvalue.png\")\n",
    "    f\"/home/mijantscher/PycharmProjects/mimiciv/src/propensity_score_matching/plots/log_reg_807_s22_all_pvalue.png\")\n",
    "plt.show()"
   ],
   "metadata": {
    "collapsed": false,
    "ExecuteTime": {
     "end_time": "2024-01-05T20:49:00.429966806Z",
     "start_time": "2024-01-05T20:49:00.004117197Z"
    }
   },
   "id": "408fef9f93e69386"
  },
  {
   "cell_type": "code",
   "execution_count": 33,
   "outputs": [
    {
     "data": {
      "text/plain": "<Figure size 1200x480 with 1 Axes>",
      "image/png": "[encoded data removed]"
     },
     "metadata": {},
     "output_type": "display_data"
    }
   ],
   "source": [
    "def binary_data(data, yshift=0):\n",
    "    return [yshift] + [yshift + 1 if x == True else yshift for x in data] + [yshift]\n",
    "\n",
    "\n",
    "fig = plt.figure(figsize=(15, 6))\n",
    "plt.ylim(-0.5, 12)\n",
    "plt.xlim(-1.5, df_plot_is_significant.index[-1] + 1)\n",
    "plt.xticks(rotation=-90)\n",
    "\n",
    "ax = plt.subplot(111)\n",
    "ax.set_xticks(list(df_plot_is_significant.index.values))\n",
    "ax.set_yticklabels([])\n",
    "ax.grid(axis=\"x\")\n",
    "# df_plot_p_value.plot().legend(loc=\"lower left\")\n",
    "for shift, e in enumerate(df_plot_is_significant[\n",
    "                              [\"Cardiomegaly\", \"Support_Devices\", \"Fracture\"]]):\n",
    "    # if e not in [\"Atelectasis\", \"Cardiomegaly\", \"Lung_Opacity\", \"Pleural_Effusion\", \"Pneumonia\", \"Pneumothorax\"]:\n",
    "    #     continue\n",
    "    # ax.plot(df_plot_is_significant.index, df_plot_is_significant[e], label=e)\n",
    "    bindata = binary_data(df_plot_is_significant[e], 2 * shift)\n",
    "    last_x_value = df_plot_is_significant.index.values[len(df_plot_is_significant.index.values) - 1] + 1\n",
    "    ax.step([-1] + list(df_plot_is_significant.index.values) + [last_x_value], bindata, where=\"mid\", label=e)\n",
    "plt.xlabel(\"confounders (clinical information)\")\n",
    "plt.ylabel(\"is effect significant (yes/no)\")\n",
    "# Shrink current axis by 20%\n",
    "box = ax.get_position()\n",
    "ax.set_position([box.x0, box.y0, box.width * 0.8, box.height])\n",
    "\n",
    "# Put a legend to the right of the current axis\n",
    "ax.legend(loc='center left', bbox_to_anchor=(1, 0.5))\n",
    "plt.savefig(\n",
    "    # f\"C:/Users/mjantscher/PycharmProjects/PhD/mimiciv/src/propensity_score_matching/plots/log_reg_0_all_significance.png\")\n",
    "    # f\"/home/mijantscher/PycharmProjects/mimiciv/src/propensity_score_matching/plots/log_reg_486_j189_all_significance.png\")\n",
    "    f\"/home/mijantscher/PycharmProjects/mimiciv/src/propensity_score_matching/plots/log_reg_807_s22_all_significance.png\")\n",
    "plt.show()"
   ],
   "metadata": {
    "collapsed": false,
    "ExecuteTime": {
     "end_time": "2024-01-05T20:49:05.823921781Z",
     "start_time": "2024-01-05T20:49:05.647216982Z"
    }
   },
   "id": "1542eb25758f2dbd"
  }
 ],
 "metadata": {
  "kernelspec": {
   "display_name": "Python 3",
   "language": "python",
   "name": "python3"
  },
  "language_info": {
   "codemirror_mode": {
    "name": "ipython",
    "version": 2
   },
   "file_extension": ".py",
   "mimetype": "text/x-python",
   "name": "python",
   "nbconvert_exporter": "python",
   "pygments_lexer": "ipython2",
   "version": "2.7.6"
  }
 },
 "nbformat": 4,
 "nbformat_minor": 5
}
